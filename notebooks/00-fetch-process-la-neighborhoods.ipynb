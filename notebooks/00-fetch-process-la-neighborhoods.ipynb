{
 "cells": [
  {
   "cell_type": "markdown",
   "id": "3c6450b0-4785-4672-9704-10932d9ea021",
   "metadata": {},
   "source": [
    "# Los Angeles neighborhoods\n",
    "> This notebook looks at the city's unique boundaries, [drawn by the Los Angeles Times](https://github.com/datadesk/boundaries.latimes.com). These areas don't directly correspond to U.S. Census Bureau geographies, but population estimates have been derived from block-level data by the Times and others. These estimates [have been archived and released](https://censusreporter.org/user_geo/12895e183b0c022d5a527c612ce72865/) by Census Reporter, an independent project seeking to make the bureau's products easier to use."
   ]
  },
  {
   "cell_type": "markdown",
   "id": "0651cee8-2c25-410e-ba6c-6af35dc452ba",
   "metadata": {},
   "source": [
    "---"
   ]
  },
  {
   "cell_type": "markdown",
   "id": "2cd6a4cf-3892-4cc9-97de-84f87dc86d7d",
   "metadata": {},
   "source": [
    "#### Load Python tools and Jupyter config"
   ]
  },
  {
   "cell_type": "code",
   "execution_count": 1,
   "id": "a82ee813-63ef-4757-b212-9173b3411bfb",
   "metadata": {},
   "outputs": [],
   "source": [
    "import json\n",
    "import pandas as pd\n",
    "import altair as alt\n",
    "import jupyter_black\n",
    "import geopandas as gpd"
   ]
  },
  {
   "cell_type": "code",
   "execution_count": 2,
   "id": "3ef9eefb-2887-4a07-995d-eb12d1dd251d",
   "metadata": {},
   "outputs": [
    {
     "data": {
      "text/html": [
       "\n",
       "                <script type=\"application/javascript\" id=\"jupyter_black\">\n",
       "                (function() {\n",
       "                    if (window.IPython === undefined) {\n",
       "                        return\n",
       "                    }\n",
       "                    var msg = \"WARNING: it looks like you might have loaded \" +\n",
       "                        \"jupyter_black in a non-lab notebook with \" +\n",
       "                        \"`is_lab=True`. Please double check, and if \" +\n",
       "                        \"loading with `%load_ext` please review the README!\"\n",
       "                    console.log(msg)\n",
       "                    alert(msg)\n",
       "                })()\n",
       "                </script>\n",
       "                "
      ],
      "text/plain": [
       "<IPython.core.display.HTML object>"
      ]
     },
     "metadata": {},
     "output_type": "display_data"
    },
    {
     "data": {
      "text/plain": [
       "DataTransformerRegistry.enable('default')"
      ]
     },
     "execution_count": 2,
     "metadata": {},
     "output_type": "execute_result"
    }
   ],
   "source": [
    "jupyter_black.load()\n",
    "pd.options.display.max_columns = 100\n",
    "pd.options.display.max_rows = 1000\n",
    "alt.data_transformers.disable_max_rows()"
   ]
  },
  {
   "cell_type": "markdown",
   "id": "18df54c6-5362-4f8a-a63f-05bd5ffa63d9",
   "metadata": {},
   "source": [
    "---"
   ]
  },
  {
   "cell_type": "markdown",
   "id": "3bbfd20b-7936-4f21-a091-697fca808ab1",
   "metadata": {},
   "source": [
    "## Read data"
   ]
  },
  {
   "cell_type": "markdown",
   "id": "1f5ad13e-5593-4e7c-b997-6481207f508b",
   "metadata": {},
   "source": [
    "#### Import geojson file with boundaries, with selected race categories, and clean up column names"
   ]
  },
  {
   "cell_type": "code",
   "execution_count": 3,
   "id": "96b76ac4-d15e-4a05-93fd-bdff02931b44",
   "metadata": {},
   "outputs": [],
   "source": [
    "gdf = gpd.read_file(\"../data/raw/la_neighborhoods_race.geojson\")[\n",
    "    [\n",
    "        \"id\",\n",
    "        \"name\",\n",
    "        \"original_id\",\n",
    "        \"p0010001_2020\",\n",
    "        \"p0010002_2020\",\n",
    "        \"p0010003_2020\",\n",
    "        \"p0010004_2020\",\n",
    "        \"p0010006_2020\",\n",
    "        \"p0010008_2020\",\n",
    "        \"p0010005_2020\",\n",
    "        \"p0010007_2020\",\n",
    "        \"p0010009_2020\",\n",
    "        \"geometry\",\n",
    "    ]\n",
    "].rename(\n",
    "    columns={\n",
    "        \"p0010001_2020\": \"pop\",\n",
    "        \"p0010003_2020\": \"white\",\n",
    "        \"p0010002_2020\": \"pop_one_race\",\n",
    "        \"p0010004_2020\": \"black\",\n",
    "        \"p0010006_2020\": \"asian\",\n",
    "        \"p0010005_2020\": \"ai_an\",\n",
    "        \"p0010007_2020\": \"nh_pi\",\n",
    "        \"p0010008_2020\": \"other\",\n",
    "        \"p0010009_2020\": \"multirace\",\n",
    "    }\n",
    ")"
   ]
  },
  {
   "cell_type": "markdown",
   "id": "21b442a6-02fd-49bb-b322-dc210ce04dc0",
   "metadata": {},
   "source": [
    "---"
   ]
  },
  {
   "cell_type": "markdown",
   "id": "41239819-48fa-46ed-9a43-a552dec43d73",
   "metadata": {},
   "source": [
    "## Categorize"
   ]
  },
  {
   "cell_type": "markdown",
   "id": "1c543e06-e56e-4d9a-9fcb-6662c669ffbf",
   "metadata": {},
   "source": [
    "#### What's the percentage of the population of each race group by neighborhood"
   ]
  },
  {
   "cell_type": "code",
   "execution_count": 4,
   "id": "1db320d5-b01b-49f5-bfd8-4279a8e891ef",
   "metadata": {},
   "outputs": [],
   "source": [
    "numeric_columns = [\n",
    "    \"pop_one_race\",\n",
    "    \"white\",\n",
    "    \"black\",\n",
    "    \"asian\",\n",
    "    \"other\",\n",
    "    \"ai_an\",\n",
    "    \"nh_pi\",\n",
    "    \"multirace\",\n",
    "]"
   ]
  },
  {
   "cell_type": "code",
   "execution_count": 5,
   "id": "8ebc729c-98db-44cf-8378-7d604c6b057d",
   "metadata": {},
   "outputs": [],
   "source": [
    "for col in numeric_columns:\n",
    "    pct_col_name = col + \"_pct\"  # New column name\n",
    "    gdf[pct_col_name] = ((gdf[col] / gdf[\"pop\"]) * 100).round(2)  # Calculate percentage"
   ]
  },
  {
   "cell_type": "markdown",
   "id": "ee6842c2-6005-46df-b17b-ebeb36747854",
   "metadata": {},
   "source": [
    "#### Which race is most common in each neighorhood"
   ]
  },
  {
   "cell_type": "code",
   "execution_count": 6,
   "id": "ea2a540f-c579-4832-8625-1a5602bcf645",
   "metadata": {},
   "outputs": [],
   "source": [
    "race_cols = [\"white\", \"black\", \"asian\", \"other\", \"ai_an\", \"nh_pi\", \"multirace\"]"
   ]
  },
  {
   "cell_type": "markdown",
   "id": "d7417387-46c5-4f35-a56e-f6421140c100",
   "metadata": {},
   "source": [
    "#### Calculate the \"majority\" column"
   ]
  },
  {
   "cell_type": "code",
   "execution_count": 7,
   "id": "30ea9c28-170a-4b7b-8e9e-1224276cb9ae",
   "metadata": {},
   "outputs": [],
   "source": [
    "def calculate_majority(row):\n",
    "    # Extract the race columns for this row and find the max value(s)\n",
    "    race_values = row[race_cols]\n",
    "    max_value = race_values.max()\n",
    "    # Identify all races that have the max value (handling ties)\n",
    "    majority_races = race_values[race_values == max_value].index.tolist()\n",
    "    # Concatenate them into a single string if there's more than one\n",
    "    return \", \".join(majority_races)\n",
    "\n",
    "\n",
    "gdf[\"majority\"] = gdf.apply(calculate_majority, axis=1)"
   ]
  },
  {
   "cell_type": "markdown",
   "id": "49231081-ac74-4266-a992-ba9980edf1e0",
   "metadata": {},
   "source": [
    "#### Calculate a \"plurality_white\" column"
   ]
  },
  {
   "cell_type": "code",
   "execution_count": 8,
   "id": "2bf3ded6-0d6f-432c-a89b-90db2c0a0c01",
   "metadata": {},
   "outputs": [],
   "source": [
    "def calculate_plurality_white(row):\n",
    "    # Sum of all non-white populations\n",
    "    non_white_sum = sum(row[col] for col in race_cols if col != \"white\")\n",
    "    # Compare \"white\" population to the sum of non-white populations\n",
    "    return row[\"white\"] > non_white_sum\n",
    "\n",
    "\n",
    "gdf[\"plurality_white\"] = gdf.apply(calculate_plurality_white, axis=1)"
   ]
  },
  {
   "cell_type": "markdown",
   "id": "bdfb8806-afcc-46a4-8a2a-ee18572fd7b5",
   "metadata": {},
   "source": [
    "---"
   ]
  },
  {
   "cell_type": "markdown",
   "id": "41af18db-4aeb-4259-a7c1-b52471eb8693",
   "metadata": {},
   "source": [
    "## Exports"
   ]
  },
  {
   "cell_type": "markdown",
   "id": "0a7e139d-a37a-401d-84cd-482c197353ca",
   "metadata": {},
   "source": [
    "#### Reorder columns so geometry is at the end"
   ]
  },
  {
   "cell_type": "code",
   "execution_count": 9,
   "id": "2b5ea23c-c1bc-47ff-80ca-d64e8e765461",
   "metadata": {},
   "outputs": [],
   "source": [
    "cols_except_geometry = [col for col in gdf.columns if col != \"geometry\"]\n",
    "new_column_order = cols_except_geometry + [\"geometry\"]\n",
    "gdf = gdf[new_column_order]"
   ]
  },
  {
   "cell_type": "markdown",
   "id": "eb8769bc-1de1-40d0-9b7b-4892893606ee",
   "metadata": {},
   "source": [
    "#### GeoJSON"
   ]
  },
  {
   "cell_type": "code",
   "execution_count": 10,
   "id": "3aaff910-d7a8-4b73-acdf-6b49e09bbe2f",
   "metadata": {},
   "outputs": [],
   "source": [
    "gdf.to_file(\n",
    "    \"../data/processed/la_neigborhoods_pop_race.geojson\",\n",
    "    driver=\"GeoJSON\",\n",
    ")"
   ]
  }
 ],
 "metadata": {
  "kernelspec": {
   "display_name": "Python 3 (ipykernel)",
   "language": "python",
   "name": "python3"
  },
  "language_info": {
   "codemirror_mode": {
    "name": "ipython",
    "version": 3
   },
   "file_extension": ".py",
   "mimetype": "text/x-python",
   "name": "python",
   "nbconvert_exporter": "python",
   "pygments_lexer": "ipython3",
   "version": "3.10.13"
  }
 },
 "nbformat": 4,
 "nbformat_minor": 5
}
