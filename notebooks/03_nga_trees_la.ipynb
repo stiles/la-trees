{
 "cells": [
  {
   "cell_type": "code",
   "execution_count": 35,
   "id": "81a99e42-0e48-4012-be17-5b807392b577",
   "metadata": {},
   "outputs": [],
   "source": [
    "import os\n",
    "import glob\n",
    "import geopandas as gpd\n",
    "from shapely.ops import unary_union\n",
    "import pandas as pd\n",
    "import numpy as np\n",
    "import jupyter_black"
   ]
  },
  {
   "cell_type": "code",
   "execution_count": 96,
   "id": "5bfa82e3-141d-44e8-9b4f-d9620acff56d",
   "metadata": {},
   "outputs": [],
   "source": [
    "pd.options.display.max_columns = 100\n",
    "pd.options.display.max_rows = 300\n",
    "pd.options.display.max_colwidth = None\n",
    "jupyter_black.load()"
   ]
  },
  {
   "cell_type": "code",
   "execution_count": 4,
   "id": "1711c4b3-466e-4edf-a33f-2de426a030e1",
   "metadata": {},
   "outputs": [],
   "source": [
    "# LA neighborhoods\n",
    "hoods_gdf = gpd.read_file('https://stilesdata.com/gis/la_city_hoods_county_munis.geojson')"
   ]
  },
  {
   "cell_type": "code",
   "execution_count": 74,
   "id": "9208ef6f-7427-4421-8324-7a4f60e2e342",
   "metadata": {},
   "outputs": [],
   "source": [
    "# The trees have cities and LA city neighhoods in the 'name' column. Format LA neighborhoods as \"Los Angeles (Neighborhood)\"\n",
    "hoods_gdf[\"place\"] = np.where(\n",
    "    hoods_gdf[\"city\"] == \"los-angeles\",\n",
    "    \"Los Angeles (\"\n",
    "    + hoods_gdf[\"name\"]\n",
    "    + \")\",  # LA trees get formatted neighborhood label\n",
    "    hoods_gdf[\"name\"],  # Non-LA trees keep their city name from 'name'\n",
    ")"
   ]
  },
  {
   "cell_type": "code",
   "execution_count": 30,
   "id": "c910bdae-8d01-4839-9f98-9c88c481c5d5",
   "metadata": {},
   "outputs": [],
   "source": [
    "# Read the 'trees' layer from the GeoPackage\n",
    "geo_path = \"../data/large/combined_trees.gpkg\"\n",
    "gdf = gpd.read_file(geo_path, layer=\"trees\")\n",
    "gdf.columns = gdf.columns.str.lower()"
   ]
  },
  {
   "cell_type": "code",
   "execution_count": 31,
   "id": "bd0dc57c-9c39-457d-8782-418ed4f04891",
   "metadata": {},
   "outputs": [
    {
     "data": {
      "text/html": [
       "<div>\n",
       "<style scoped>\n",
       "    .dataframe tbody tr th:only-of-type {\n",
       "        vertical-align: middle;\n",
       "    }\n",
       "\n",
       "    .dataframe tbody tr th {\n",
       "        vertical-align: top;\n",
       "    }\n",
       "\n",
       "    .dataframe thead th {\n",
       "        text-align: right;\n",
       "    }\n",
       "</style>\n",
       "<table border=\"1\" class=\"dataframe\">\n",
       "  <thead>\n",
       "    <tr style=\"text-align: right;\">\n",
       "      <th></th>\n",
       "      <th>name</th>\n",
       "      <th>height_m</th>\n",
       "      <th>city</th>\n",
       "      <th>geometry</th>\n",
       "    </tr>\n",
       "  </thead>\n",
       "  <tbody>\n",
       "    <tr>\n",
       "      <th>0</th>\n",
       "      <td>Shadow Hills</td>\n",
       "      <td>5</td>\n",
       "      <td>los-angeles</td>\n",
       "      <td>POINT (-118.36483 34.23694)</td>\n",
       "    </tr>\n",
       "    <tr>\n",
       "      <th>1</th>\n",
       "      <td>Shadow Hills</td>\n",
       "      <td>20</td>\n",
       "      <td>los-angeles</td>\n",
       "      <td>POINT (-118.36263 34.23697)</td>\n",
       "    </tr>\n",
       "    <tr>\n",
       "      <th>2</th>\n",
       "      <td>Shadow Hills</td>\n",
       "      <td>5</td>\n",
       "      <td>los-angeles</td>\n",
       "      <td>POINT (-118.35676 34.23703)</td>\n",
       "    </tr>\n",
       "    <tr>\n",
       "      <th>3</th>\n",
       "      <td>Shadow Hills</td>\n",
       "      <td>5</td>\n",
       "      <td>los-angeles</td>\n",
       "      <td>POINT (-118.3566 34.23703)</td>\n",
       "    </tr>\n",
       "    <tr>\n",
       "      <th>4</th>\n",
       "      <td>Shadow Hills</td>\n",
       "      <td>4</td>\n",
       "      <td>los-angeles</td>\n",
       "      <td>POINT (-118.35352 34.23707)</td>\n",
       "    </tr>\n",
       "  </tbody>\n",
       "</table>\n",
       "</div>"
      ],
      "text/plain": [
       "           name  height_m         city                     geometry\n",
       "0  Shadow Hills         5  los-angeles  POINT (-118.36483 34.23694)\n",
       "1  Shadow Hills        20  los-angeles  POINT (-118.36263 34.23697)\n",
       "2  Shadow Hills         5  los-angeles  POINT (-118.35676 34.23703)\n",
       "3  Shadow Hills         5  los-angeles   POINT (-118.3566 34.23703)\n",
       "4  Shadow Hills         4  los-angeles  POINT (-118.35352 34.23707)"
      ]
     },
     "execution_count": 31,
     "metadata": {},
     "output_type": "execute_result"
    }
   ],
   "source": [
    "gdf.head()"
   ]
  },
  {
   "cell_type": "code",
   "execution_count": 32,
   "id": "56fd890c-5d1b-4b1e-b1b6-181f1c87d518",
   "metadata": {},
   "outputs": [],
   "source": [
    "# The trees have cities and LA city neighhoods in the 'name' column. Format LA neighborhoods as \"Los Angeles (Neighborhood)\"\n",
    "gdf[\"place\"] = np.where(\n",
    "    gdf[\"city\"] == \"los-angeles\",\n",
    "    \"Los Angeles (\" + gdf[\"name\"] + \")\",  # LA trees get formatted neighborhood label\n",
    "    gdf[\"name\"],  # Non-LA trees keep their city name from 'name'\n",
    ")"
   ]
  },
  {
   "cell_type": "code",
   "execution_count": 39,
   "id": "8f0d2c34-4960-45f3-af07-f8957ad88c27",
   "metadata": {},
   "outputs": [],
   "source": [
    "# What's the extent of the lidar coverage?\n",
    "tree_coverage_boundary = gdf.unary_union.convex_hull"
   ]
  },
  {
   "cell_type": "code",
   "execution_count": 75,
   "id": "1c6f5f3d-1a2f-4ac3-9f2f-bbf3d383c45c",
   "metadata": {},
   "outputs": [],
   "source": [
    "# Choose a projected CRS suitable for LA (California Albers)\n",
    "proj_crs = \"EPSG:3310\"\n",
    "\n",
    "# Reproject neighborhoods and tree boundary for accurate area calculations\n",
    "hoods_proj = hoods_gdf.to_crs(proj_crs)\n",
    "tree_boundary_proj = (\n",
    "    gpd.GeoSeries([tree_coverage_boundary], crs=gdf.crs).to_crs(proj_crs).iloc[0]\n",
    ")\n",
    "\n",
    "# Calculate intersection and total areas in square meters\n",
    "hoods_proj[\"intersection_area\"] = hoods_proj.geometry.intersection(\n",
    "    tree_boundary_proj\n",
    ").area\n",
    "hoods_proj[\"total_area\"] = hoods_proj.geometry.area\n",
    "\n",
    "# Compute the share of each neighborhood covered by lidar\n",
    "hoods_proj[\"coverage_share\"] = round(\n",
    "    (hoods_proj[\"intersection_area\"] / hoods_proj[\"total_area\"]) * 100, 2\n",
    ")"
   ]
  },
  {
   "cell_type": "code",
   "execution_count": 98,
   "id": "2cc30cc4-dbb2-4a12-9360-9b7d7c27e845",
   "metadata": {},
   "outputs": [],
   "source": [
    "# Define conversion: 1 sq meter = 1/2,589,988.110336 sq miles\n",
    "conversion_factor = 1 / 2589988.110336\n",
    "# Compute area in square miles for each neighborhood\n",
    "hoods_proj[\"area_sq_miles\"] = hoods_proj[\"total_area\"] * conversion_factor"
   ]
  },
  {
   "cell_type": "code",
   "execution_count": 105,
   "id": "75fc9be8-78cd-4555-9d4e-a127841e0cb1",
   "metadata": {},
   "outputs": [],
   "source": [
    "hoods_w_full_tree_coverage = (\n",
    "    hoods_proj.query(\"coverage_share == 100\").sort_values(\"place\").copy()\n",
    ")"
   ]
  },
  {
   "cell_type": "code",
   "execution_count": 112,
   "id": "3a74874c-ad5e-4ce9-ba38-a8c3beec76c9",
   "metadata": {},
   "outputs": [],
   "source": [
    "hoods_w_full_tree_coverage_list = hoods_w_full_tree_coverage[\"place\"].to_list()"
   ]
  },
  {
   "cell_type": "code",
   "execution_count": 107,
   "id": "8dfbe5c3-cb43-49b0-8edd-b939bbe4e6e7",
   "metadata": {},
   "outputs": [],
   "source": [
    "trees_w_hoods_gdf = gdf.query(f\"place.isin({hoods_w_full_tree_coverage_list})\").copy()"
   ]
  },
  {
   "cell_type": "code",
   "execution_count": 122,
   "id": "8df2768d-a69a-4cde-a9b0-7642942df39b",
   "metadata": {},
   "outputs": [],
   "source": []
  },
  {
   "cell_type": "code",
   "execution_count": null,
   "id": "ed412892-e642-4837-98e2-f0f3d68c14a8",
   "metadata": {},
   "outputs": [],
   "source": []
  },
  {
   "cell_type": "code",
   "execution_count": 152,
   "id": "ecd5ba01-1d68-463d-8439-c1c34883bf51",
   "metadata": {},
   "outputs": [],
   "source": [
    "hoods_lookup = hoods_proj.set_index(\"place\")[\"area_sq_miles\"].round(2).to_dict()\n",
    "\n",
    "place_tree_counts = (\n",
    "    trees_w_hoods_gdf.groupby(\"place\")\n",
    "    .agg({\"name\": \"count\"})\n",
    "    .reset_index()\n",
    "    .rename(columns={\"name\": \"count\"})\n",
    "    .sort_values(\"count\", ascending=False)\n",
    ").reset_index(drop=True)\n",
    "\n",
    "place_tree_counts[\"area_sq_miles\"] = place_tree_counts[\"place\"].map(hoods_lookup)\n",
    "\n",
    "place_tree_counts[\"trees_per_sq_mile\"] = round(\n",
    "    place_tree_counts[\"count\"] / place_tree_counts[\"area_sq_miles\"], 2\n",
    ")"
   ]
  },
  {
   "cell_type": "code",
   "execution_count": 153,
   "id": "54728ddd-c727-4615-871c-5afe8cd6b414",
   "metadata": {},
   "outputs": [],
   "source": [
    "place_tree_counts = place_tree_counts.sort_values(\"trees_per_sq_mile\", ascending=False)"
   ]
  },
  {
   "cell_type": "code",
   "execution_count": 156,
   "id": "fee175bc-44d2-4c0d-bdf9-d58b0289d809",
   "metadata": {},
   "outputs": [],
   "source": [
    "density_lookup = (\n",
    "    place_tree_counts.set_index(\"place\")[\"trees_per_sq_mile\"].round(2).to_dict()\n",
    ")"
   ]
  },
  {
   "cell_type": "code",
   "execution_count": 158,
   "id": "63059200-bfd2-4705-9c9a-61b45505fe2f",
   "metadata": {},
   "outputs": [],
   "source": [
    "hoods_gdf[\"trees_per_sqmi\"] = hoods_gdf[\"place\"].map(density_lookup)"
   ]
  },
  {
   "cell_type": "code",
   "execution_count": 162,
   "id": "83b56375-9003-4f67-bb46-f9feb4e3029b",
   "metadata": {},
   "outputs": [
    {
     "data": {
      "text/plain": [
       "Index(['name', 'slug', 'county', 'type', 'city', 'region', 'geometry',\n",
       "       'intersection_area', 'total_area', 'coverage_share', 'place',\n",
       "       'trees_per_sqmi'],\n",
       "      dtype='object')"
      ]
     },
     "execution_count": 162,
     "metadata": {},
     "output_type": "execute_result"
    }
   ],
   "source": []
  },
  {
   "cell_type": "code",
   "execution_count": null,
   "id": "64ed4cde-1f3c-4779-827b-21ed6fc9cfb3",
   "metadata": {},
   "outputs": [],
   "source": []
  },
  {
   "cell_type": "code",
   "execution_count": 4,
   "id": "2909bde1-b683-4598-9785-b6215ca630b5",
   "metadata": {},
   "outputs": [],
   "source": []
  },
  {
   "cell_type": "code",
   "execution_count": 4,
   "id": "3be6b7a1-2035-48cc-b9f5-c5a415bc91fe",
   "metadata": {},
   "outputs": [],
   "source": []
  },
  {
   "cell_type": "code",
   "execution_count": 4,
   "id": "dd95210b-f1ae-4418-a176-9d2b7f758100",
   "metadata": {},
   "outputs": [],
   "source": []
  },
  {
   "cell_type": "code",
   "execution_count": 6,
   "id": "06efcbd3-1ebc-4249-9b31-ac4882f37923",
   "metadata": {},
   "outputs": [],
   "source": []
  },
  {
   "cell_type": "code",
   "execution_count": 6,
   "id": "6bbcc3bf-bdbd-47a3-aa98-0bc2a6356a3e",
   "metadata": {},
   "outputs": [],
   "source": []
  },
  {
   "cell_type": "code",
   "execution_count": 6,
   "id": "847774d5-5fea-4e5a-a844-9d9de80e7840",
   "metadata": {},
   "outputs": [],
   "source": []
  },
  {
   "cell_type": "code",
   "execution_count": 6,
   "id": "dfca2d54-4efa-42ee-ac81-118d13643307",
   "metadata": {},
   "outputs": [],
   "source": []
  },
  {
   "cell_type": "code",
   "execution_count": 6,
   "id": "199df763-2403-4257-a352-04e441d255c8",
   "metadata": {},
   "outputs": [],
   "source": []
  },
  {
   "cell_type": "code",
   "execution_count": 6,
   "id": "e7f0cc83-30ce-46ef-91d2-f7bcf7ff09dd",
   "metadata": {},
   "outputs": [],
   "source": []
  },
  {
   "cell_type": "code",
   "execution_count": 6,
   "id": "cf13f8c6-4228-4b91-bc50-cb1696152b7c",
   "metadata": {},
   "outputs": [],
   "source": []
  },
  {
   "cell_type": "code",
   "execution_count": 6,
   "id": "7d951e23-618e-4483-982a-c2082e9b33ca",
   "metadata": {},
   "outputs": [],
   "source": []
  },
  {
   "cell_type": "code",
   "execution_count": 6,
   "id": "4c4f2b42-5918-415e-b586-943751a135f5",
   "metadata": {},
   "outputs": [],
   "source": []
  },
  {
   "cell_type": "code",
   "execution_count": 6,
   "id": "0d28f9f9-21b8-41ea-8098-4ada8a030484",
   "metadata": {},
   "outputs": [],
   "source": []
  },
  {
   "cell_type": "code",
   "execution_count": 6,
   "id": "8c4c0072-2ea3-4c06-bbed-17a8470f1ad5",
   "metadata": {},
   "outputs": [],
   "source": []
  },
  {
   "cell_type": "code",
   "execution_count": 6,
   "id": "85508362-080d-4704-a8ba-19e516ffee71",
   "metadata": {},
   "outputs": [],
   "source": []
  },
  {
   "cell_type": "code",
   "execution_count": 6,
   "id": "e1076bf0-ccdb-4f61-82a5-a20163e64662",
   "metadata": {},
   "outputs": [],
   "source": []
  },
  {
   "cell_type": "code",
   "execution_count": 6,
   "id": "afa9f936-89c5-406e-a312-63766d8676f6",
   "metadata": {},
   "outputs": [],
   "source": []
  },
  {
   "cell_type": "code",
   "execution_count": 6,
   "id": "05a3864c-b4d1-4eec-b3b5-23a7f28c3245",
   "metadata": {},
   "outputs": [],
   "source": []
  },
  {
   "cell_type": "code",
   "execution_count": 6,
   "id": "bdc1494d-d09a-4d09-a644-da0bff10223b",
   "metadata": {},
   "outputs": [],
   "source": []
  },
  {
   "cell_type": "code",
   "execution_count": 6,
   "id": "97d14ad8-d5c7-413a-82c6-d3c358feb968",
   "metadata": {},
   "outputs": [],
   "source": []
  },
  {
   "cell_type": "code",
   "execution_count": 6,
   "id": "6c2c8735-d3fb-49f8-854c-65f5cf6d468d",
   "metadata": {},
   "outputs": [],
   "source": []
  },
  {
   "cell_type": "code",
   "execution_count": 6,
   "id": "856bed0e-84f6-4ccb-a7c3-c383657933c3",
   "metadata": {},
   "outputs": [],
   "source": []
  }
 ],
 "metadata": {
  "kernelspec": {
   "display_name": "Python 3 (ipykernel)",
   "language": "python",
   "name": "python3"
  },
  "language_info": {
   "codemirror_mode": {
    "name": "ipython",
    "version": 3
   },
   "file_extension": ".py",
   "mimetype": "text/x-python",
   "name": "python",
   "nbconvert_exporter": "python",
   "pygments_lexer": "ipython3",
   "version": "3.9.15"
  }
 },
 "nbformat": 4,
 "nbformat_minor": 5
}
