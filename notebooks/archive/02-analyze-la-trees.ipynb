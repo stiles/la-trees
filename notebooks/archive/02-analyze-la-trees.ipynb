{
 "cells": [
  {
   "cell_type": "markdown",
   "id": "3c6450b0-4785-4672-9704-10932d9ea021",
   "metadata": {},
   "source": [
    "# Analyze Los Angeles street trees\n",
    "> This notebook seeks to answer questions about the City of Los Angeles' [historical inventory](https://geohub.lacity.org/datasets/lahub::trees-bureau-of-street-services/about) of roughly 510,000 roadside trees. The data were downloaded and processed in the `00-fetch-la-trees-data` notebook."
   ]
  },
  {
   "cell_type": "markdown",
   "id": "0651cee8-2c25-410e-ba6c-6af35dc452ba",
   "metadata": {},
   "source": [
    "---"
   ]
  },
  {
   "cell_type": "markdown",
   "id": "2cd6a4cf-3892-4cc9-97de-84f87dc86d7d",
   "metadata": {},
   "source": [
    "#### Load Python tools and Jupyter config"
   ]
  },
  {
   "cell_type": "code",
   "execution_count": 1,
   "id": "a82ee813-63ef-4757-b212-9173b3411bfb",
   "metadata": {},
   "outputs": [],
   "source": [
    "import pandas as pd\n",
    "import altair as alt\n",
    "import jupyter_black\n",
    "import geopandas as gpd\n",
    "from collections import defaultdict\n",
    "from fuzzywuzzy import process, fuzz"
   ]
  },
  {
   "cell_type": "code",
   "execution_count": null,
   "id": "25e0cffa-e11f-4d88-92e0-ad3cfd126a9c",
   "metadata": {},
   "outputs": [],
   "source": []
  },
  {
   "cell_type": "code",
   "execution_count": 2,
   "id": "3ef9eefb-2887-4a07-995d-eb12d1dd251d",
   "metadata": {},
   "outputs": [
    {
     "data": {
      "text/html": [
       "\n",
       "                <script type=\"application/javascript\" id=\"jupyter_black\">\n",
       "                (function() {\n",
       "                    if (window.IPython === undefined) {\n",
       "                        return\n",
       "                    }\n",
       "                    var msg = \"WARNING: it looks like you might have loaded \" +\n",
       "                        \"jupyter_black in a non-lab notebook with \" +\n",
       "                        \"`is_lab=True`. Please double check, and if \" +\n",
       "                        \"loading with `%load_ext` please review the README!\"\n",
       "                    console.log(msg)\n",
       "                    alert(msg)\n",
       "                })()\n",
       "                </script>\n",
       "                "
      ],
      "text/plain": [
       "<IPython.core.display.HTML object>"
      ]
     },
     "metadata": {},
     "output_type": "display_data"
    },
    {
     "data": {
      "text/plain": [
       "DataTransformerRegistry.enable('default')"
      ]
     },
     "execution_count": 2,
     "metadata": {},
     "output_type": "execute_result"
    }
   ],
   "source": [
    "jupyter_black.load()\n",
    "pd.options.display.max_columns = 100\n",
    "pd.options.display.max_rows = 1000\n",
    "alt.data_transformers.disable_max_rows()"
   ]
  },
  {
   "cell_type": "code",
   "execution_count": 3,
   "id": "83b7fce7-b6e0-4146-b372-a53f86b4aefc",
   "metadata": {},
   "outputs": [],
   "source": [
    "today = pd.Timestamp.today().strftime(\"%Y-%m-%d\")"
   ]
  },
  {
   "cell_type": "markdown",
   "id": "18df54c6-5362-4f8a-a63f-05bd5ffa63d9",
   "metadata": {},
   "source": [
    "---"
   ]
  },
  {
   "cell_type": "markdown",
   "id": "3bbfd20b-7936-4f21-a091-697fca808ab1",
   "metadata": {},
   "source": [
    "## Read"
   ]
  },
  {
   "cell_type": "markdown",
   "id": "1f5ad13e-5593-4e7c-b997-6481207f508b",
   "metadata": {},
   "source": [
    "#### Import geojson file with tree locations, species"
   ]
  },
  {
   "cell_type": "code",
   "execution_count": 4,
   "id": "96b76ac4-d15e-4a05-93fd-bdff02931b44",
   "metadata": {},
   "outputs": [],
   "source": [
    "gdf = gpd.read_file(\"../data/processed/la_tree_locations_locations.geojson\")"
   ]
  },
  {
   "cell_type": "code",
   "execution_count": 5,
   "id": "cffbb4d4-6d81-4523-b895-b90712d7dab0",
   "metadata": {},
   "outputs": [
    {
     "data": {
      "text/html": [
       "<div>\n",
       "<style scoped>\n",
       "    .dataframe tbody tr th:only-of-type {\n",
       "        vertical-align: middle;\n",
       "    }\n",
       "\n",
       "    .dataframe tbody tr th {\n",
       "        vertical-align: top;\n",
       "    }\n",
       "\n",
       "    .dataframe thead th {\n",
       "        text-align: right;\n",
       "    }\n",
       "</style>\n",
       "<table border=\"1\" class=\"dataframe\">\n",
       "  <thead>\n",
       "    <tr style=\"text-align: right;\">\n",
       "      <th></th>\n",
       "      <th>tree_id</th>\n",
       "      <th>species</th>\n",
       "      <th>botanical_name</th>\n",
       "      <th>geometry</th>\n",
       "    </tr>\n",
       "  </thead>\n",
       "  <tbody>\n",
       "    <tr>\n",
       "      <th>478271</th>\n",
       "      <td>1264390</td>\n",
       "      <td>CAMPHOR TREE</td>\n",
       "      <td>CINNAMOMUM CAMPHORA</td>\n",
       "      <td>POINT (-118.32019 34.09401)</td>\n",
       "    </tr>\n",
       "    <tr>\n",
       "      <th>242518</th>\n",
       "      <td>940553</td>\n",
       "      <td>MEXICAN FAN PALM</td>\n",
       "      <td>WASHINGTONIA ROBUSTA</td>\n",
       "      <td>POINT (-118.45629 33.98830)</td>\n",
       "    </tr>\n",
       "    <tr>\n",
       "      <th>264011</th>\n",
       "      <td>965239</td>\n",
       "      <td>CAMPHOR TREE</td>\n",
       "      <td>CINNAMOMUM CAMPHORA</td>\n",
       "      <td>POINT (-118.50410 34.20711)</td>\n",
       "    </tr>\n",
       "    <tr>\n",
       "      <th>76295</th>\n",
       "      <td>474505</td>\n",
       "      <td>BOTTLEBRUSH</td>\n",
       "      <td>CALLISTEMON CITRINUS</td>\n",
       "      <td>POINT (-118.52752 34.14817)</td>\n",
       "    </tr>\n",
       "  </tbody>\n",
       "</table>\n",
       "</div>"
      ],
      "text/plain": [
       "        tree_id           species        botanical_name  \\\n",
       "478271  1264390      CAMPHOR TREE   CINNAMOMUM CAMPHORA   \n",
       "242518   940553  MEXICAN FAN PALM  WASHINGTONIA ROBUSTA   \n",
       "264011   965239      CAMPHOR TREE   CINNAMOMUM CAMPHORA   \n",
       "76295    474505       BOTTLEBRUSH  CALLISTEMON CITRINUS   \n",
       "\n",
       "                           geometry  \n",
       "478271  POINT (-118.32019 34.09401)  \n",
       "242518  POINT (-118.45629 33.98830)  \n",
       "264011  POINT (-118.50410 34.20711)  \n",
       "76295   POINT (-118.52752 34.14817)  "
      ]
     },
     "execution_count": 5,
     "metadata": {},
     "output_type": "execute_result"
    }
   ],
   "source": [
    "gdf.sample(4)"
   ]
  },
  {
   "cell_type": "code",
   "execution_count": 6,
   "id": "cc9f81ee-5449-4c83-9ac5-f6aa1b75477b",
   "metadata": {},
   "outputs": [
    {
     "data": {
      "text/plain": [
       "517009"
      ]
     },
     "execution_count": 6,
     "metadata": {},
     "output_type": "execute_result"
    }
   ],
   "source": [
    "len(gdf)"
   ]
  },
  {
   "cell_type": "markdown",
   "id": "534b86da-2004-403a-870e-6cdcf12bb91e",
   "metadata": {},
   "source": [
    "---"
   ]
  },
  {
   "cell_type": "markdown",
   "id": "3ca7d860-e74e-4068-a522-9fac7698d9bf",
   "metadata": {},
   "source": [
    "## Analyze"
   ]
  },
  {
   "cell_type": "markdown",
   "id": "ffda0272-6ad0-434b-99fa-57553bbd1c3b",
   "metadata": {},
   "source": [
    "### 1. How many different species are there?"
   ]
  },
  {
   "cell_type": "markdown",
   "id": "320b49ce-6dd7-4202-9dbd-4b867aa0dbfc",
   "metadata": {},
   "source": [
    "#### Limit the data to only rows with a specifided species"
   ]
  },
  {
   "cell_type": "code",
   "execution_count": 7,
   "id": "a744342b-4af8-42df-bcdd-18a489f3f8c5",
   "metadata": {},
   "outputs": [],
   "source": [
    "gdf_species = gdf.query('species != \"NOT SPECIFIED\" and species != \"<NULL>\"').copy()"
   ]
  },
  {
   "cell_type": "markdown",
   "id": "8cd7b4b1-54ac-44b0-9a4a-a19ded1d0a66",
   "metadata": {},
   "source": [
    "#### How many trees have a specified species?"
   ]
  },
  {
   "cell_type": "code",
   "execution_count": 8,
   "id": "39ad075e-d268-4dcb-ba1f-537d7319a2d8",
   "metadata": {},
   "outputs": [
    {
     "data": {
      "text/plain": [
       "358985"
      ]
     },
     "execution_count": 8,
     "metadata": {},
     "output_type": "execute_result"
    }
   ],
   "source": [
    "len(gdf_species)"
   ]
  },
  {
   "cell_type": "markdown",
   "id": "d296f985-8a02-4e89-8abd-f9a99feff185",
   "metadata": {},
   "source": [
    "#### How many unique species are there? "
   ]
  },
  {
   "cell_type": "code",
   "execution_count": 9,
   "id": "5e161132-b43b-41a2-a2cf-d60fea1ccfe6",
   "metadata": {},
   "outputs": [
    {
     "data": {
      "text/plain": [
       "544"
      ]
     },
     "execution_count": 9,
     "metadata": {},
     "output_type": "execute_result"
    }
   ],
   "source": [
    "len(gdf_species[\"species\"].unique())"
   ]
  },
  {
   "cell_type": "markdown",
   "id": "04904416-ad13-4898-b580-8aab0a3e6963",
   "metadata": {},
   "source": [
    "###"
   ]
  },
  {
   "cell_type": "markdown",
   "id": "c06ed031-95e0-4d95-90df-fd771de07b64",
   "metadata": {},
   "source": [
    "### 2. Which species are most common?"
   ]
  },
  {
   "cell_type": "markdown",
   "id": "d9f3cd3a-7a6f-4872-9c3d-8b79ff9b82ba",
   "metadata": {},
   "source": [
    "#### Group by species name and count"
   ]
  },
  {
   "cell_type": "code",
   "execution_count": 10,
   "id": "65a572b8-3055-4634-a20a-f29502517cf4",
   "metadata": {},
   "outputs": [],
   "source": [
    "species_counts = (\n",
    "    gdf_species.groupby([\"species\"])[\"tree_id\"]\n",
    "    .count()\n",
    "    .reset_index(name=\"count\")\n",
    "    .sort_values(\"count\", ascending=False)\n",
    "    .reset_index(drop=True)\n",
    ")"
   ]
  },
  {
   "cell_type": "markdown",
   "id": "339e3f8f-5aa9-4d63-8579-0b4f77e5574d",
   "metadata": {},
   "source": [
    "#### Calculate the a species rate per 1,000 named trees"
   ]
  },
  {
   "cell_type": "code",
   "execution_count": 11,
   "id": "e17bca0b-650f-4028-996e-a98abab20477",
   "metadata": {},
   "outputs": [],
   "source": [
    "species_counts[\"count_per_1000\"] = (\n",
    "    (species_counts[\"count\"] / species_counts[\"count\"].sum()) * 1000\n",
    ").round()"
   ]
  },
  {
   "cell_type": "code",
   "execution_count": 12,
   "id": "9e4de23d-471c-4c01-a8f9-d4bf4e3f845c",
   "metadata": {},
   "outputs": [
    {
     "data": {
      "text/html": [
       "<div>\n",
       "<style scoped>\n",
       "    .dataframe tbody tr th:only-of-type {\n",
       "        vertical-align: middle;\n",
       "    }\n",
       "\n",
       "    .dataframe tbody tr th {\n",
       "        vertical-align: top;\n",
       "    }\n",
       "\n",
       "    .dataframe thead th {\n",
       "        text-align: right;\n",
       "    }\n",
       "</style>\n",
       "<table border=\"1\" class=\"dataframe\">\n",
       "  <thead>\n",
       "    <tr style=\"text-align: right;\">\n",
       "      <th></th>\n",
       "      <th>species</th>\n",
       "      <th>count</th>\n",
       "      <th>count_per_1000</th>\n",
       "    </tr>\n",
       "  </thead>\n",
       "  <tbody>\n",
       "    <tr>\n",
       "      <th>0</th>\n",
       "      <td>AMERICAN SWEETGUM</td>\n",
       "      <td>29405</td>\n",
       "      <td>82.0</td>\n",
       "    </tr>\n",
       "    <tr>\n",
       "      <th>1</th>\n",
       "      <td>MEXICAN FAN PALM</td>\n",
       "      <td>25258</td>\n",
       "      <td>70.0</td>\n",
       "    </tr>\n",
       "    <tr>\n",
       "      <th>2</th>\n",
       "      <td>SOUTHERN MAGNOLIA</td>\n",
       "      <td>24314</td>\n",
       "      <td>68.0</td>\n",
       "    </tr>\n",
       "    <tr>\n",
       "      <th>3</th>\n",
       "      <td>CRAPE MYRTLE</td>\n",
       "      <td>19975</td>\n",
       "      <td>56.0</td>\n",
       "    </tr>\n",
       "    <tr>\n",
       "      <th>4</th>\n",
       "      <td>JACARANDA</td>\n",
       "      <td>14139</td>\n",
       "      <td>39.0</td>\n",
       "    </tr>\n",
       "  </tbody>\n",
       "</table>\n",
       "</div>"
      ],
      "text/plain": [
       "             species  count  count_per_1000\n",
       "0  AMERICAN SWEETGUM  29405            82.0\n",
       "1   MEXICAN FAN PALM  25258            70.0\n",
       "2  SOUTHERN MAGNOLIA  24314            68.0\n",
       "3       CRAPE MYRTLE  19975            56.0\n",
       "4          JACARANDA  14139            39.0"
      ]
     },
     "execution_count": 12,
     "metadata": {},
     "output_type": "execute_result"
    }
   ],
   "source": [
    "species_counts.head()"
   ]
  },
  {
   "cell_type": "markdown",
   "id": "17e703b8-5f75-441a-a6ad-e9da88f85777",
   "metadata": {},
   "source": [
    "---"
   ]
  },
  {
   "cell_type": "markdown",
   "id": "bae8bf1b-7b74-41f0-b98e-f5c1ffdaa006",
   "metadata": {},
   "source": [
    "### 2. How many are trees in my neighborhood?"
   ]
  },
  {
   "cell_type": "code",
   "execution_count": 13,
   "id": "d87cff68-19b7-4fb9-8b9c-3bca482ef8f2",
   "metadata": {},
   "outputs": [],
   "source": [
    "hoods_gdf = gpd.read_file(\"../data/processed/la_neigborhoods_pop_race.geojson\")"
   ]
  },
  {
   "cell_type": "code",
   "execution_count": 14,
   "id": "d6d9a844-1c8d-4221-b52b-7f18e80dfb22",
   "metadata": {},
   "outputs": [
    {
     "data": {
      "text/plain": [
       "<Axes: >"
      ]
     },
     "execution_count": 14,
     "metadata": {},
     "output_type": "execute_result"
    },
    {
     "data": {
      "image/png": "[encoded data removed]",
      "text/plain": [
       "<Figure size 640x480 with 1 Axes>"
      ]
     },
     "metadata": {},
     "output_type": "display_data"
    }
   ],
   "source": [
    "hoods_gdf.plot()"
   ]
  },
  {
   "cell_type": "code",
   "execution_count": 15,
   "id": "748b2c99-12d3-49a5-8379-8648d811bb9a",
   "metadata": {},
   "outputs": [
    {
     "data": {
      "text/html": [
       "<div>\n",
       "<style scoped>\n",
       "    .dataframe tbody tr th:only-of-type {\n",
       "        vertical-align: middle;\n",
       "    }\n",
       "\n",
       "    .dataframe tbody tr th {\n",
       "        vertical-align: top;\n",
       "    }\n",
       "\n",
       "    .dataframe thead th {\n",
       "        text-align: right;\n",
       "    }\n",
       "</style>\n",
       "<table border=\"1\" class=\"dataframe\">\n",
       "  <thead>\n",
       "    <tr style=\"text-align: right;\">\n",
       "      <th></th>\n",
       "      <th>id</th>\n",
       "      <th>name</th>\n",
       "      <th>original_id</th>\n",
       "      <th>pop</th>\n",
       "      <th>pop_one_race</th>\n",
       "      <th>white</th>\n",
       "      <th>black</th>\n",
       "      <th>asian</th>\n",
       "      <th>other</th>\n",
       "      <th>ai_an</th>\n",
       "      <th>nh_pi</th>\n",
       "      <th>multirace</th>\n",
       "      <th>pop_one_race_pct</th>\n",
       "      <th>white_pct</th>\n",
       "      <th>black_pct</th>\n",
       "      <th>asian_pct</th>\n",
       "      <th>other_pct</th>\n",
       "      <th>ai_an_pct</th>\n",
       "      <th>nh_pi_pct</th>\n",
       "      <th>multirace_pct</th>\n",
       "      <th>majority</th>\n",
       "      <th>plurality_white</th>\n",
       "      <th>geometry</th>\n",
       "    </tr>\n",
       "  </thead>\n",
       "  <tbody>\n",
       "    <tr>\n",
       "      <th>0</th>\n",
       "      <td>acton</td>\n",
       "      <td>Acton</td>\n",
       "      <td>acton</td>\n",
       "      <td>7431</td>\n",
       "      <td>6404</td>\n",
       "      <td>5122</td>\n",
       "      <td>80</td>\n",
       "      <td>158</td>\n",
       "      <td>956</td>\n",
       "      <td>72</td>\n",
       "      <td>16</td>\n",
       "      <td>1027</td>\n",
       "      <td>86.18</td>\n",
       "      <td>68.93</td>\n",
       "      <td>1.08</td>\n",
       "      <td>2.13</td>\n",
       "      <td>12.87</td>\n",
       "      <td>0.97</td>\n",
       "      <td>0.22</td>\n",
       "      <td>13.82</td>\n",
       "      <td>white</td>\n",
       "      <td>True</td>\n",
       "      <td>MULTIPOLYGON (((-118.20703 34.53902, -118.2069...</td>\n",
       "    </tr>\n",
       "    <tr>\n",
       "      <th>1</th>\n",
       "      <td>adams-normandie</td>\n",
       "      <td>Adams-Normandie</td>\n",
       "      <td>adams-normandie</td>\n",
       "      <td>16922</td>\n",
       "      <td>14659</td>\n",
       "      <td>2040</td>\n",
       "      <td>2747</td>\n",
       "      <td>995</td>\n",
       "      <td>8441</td>\n",
       "      <td>428</td>\n",
       "      <td>8</td>\n",
       "      <td>2263</td>\n",
       "      <td>86.63</td>\n",
       "      <td>12.06</td>\n",
       "      <td>16.23</td>\n",
       "      <td>5.88</td>\n",
       "      <td>49.88</td>\n",
       "      <td>2.53</td>\n",
       "      <td>0.05</td>\n",
       "      <td>13.37</td>\n",
       "      <td>other</td>\n",
       "      <td>False</td>\n",
       "      <td>MULTIPOLYGON (((-118.30800 34.03740, -118.3089...</td>\n",
       "    </tr>\n",
       "    <tr>\n",
       "      <th>2</th>\n",
       "      <td>agoura-hills</td>\n",
       "      <td>Agoura Hills</td>\n",
       "      <td>agoura-hills</td>\n",
       "      <td>20299</td>\n",
       "      <td>18132</td>\n",
       "      <td>15279</td>\n",
       "      <td>262</td>\n",
       "      <td>1776</td>\n",
       "      <td>732</td>\n",
       "      <td>66</td>\n",
       "      <td>17</td>\n",
       "      <td>2167</td>\n",
       "      <td>89.32</td>\n",
       "      <td>75.27</td>\n",
       "      <td>1.29</td>\n",
       "      <td>8.75</td>\n",
       "      <td>3.61</td>\n",
       "      <td>0.33</td>\n",
       "      <td>0.08</td>\n",
       "      <td>10.68</td>\n",
       "      <td>white</td>\n",
       "      <td>True</td>\n",
       "      <td>MULTIPOLYGON (((-118.77621 34.16816, -118.7888...</td>\n",
       "    </tr>\n",
       "    <tr>\n",
       "      <th>3</th>\n",
       "      <td>agua-dulce</td>\n",
       "      <td>Agua Dulce</td>\n",
       "      <td>agua-dulce</td>\n",
       "      <td>3510</td>\n",
       "      <td>2951</td>\n",
       "      <td>2476</td>\n",
       "      <td>48</td>\n",
       "      <td>61</td>\n",
       "      <td>332</td>\n",
       "      <td>31</td>\n",
       "      <td>3</td>\n",
       "      <td>559</td>\n",
       "      <td>84.07</td>\n",
       "      <td>70.54</td>\n",
       "      <td>1.37</td>\n",
       "      <td>1.74</td>\n",
       "      <td>9.46</td>\n",
       "      <td>0.88</td>\n",
       "      <td>0.09</td>\n",
       "      <td>15.93</td>\n",
       "      <td>white</td>\n",
       "      <td>True</td>\n",
       "      <td>MULTIPOLYGON (((-118.37822 34.48811, -118.3781...</td>\n",
       "    </tr>\n",
       "    <tr>\n",
       "      <th>4</th>\n",
       "      <td>alhambra</td>\n",
       "      <td>Alhambra</td>\n",
       "      <td>alhambra</td>\n",
       "      <td>82876</td>\n",
       "      <td>72118</td>\n",
       "      <td>11898</td>\n",
       "      <td>1537</td>\n",
       "      <td>42981</td>\n",
       "      <td>14552</td>\n",
       "      <td>1061</td>\n",
       "      <td>89</td>\n",
       "      <td>10758</td>\n",
       "      <td>87.02</td>\n",
       "      <td>14.36</td>\n",
       "      <td>1.85</td>\n",
       "      <td>51.86</td>\n",
       "      <td>17.56</td>\n",
       "      <td>1.28</td>\n",
       "      <td>0.11</td>\n",
       "      <td>12.98</td>\n",
       "      <td>asian</td>\n",
       "      <td>False</td>\n",
       "      <td>MULTIPOLYGON (((-118.12175 34.10504, -118.1279...</td>\n",
       "    </tr>\n",
       "  </tbody>\n",
       "</table>\n",
       "</div>"
      ],
      "text/plain": [
       "                id             name      original_id    pop  pop_one_race  \\\n",
       "0            acton            Acton            acton   7431          6404   \n",
       "1  adams-normandie  Adams-Normandie  adams-normandie  16922         14659   \n",
       "2     agoura-hills     Agoura Hills     agoura-hills  20299         18132   \n",
       "3       agua-dulce       Agua Dulce       agua-dulce   3510          2951   \n",
       "4         alhambra         Alhambra         alhambra  82876         72118   \n",
       "\n",
       "   white  black  asian  other  ai_an  nh_pi  multirace  pop_one_race_pct  \\\n",
       "0   5122     80    158    956     72     16       1027             86.18   \n",
       "1   2040   2747    995   8441    428      8       2263             86.63   \n",
       "2  15279    262   1776    732     66     17       2167             89.32   \n",
       "3   2476     48     61    332     31      3        559             84.07   \n",
       "4  11898   1537  42981  14552   1061     89      10758             87.02   \n",
       "\n",
       "   white_pct  black_pct  asian_pct  other_pct  ai_an_pct  nh_pi_pct  \\\n",
       "0      68.93       1.08       2.13      12.87       0.97       0.22   \n",
       "1      12.06      16.23       5.88      49.88       2.53       0.05   \n",
       "2      75.27       1.29       8.75       3.61       0.33       0.08   \n",
       "3      70.54       1.37       1.74       9.46       0.88       0.09   \n",
       "4      14.36       1.85      51.86      17.56       1.28       0.11   \n",
       "\n",
       "   multirace_pct majority  plurality_white  \\\n",
       "0          13.82    white             True   \n",
       "1          13.37    other            False   \n",
       "2          10.68    white             True   \n",
       "3          15.93    white             True   \n",
       "4          12.98    asian            False   \n",
       "\n",
       "                                            geometry  \n",
       "0  MULTIPOLYGON (((-118.20703 34.53902, -118.2069...  \n",
       "1  MULTIPOLYGON (((-118.30800 34.03740, -118.3089...  \n",
       "2  MULTIPOLYGON (((-118.77621 34.16816, -118.7888...  \n",
       "3  MULTIPOLYGON (((-118.37822 34.48811, -118.3781...  \n",
       "4  MULTIPOLYGON (((-118.12175 34.10504, -118.1279...  "
      ]
     },
     "execution_count": 15,
     "metadata": {},
     "output_type": "execute_result"
    }
   ],
   "source": [
    "hoods_gdf.head()"
   ]
  },
  {
   "cell_type": "code",
   "execution_count": null,
   "id": "51e8113c-d30f-4ef3-98ba-a518e96d3470",
   "metadata": {},
   "outputs": [],
   "source": []
  },
  {
   "cell_type": "code",
   "execution_count": null,
   "id": "fcda8c5b-c0f7-48b0-b44a-a6f0f06fec55",
   "metadata": {},
   "outputs": [],
   "source": []
  },
  {
   "cell_type": "code",
   "execution_count": null,
   "id": "8953c183-ae72-4fa0-8201-a4f60847388a",
   "metadata": {},
   "outputs": [],
   "source": []
  },
  {
   "cell_type": "code",
   "execution_count": null,
   "id": "e203b06f-51e9-4325-977e-0a3bee8c776f",
   "metadata": {},
   "outputs": [],
   "source": []
  },
  {
   "cell_type": "code",
   "execution_count": null,
   "id": "b860adb1-9e08-4eb2-a1c2-02b5ac54f59f",
   "metadata": {},
   "outputs": [],
   "source": []
  },
  {
   "cell_type": "code",
   "execution_count": null,
   "id": "dd54d766-3b4f-4665-bb77-2f74b7a7d7f6",
   "metadata": {},
   "outputs": [],
   "source": []
  },
  {
   "cell_type": "code",
   "execution_count": null,
   "id": "da40a74d-6ac7-4718-a382-e8019d8de709",
   "metadata": {},
   "outputs": [],
   "source": []
  },
  {
   "cell_type": "code",
   "execution_count": null,
   "id": "c61ec94d-f058-4977-bf96-7b945e527f65",
   "metadata": {},
   "outputs": [],
   "source": []
  },
  {
   "cell_type": "code",
   "execution_count": null,
   "id": "5a0e9670-ba84-4bfb-b014-22219ba5dfb2",
   "metadata": {},
   "outputs": [],
   "source": []
  },
  {
   "cell_type": "code",
   "execution_count": null,
   "id": "ce5ffbf8-857e-474b-a651-824778815bd9",
   "metadata": {},
   "outputs": [],
   "source": []
  },
  {
   "cell_type": "code",
   "execution_count": null,
   "id": "724d91da-3d9d-46a3-be61-cb262a505d7e",
   "metadata": {},
   "outputs": [],
   "source": []
  },
  {
   "cell_type": "code",
   "execution_count": null,
   "id": "b8ddf67c-b95e-4c8b-b32d-990fa9bdf2f6",
   "metadata": {},
   "outputs": [],
   "source": []
  },
  {
   "cell_type": "code",
   "execution_count": null,
   "id": "49d4e1d2-4dfd-4d6e-9e65-8fbdc364a065",
   "metadata": {},
   "outputs": [],
   "source": []
  },
  {
   "cell_type": "code",
   "execution_count": null,
   "id": "abc5cf5c-4855-490d-8dd3-01f81eef6dd8",
   "metadata": {},
   "outputs": [],
   "source": []
  },
  {
   "cell_type": "code",
   "execution_count": null,
   "id": "2a795332-c24d-4c2e-ad27-d624ea849712",
   "metadata": {},
   "outputs": [],
   "source": []
  },
  {
   "cell_type": "code",
   "execution_count": 16,
   "id": "53cf495c-f023-4df3-9933-64e7166c2b82",
   "metadata": {},
   "outputs": [
    {
     "ename": "SyntaxError",
     "evalue": "invalid syntax (3254992858.py, line 1)",
     "output_type": "error",
     "traceback": [
      "\u001b[0;36m  Cell \u001b[0;32mIn[16], line 1\u001b[0;36m\u001b[0m\n\u001b[0;31m    How are the trees dispersed?\u001b[0m\n\u001b[0m        ^\u001b[0m\n\u001b[0;31mSyntaxError\u001b[0m\u001b[0;31m:\u001b[0m invalid syntax\n"
     ]
    }
   ],
   "source": [
    "How are the trees dispersed? \n",
    "\n",
    "What are the most common species in my neighborhood? \n",
    "Do I have more trees than other neighboods, relative to its area or population? "
   ]
  },
  {
   "cell_type": "code",
   "execution_count": null,
   "id": "b530626c-16cd-4dd2-94f9-7353927ec6a6",
   "metadata": {},
   "outputs": [],
   "source": []
  },
  {
   "cell_type": "code",
   "execution_count": null,
   "id": "17caa31d-651c-42b0-bb25-c243ed1cd148",
   "metadata": {},
   "outputs": [],
   "source": []
  },
  {
   "cell_type": "code",
   "execution_count": null,
   "id": "2c7b370d-7ad3-4b45-ae23-497f71b2d610",
   "metadata": {},
   "outputs": [],
   "source": []
  },
  {
   "cell_type": "code",
   "execution_count": null,
   "id": "f4fa80c4-7ae1-40a9-802a-117febc5b978",
   "metadata": {},
   "outputs": [],
   "source": []
  },
  {
   "cell_type": "code",
   "execution_count": null,
   "id": "535a1b59-02cc-41ad-8012-564186fe5ab8",
   "metadata": {},
   "outputs": [],
   "source": []
  },
  {
   "cell_type": "code",
   "execution_count": null,
   "id": "05568bd7-ab97-4b99-8cb4-f5cac248eea5",
   "metadata": {},
   "outputs": [],
   "source": []
  },
  {
   "cell_type": "code",
   "execution_count": null,
   "id": "6dcdfaf6-07cb-46c4-9f6c-51546040db0c",
   "metadata": {},
   "outputs": [],
   "source": []
  },
  {
   "cell_type": "code",
   "execution_count": null,
   "id": "03159931-0be3-479c-86b3-e32a69337929",
   "metadata": {},
   "outputs": [],
   "source": []
  },
  {
   "cell_type": "markdown",
   "id": "c1a74e7b-ebc6-4a20-a3d8-91bd0d6db4a2",
   "metadata": {},
   "source": [
    "#### Base URL for the API endpoint"
   ]
  },
  {
   "cell_type": "code",
   "execution_count": null,
   "id": "768533a2-4130-4b23-b0fe-0e4d42a51e63",
   "metadata": {},
   "outputs": [],
   "source": []
  },
  {
   "cell_type": "markdown",
   "id": "bdfb8806-afcc-46a4-8a2a-ee18572fd7b5",
   "metadata": {},
   "source": [
    "---"
   ]
  },
  {
   "cell_type": "markdown",
   "id": "41af18db-4aeb-4259-a7c1-b52471eb8693",
   "metadata": {},
   "source": [
    "## Exports"
   ]
  },
  {
   "cell_type": "markdown",
   "id": "e3831fb4-1062-4cab-9730-933ff07e01f0",
   "metadata": {},
   "source": [
    "#### JSON"
   ]
  },
  {
   "cell_type": "code",
   "execution_count": null,
   "id": "e1e78a42-ba8a-49aa-a699-58e33fa204d0",
   "metadata": {},
   "outputs": [],
   "source": [
    "# gdf[[\"tree_id\", \"species\", \"botanical_name\", \"longitude\", \"latitude\"]].to_json(\n",
    "#     \"../data/processed/la_tree_locations.json\", indent=4, orient=\"records\"\n",
    "# )"
   ]
  },
  {
   "cell_type": "markdown",
   "id": "d737f808-9d71-4f25-8cd1-3fcedc45ab63",
   "metadata": {},
   "source": [
    "#### CSV"
   ]
  },
  {
   "cell_type": "code",
   "execution_count": null,
   "id": "0504831b-4df4-4ff2-bd26-f08ef7ca9198",
   "metadata": {},
   "outputs": [],
   "source": [
    "# gdf[[\"tree_id\", \"species\", \"botanical_name\", \"longitude\", \"latitude\"]].to_csv(\n",
    "#     \"../data/released/la_tree_locations.csv\", index=False\n",
    "# )"
   ]
  },
  {
   "cell_type": "markdown",
   "id": "eb8769bc-1de1-40d0-9b7b-4892893606ee",
   "metadata": {},
   "source": [
    "#### GeoJSON"
   ]
  },
  {
   "cell_type": "code",
   "execution_count": null,
   "id": "3aaff910-d7a8-4b73-acdf-6b49e09bbe2f",
   "metadata": {},
   "outputs": [],
   "source": [
    "# gdf[[\"tree_id\", \"species\", \"botanical_name\", \"geometry\"]].to_file(\n",
    "#     \"../data/processed/la_tree_locations_locations.geojson\",\n",
    "#     driver=\"GeoJSON\",\n",
    "# )"
   ]
  }
 ],
 "metadata": {
  "kernelspec": {
   "display_name": "Python 3 (ipykernel)",
   "language": "python",
   "name": "python3"
  },
  "language_info": {
   "codemirror_mode": {
    "name": "ipython",
    "version": 3
   },
   "file_extension": ".py",
   "mimetype": "text/x-python",
   "name": "python",
   "nbconvert_exporter": "python",
   "pygments_lexer": "ipython3",
   "version": "3.10.9"
  }
 },
 "nbformat": 4,
 "nbformat_minor": 5
}
