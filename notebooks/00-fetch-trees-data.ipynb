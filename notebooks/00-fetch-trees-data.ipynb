{
 "cells": [
  {
   "cell_type": "markdown",
   "id": "3c6450b0-4785-4672-9704-10932d9ea021",
   "metadata": {},
   "source": [
    "# Fetch and process Los Angeles street trees\n",
    "> This notebook fetches and processes the City of Los Angeles' [historical inventory](https://geohub.lacity.org/datasets/lahub::trees-bureau-of-street-services/about) of roughly 510,000 roadside trees. It downloads the data using a Bureau of Street Services [API endpoint](https://services5.arcgis.com/7nsPwEMP38bSkCjy/ArcGIS/rest/services/Trees_Data_Bureau_of_Street_Services/FeatureServer/0) and cleans it in preparation for later analysis and visualization."
   ]
  },
  {
   "cell_type": "markdown",
   "id": "0651cee8-2c25-410e-ba6c-6af35dc452ba",
   "metadata": {},
   "source": [
    "---"
   ]
  },
  {
   "cell_type": "markdown",
   "id": "2cd6a4cf-3892-4cc9-97de-84f87dc86d7d",
   "metadata": {},
   "source": [
    "#### Load Python tools and Jupyter config"
   ]
  },
  {
   "cell_type": "code",
   "execution_count": 1,
   "id": "d51c4622-7e4d-44e5-99d4-a8c01e8a611f",
   "metadata": {},
   "outputs": [],
   "source": [
    "import requests\n",
    "import pandas as pd\n",
    "import jupyter_black\n",
    "import geopandas as gpd\n",
    "from tqdm.notebook import tqdm"
   ]
  },
  {
   "cell_type": "code",
   "execution_count": 2,
   "id": "3ef9eefb-2887-4a07-995d-eb12d1dd251d",
   "metadata": {},
   "outputs": [
    {
     "data": {
      "text/html": [
       "\n",
       "                <script type=\"application/javascript\" id=\"jupyter_black\">\n",
       "                (function() {\n",
       "                    if (window.IPython === undefined) {\n",
       "                        return\n",
       "                    }\n",
       "                    var msg = \"WARNING: it looks like you might have loaded \" +\n",
       "                        \"jupyter_black in a non-lab notebook with \" +\n",
       "                        \"`is_lab=True`. Please double check, and if \" +\n",
       "                        \"loading with `%load_ext` please review the README!\"\n",
       "                    console.log(msg)\n",
       "                    alert(msg)\n",
       "                })()\n",
       "                </script>\n",
       "                "
      ],
      "text/plain": [
       "<IPython.core.display.HTML object>"
      ]
     },
     "metadata": {},
     "output_type": "display_data"
    }
   ],
   "source": [
    "jupyter_black.load()\n",
    "pd.options.display.max_columns = 100\n",
    "pd.options.display.max_rows = 1000\n",
    "pd.options.display.max_colwidth = None"
   ]
  },
  {
   "cell_type": "code",
   "execution_count": 3,
   "id": "83b7fce7-b6e0-4146-b372-a53f86b4aefc",
   "metadata": {},
   "outputs": [],
   "source": [
    "today = pd.Timestamp.today().strftime(\"%Y-%m-%d\")"
   ]
  },
  {
   "cell_type": "markdown",
   "id": "18df54c6-5362-4f8a-a63f-05bd5ffa63d9",
   "metadata": {},
   "source": [
    "---"
   ]
  },
  {
   "cell_type": "markdown",
   "id": "3bbfd20b-7936-4f21-a091-697fca808ab1",
   "metadata": {},
   "source": [
    "## Fetch\n",
    "> The data can be retrieved from an [open API endpoint](https://services5.arcgis.com/7nsPwEMP38bSkCjy/ArcGIS/rest/services/Trees_Data_Bureau_of_Street_Services/FeatureServer/0), powered by Esri. This feature service has a 1,000 record limit, however, so we have to first get the total record count and then paginate through the results to store all the trees. "
   ]
  },
  {
   "cell_type": "markdown",
   "id": "c1a74e7b-ebc6-4a20-a3d8-91bd0d6db4a2",
   "metadata": {},
   "source": [
    "#### Base URL for the API endpoint"
   ]
  },
  {
   "cell_type": "code",
   "execution_count": 4,
   "id": "83678fe6-e4f7-4b58-91d4-776c63b10480",
   "metadata": {},
   "outputs": [],
   "source": [
    "url = \"https://services5.arcgis.com/7nsPwEMP38bSkCjy/arcgis/rest/services/Trees_Data_Bureau_of_Street_Services/FeatureServer/0/query\""
   ]
  },
  {
   "cell_type": "markdown",
   "id": "eb4de129-8a27-44f0-9311-5129edecbb62",
   "metadata": {},
   "source": [
    "#### Get count of records by querying for total"
   ]
  },
  {
   "cell_type": "code",
   "execution_count": 5,
   "id": "3dbf7d52-3784-4e88-ac25-bda88903e532",
   "metadata": {},
   "outputs": [],
   "source": [
    "count_params = {\"where\": \"1=1\", \"returnCountOnly\": \"true\", \"f\": \"json\"}\n",
    "response = requests.get(url, params=count_params)\n",
    "total_count = response.json().get(\"count\", 0)"
   ]
  },
  {
   "cell_type": "markdown",
   "id": "1cda6e47-9e20-42e7-a410-b25a7d22aeab",
   "metadata": {},
   "source": [
    "#### Pagination setup"
   ]
  },
  {
   "cell_type": "code",
   "execution_count": 6,
   "id": "12470d74-37d9-471f-a1ca-82024a726273",
   "metadata": {},
   "outputs": [],
   "source": [
    "params = {\n",
    "    \"where\": \"1=1\",\n",
    "    \"outFields\": \"*\",\n",
    "    \"f\": \"geojson\",\n",
    "    \"resultRecordCount\": 1000,  # The API limit\n",
    "}"
   ]
  },
  {
   "cell_type": "markdown",
   "id": "6587d6cf-6ebf-492a-92ec-ad2726119536",
   "metadata": {},
   "source": [
    "#### Loop with the pagination, gathering 1,000 trees per request, and store them in a geodataframe"
   ]
  },
  {
   "cell_type": "code",
   "execution_count": 7,
   "id": "18c7ebc9-2f09-45ff-83e7-fc8751592f99",
   "metadata": {},
   "outputs": [
    {
     "data": {
      "application/vnd.jupyter.widget-view+json": {
       "model_id": "61bf9d332e0b4d9b98f1226ca0b9c301",
       "version_major": 2,
       "version_minor": 0
      },
      "text/plain": [
       "  0%|          | 0/635558 [00:00<?, ?it/s]"
      ]
     },
     "metadata": {},
     "output_type": "display_data"
    }
   ],
   "source": [
    "pbar = tqdm(total=total_count)\n",
    "\n",
    "tree_data = []\n",
    "\n",
    "for offset in range(0, total_count, params[\"resultRecordCount\"]):\n",
    "    params[\"resultOffset\"] = offset\n",
    "    response = requests.get(url, params=params)\n",
    "    geojson = response.json()\n",
    "\n",
    "    tree_data.extend(geojson[\"features\"])\n",
    "    pbar.update(len(geojson[\"features\"]))\n",
    "\n",
    "pbar.close()\n",
    "\n",
    "src = gpd.GeoDataFrame.from_features(tree_data)"
   ]
  },
  {
   "cell_type": "markdown",
   "id": "f18255e0-fb23-4c9b-8aef-f7fca053517e",
   "metadata": {},
   "source": [
    "#### Dataframe with just trees, not stumps or tree wells"
   ]
  },
  {
   "cell_type": "code",
   "execution_count": 8,
   "id": "50538967-6655-4530-a6a6-2071e6c574d0",
   "metadata": {},
   "outputs": [],
   "source": [
    "gdf_src = src.query(\"Type == 1\").copy()"
   ]
  },
  {
   "cell_type": "markdown",
   "id": "c087059d-0e14-4a36-bc4d-9ce1c2c0d828",
   "metadata": {},
   "source": [
    "---"
   ]
  },
  {
   "cell_type": "markdown",
   "id": "219726d2-836a-4aa3-a512-2c6f7a5448ca",
   "metadata": {},
   "source": [
    "## Process"
   ]
  },
  {
   "cell_type": "markdown",
   "id": "0f0a7ebe-8691-4399-b4e1-dcc78ee26901",
   "metadata": {},
   "source": [
    "#### Lowercase the column names"
   ]
  },
  {
   "cell_type": "code",
   "execution_count": 9,
   "id": "617f5e43-1eb7-49a0-994b-8fe766cbb07e",
   "metadata": {},
   "outputs": [],
   "source": [
    "gdf_src.columns = gdf_src.columns.str.lower()"
   ]
  },
  {
   "cell_type": "markdown",
   "id": "89bcb961-1cb4-42d7-8bac-fadaacc53f06",
   "metadata": {},
   "source": [
    "#### Split the `tooltip` column into useable data"
   ]
  },
  {
   "cell_type": "code",
   "execution_count": 10,
   "id": "c664aec1-ca8c-46ea-b8c5-e8ff2e6c9152",
   "metadata": {},
   "outputs": [],
   "source": [
    "split_data = gdf_src[\"tooltip\"].str.replace(\"\\\\n\", \"\\n\").str.split(\"\\n\", expand=True)"
   ]
  },
  {
   "cell_type": "code",
   "execution_count": 11,
   "id": "12eb440a-33db-4bb7-9f1b-4ba2a5d3e3f6",
   "metadata": {},
   "outputs": [],
   "source": [
    "tree_id = split_data[0].str.replace(\"Tree ID: \", \"\")\n",
    "location = split_data[1].str.replace(\"Location: \", \"\").str.title()\n",
    "species = split_data[2].str.replace(\"Species: \", \"\").str.title()\n",
    "botanical_name = split_data[3].str.replace(\"Botanical Name: \", \"\").str.title()"
   ]
  },
  {
   "cell_type": "code",
   "execution_count": 12,
   "id": "f643e9ca-2f9e-444a-9a31-514c3c898545",
   "metadata": {},
   "outputs": [],
   "source": [
    "extracted_df = pd.DataFrame(\n",
    "    {\n",
    "        \"tree_id\": tree_id,\n",
    "        \"location\": location,\n",
    "        \"species\": species,\n",
    "        \"botanical_name\": botanical_name,\n",
    "    }\n",
    ")"
   ]
  },
  {
   "cell_type": "markdown",
   "id": "d6542b20-a9c8-48a5-8e88-8ebefb421111",
   "metadata": {},
   "source": [
    "#### Add the extracted values back into our main dataframe, and remove vacant tree spots"
   ]
  },
  {
   "cell_type": "code",
   "execution_count": 13,
   "id": "6f700001-4638-4efa-b172-39b1a1346510",
   "metadata": {},
   "outputs": [],
   "source": [
    "gdf = (\n",
    "    pd.concat(\n",
    "        [\n",
    "            gdf_src.drop(\n",
    "                columns=[\n",
    "                    \"objectid\",\n",
    "                    \"tooltip\",\n",
    "                    \"nla_url\",\n",
    "                    \"type_description\",\n",
    "                    \"type\",\n",
    "                    \"treeid\",\n",
    "                ]\n",
    "            ),\n",
    "            extracted_df,\n",
    "        ],\n",
    "        axis=1,\n",
    "    )\n",
    "    .set_crs(\"4326\")\n",
    "    .query(\"species != 'Vacant - Ok To Plant'\")\n",
    ")"
   ]
  },
  {
   "cell_type": "markdown",
   "id": "9ce4fe70-439f-4e48-8547-b7caa448d57b",
   "metadata": {},
   "source": [
    "#### Define a function to extract longitude and latitude from a Point geometry"
   ]
  },
  {
   "cell_type": "code",
   "execution_count": 14,
   "id": "07930b11-0def-4e21-9efd-308c9f202241",
   "metadata": {},
   "outputs": [],
   "source": [
    "def extract_lon_lat(point):\n",
    "    return pd.Series([point.x, point.y])"
   ]
  },
  {
   "cell_type": "markdown",
   "id": "2eb87985-4caa-47c6-916a-80a5ff836401",
   "metadata": {},
   "source": [
    "#### Apply the function to the 'geometry' column and create new 'longitude' and 'latitude' columns"
   ]
  },
  {
   "cell_type": "code",
   "execution_count": 15,
   "id": "e94671b6-da03-4e5e-9f7e-2955dbbf1fb4",
   "metadata": {},
   "outputs": [],
   "source": [
    "gdf[[\"longitude\", \"latitude\"]] = gdf[\"geometry\"].apply(extract_lon_lat)"
   ]
  },
  {
   "cell_type": "markdown",
   "id": "ae8a4824-e590-4e1f-a4a8-b3f3943be9bf",
   "metadata": {},
   "source": [
    "---"
   ]
  },
  {
   "cell_type": "markdown",
   "id": "0db7d269-0f43-470d-ad27-ad20cc881adb",
   "metadata": {},
   "source": [
    "## Results"
   ]
  },
  {
   "cell_type": "markdown",
   "id": "8688f12b-3d49-43f2-8185-a04606ad9b26",
   "metadata": {},
   "source": [
    "#### How many trees?"
   ]
  },
  {
   "cell_type": "code",
   "execution_count": 16,
   "id": "29183eda-cae9-4f6c-8065-bf125bc840e4",
   "metadata": {},
   "outputs": [
    {
     "data": {
      "text/plain": [
       "517009"
      ]
     },
     "execution_count": 16,
     "metadata": {},
     "output_type": "execute_result"
    }
   ],
   "source": [
    "len(gdf)"
   ]
  },
  {
   "cell_type": "markdown",
   "id": "16c3824a-4387-4f32-8cd4-b79dfd98f8a3",
   "metadata": {},
   "source": [
    "#### How many trees without a species specified? "
   ]
  },
  {
   "cell_type": "code",
   "execution_count": 17,
   "id": "95418a99-adb6-4a1d-bdad-57cd711f9396",
   "metadata": {},
   "outputs": [
    {
     "data": {
      "text/plain": [
       "157961"
      ]
     },
     "execution_count": 17,
     "metadata": {},
     "output_type": "execute_result"
    }
   ],
   "source": [
    "len(gdf.query(\"species == 'Not Specified'\"))"
   ]
  },
  {
   "cell_type": "markdown",
   "id": "5776fcdd-e783-48cc-9902-f2eb88ccee2e",
   "metadata": {},
   "source": [
    "#### How many distinct species?"
   ]
  },
  {
   "cell_type": "code",
   "execution_count": 18,
   "id": "5d01109e-4373-412e-b8b0-eaa76b3fb5cf",
   "metadata": {},
   "outputs": [
    {
     "data": {
      "text/plain": [
       "545"
      ]
     },
     "execution_count": 18,
     "metadata": {},
     "output_type": "execute_result"
    }
   ],
   "source": [
    "len(gdf.query(\"species != 'Not Specified'\")[\"species\"].str.strip().unique())"
   ]
  },
  {
   "cell_type": "markdown",
   "id": "c8bde7dd-ca9e-441c-97ad-981e8fd61194",
   "metadata": {},
   "source": [
    "#### Random five trees"
   ]
  },
  {
   "cell_type": "code",
   "execution_count": 19,
   "id": "67765e73-9894-43cd-bee5-e1599ca569a3",
   "metadata": {},
   "outputs": [
    {
     "data": {
      "text/html": [
       "<div>\n",
       "<style scoped>\n",
       "    .dataframe tbody tr th:only-of-type {\n",
       "        vertical-align: middle;\n",
       "    }\n",
       "\n",
       "    .dataframe tbody tr th {\n",
       "        vertical-align: top;\n",
       "    }\n",
       "\n",
       "    .dataframe thead th {\n",
       "        text-align: right;\n",
       "    }\n",
       "</style>\n",
       "<table border=\"1\" class=\"dataframe\">\n",
       "  <thead>\n",
       "    <tr style=\"text-align: right;\">\n",
       "      <th></th>\n",
       "      <th>geometry</th>\n",
       "      <th>tree_id</th>\n",
       "      <th>location</th>\n",
       "      <th>species</th>\n",
       "      <th>botanical_name</th>\n",
       "      <th>longitude</th>\n",
       "      <th>latitude</th>\n",
       "    </tr>\n",
       "  </thead>\n",
       "  <tbody>\n",
       "    <tr>\n",
       "      <th>286975</th>\n",
       "      <td>POINT (-118.45641 33.99122)</td>\n",
       "      <td>940159</td>\n",
       "      <td>2317 Oakwood Av - S2</td>\n",
       "      <td>Chinese Evergreen Elm</td>\n",
       "      <td>Ulmus Parvifolia Semperviren</td>\n",
       "      <td>-118.456406</td>\n",
       "      <td>33.991222</td>\n",
       "    </tr>\n",
       "    <tr>\n",
       "      <th>162931</th>\n",
       "      <td>POINT (-118.49903 34.06910)</td>\n",
       "      <td>647949</td>\n",
       "      <td>1883 Westridge Rd - F11</td>\n",
       "      <td>Myoporum</td>\n",
       "      <td>Myoporum Laetum</td>\n",
       "      <td>-118.499033</td>\n",
       "      <td>34.069097</td>\n",
       "    </tr>\n",
       "    <tr>\n",
       "      <th>603075</th>\n",
       "      <td>POINT (-118.25984 34.11131)</td>\n",
       "      <td>1283241</td>\n",
       "      <td>2942 Gracia St - F2</td>\n",
       "      <td>Carob</td>\n",
       "      <td>Ceratonia Siliqua</td>\n",
       "      <td>-118.259844</td>\n",
       "      <td>34.111308</td>\n",
       "    </tr>\n",
       "    <tr>\n",
       "      <th>189439</th>\n",
       "      <td>POINT (-118.30533 33.83964)</td>\n",
       "      <td>812845</td>\n",
       "      <td>20901 La Salle Av - F3</td>\n",
       "      <td>Mexican Fan Palm</td>\n",
       "      <td>Washingtonia Robusta</td>\n",
       "      <td>-118.305326</td>\n",
       "      <td>33.839642</td>\n",
       "    </tr>\n",
       "    <tr>\n",
       "      <th>135981</th>\n",
       "      <td>POINT (-118.41219 34.26875)</td>\n",
       "      <td>621165</td>\n",
       "      <td>Not Specified</td>\n",
       "      <td>Not Specified</td>\n",
       "      <td>Not Specified</td>\n",
       "      <td>-118.412195</td>\n",
       "      <td>34.268752</td>\n",
       "    </tr>\n",
       "  </tbody>\n",
       "</table>\n",
       "</div>"
      ],
      "text/plain": [
       "                           geometry  tree_id                 location  \\\n",
       "286975  POINT (-118.45641 33.99122)   940159     2317 Oakwood Av - S2   \n",
       "162931  POINT (-118.49903 34.06910)   647949  1883 Westridge Rd - F11   \n",
       "603075  POINT (-118.25984 34.11131)  1283241      2942 Gracia St - F2   \n",
       "189439  POINT (-118.30533 33.83964)   812845   20901 La Salle Av - F3   \n",
       "135981  POINT (-118.41219 34.26875)   621165            Not Specified   \n",
       "\n",
       "                      species                botanical_name   longitude  \\\n",
       "286975  Chinese Evergreen Elm  Ulmus Parvifolia Semperviren -118.456406   \n",
       "162931               Myoporum               Myoporum Laetum -118.499033   \n",
       "603075                  Carob             Ceratonia Siliqua -118.259844   \n",
       "189439       Mexican Fan Palm          Washingtonia Robusta -118.305326   \n",
       "135981          Not Specified                 Not Specified -118.412195   \n",
       "\n",
       "         latitude  \n",
       "286975  33.991222  \n",
       "162931  34.069097  \n",
       "603075  34.111308  \n",
       "189439  33.839642  \n",
       "135981  34.268752  "
      ]
     },
     "execution_count": 19,
     "metadata": {},
     "output_type": "execute_result"
    }
   ],
   "source": [
    "gdf.sample(5)"
   ]
  },
  {
   "cell_type": "markdown",
   "id": "bdfb8806-afcc-46a4-8a2a-ee18572fd7b5",
   "metadata": {},
   "source": [
    "---"
   ]
  },
  {
   "cell_type": "markdown",
   "id": "41af18db-4aeb-4259-a7c1-b52471eb8693",
   "metadata": {},
   "source": [
    "## Exports"
   ]
  },
  {
   "cell_type": "markdown",
   "id": "e3831fb4-1062-4cab-9730-933ff07e01f0",
   "metadata": {},
   "source": [
    "#### JSON"
   ]
  },
  {
   "cell_type": "code",
   "execution_count": 20,
   "id": "e1e78a42-ba8a-49aa-a699-58e33fa204d0",
   "metadata": {},
   "outputs": [],
   "source": [
    "gdf[\n",
    "    [\"tree_id\", \"location\", \"species\", \"botanical_name\", \"longitude\", \"latitude\"]\n",
    "].to_json(\"../data/processed/la_tree_locations.json\", indent=4, orient=\"records\")"
   ]
  },
  {
   "cell_type": "markdown",
   "id": "d737f808-9d71-4f25-8cd1-3fcedc45ab63",
   "metadata": {},
   "source": [
    "#### CSV"
   ]
  },
  {
   "cell_type": "code",
   "execution_count": 21,
   "id": "0504831b-4df4-4ff2-bd26-f08ef7ca9198",
   "metadata": {},
   "outputs": [],
   "source": [
    "gdf[\n",
    "    [\"tree_id\", \"location\", \"species\", \"botanical_name\", \"longitude\", \"latitude\"]\n",
    "].to_csv(\"../data/processed/la_tree_locations.csv\", index=False)"
   ]
  },
  {
   "cell_type": "markdown",
   "id": "eb8769bc-1de1-40d0-9b7b-4892893606ee",
   "metadata": {},
   "source": [
    "#### GeoJSON"
   ]
  },
  {
   "cell_type": "code",
   "execution_count": 22,
   "id": "3aaff910-d7a8-4b73-acdf-6b49e09bbe2f",
   "metadata": {},
   "outputs": [],
   "source": [
    "gdf.to_file(\n",
    "    \"../data/processed/la_tree_locations_locations.geojson\",\n",
    "    driver=\"GeoJSON\",\n",
    ")"
   ]
  }
 ],
 "metadata": {
  "kernelspec": {
   "display_name": "Python 3 (ipykernel)",
   "language": "python",
   "name": "python3"
  },
  "language_info": {
   "codemirror_mode": {
    "name": "ipython",
    "version": 3
   },
   "file_extension": ".py",
   "mimetype": "text/x-python",
   "name": "python",
   "nbconvert_exporter": "python",
   "pygments_lexer": "ipython3",
   "version": "3.10.9"
  }
 },
 "nbformat": 4,
 "nbformat_minor": 5
}
