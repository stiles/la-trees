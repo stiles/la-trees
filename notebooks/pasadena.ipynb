{
 "cells": [
  {
   "cell_type": "code",
   "execution_count": 13,
   "id": "f6af0002-a7f4-41f9-8637-ed0e4e960cf4",
   "metadata": {},
   "outputs": [],
   "source": [
    "import os\n",
    "import requests\n",
    "import subprocess\n",
    "import geopandas as gpd\n",
    "import pandas as pd"
   ]
  },
  {
   "cell_type": "code",
   "execution_count": 14,
   "id": "fc7435d2-8ead-4d9e-821d-00b05a126b7e",
   "metadata": {},
   "outputs": [],
   "source": [
    "today = pd.Timestamp.today().strftime('%Y-%m-%d')"
   ]
  },
  {
   "cell_type": "code",
   "execution_count": null,
   "id": "1d089c1a-d9c4-4511-a9ab-5267670ed2de",
   "metadata": {},
   "outputs": [],
   "source": [
    "# Requires local https://github.com/openaddresses/pyesridump install"
   ]
  },
  {
   "cell_type": "code",
   "execution_count": null,
   "id": "1d632e72-29a3-49f7-8b14-89e02501d4e7",
   "metadata": {},
   "outputs": [],
   "source": [
    "# Define the URL and output file path\n",
    "layer_url = \"https://services2.arcgis.com/zNjnZafDYCAJAbN0/ArcGIS/rest/services/Street_ROW_Trees/FeatureServer/0\"\n",
    "output_file = \"data/raw/street_trees.geojson\"\n",
    "\n",
    "# Create the directory if it doesn't exist\n",
    "os.makedirs(\"../data/raw/cities\", exist_ok=True)\n",
    "\n",
    "# Use subprocess to call esri2geojson\n",
    "subprocess.run([\"esri2geojson\", layer_url, output_file])\n",
    "\n",
    "# Read the GeoJSON file into a GeoDataFrame\n",
    "street_trees_gdf = gpd.read_file(output_file)\n",
    "\n",
    "# Display the dataframe\n",
    "street_trees_gdf.head()"
   ]
  },
  {
   "cell_type": "code",
   "execution_count": 17,
   "id": "5242d84f-35a9-47a0-986d-3ec8ec9f19df",
   "metadata": {},
   "outputs": [
    {
     "data": {
      "text/plain": [
       "57070"
      ]
     },
     "execution_count": 17,
     "metadata": {},
     "output_type": "execute_result"
    }
   ],
   "source": [
    "len(street_trees_gdf)"
   ]
  },
  {
   "cell_type": "code",
   "execution_count": 22,
   "id": "5a049b77-b22b-4465-8443-bb321bf0d216",
   "metadata": {},
   "outputs": [],
   "source": [
    "street_trees_gdf['fetched_on'] = today\n",
    "street_trees_gdf['municipality'] = 'Pasadena'\n",
    "street_trees_gdf['source'] = 'Esri endpoint'"
   ]
  },
  {
   "cell_type": "code",
   "execution_count": null,
   "id": "36c7af1f-a88d-4fed-bc1e-af65b2c08d01",
   "metadata": {},
   "outputs": [],
   "source": [
    "street_trees_gdf.columns = street_trees_gdf.columns.str.lower()"
   ]
  },
  {
   "cell_type": "code",
   "execution_count": 37,
   "id": "f606da0c-32e7-4ba7-aeb6-9f169a863dd9",
   "metadata": {},
   "outputs": [
    {
     "data": {
      "text/plain": [
       "Index(['objectid', 'tree_rec', 'alt_tree_id', 'common_name', 'genus',\n",
       "       'species', 'status_text', 'address', 'street_direction', 'street_name',\n",
       "       'street_type', 'street_suffix', 'trunk_dia', 'x_coordinate',\n",
       "       'y_coordinate', 'classification_text', 'geometry', 'fetched_on',\n",
       "       'municipality', 'source', 'lon', 'lat'],\n",
       "      dtype='object')"
      ]
     },
     "execution_count": 37,
     "metadata": {},
     "output_type": "execute_result"
    }
   ],
   "source": [
    "street_trees_gdf.columns"
   ]
  },
  {
   "cell_type": "code",
   "execution_count": null,
   "id": "6cc1a401-aa5a-4621-8cf2-de898c45e94f",
   "metadata": {},
   "outputs": [],
   "source": [
    "street_trees_gdf['lon'] = street_trees_gdf.geometry.x\n",
    "street_trees_gdf['lat'] = street_trees_gdf.geometry.y"
   ]
  },
  {
   "cell_type": "code",
   "execution_count": 41,
   "id": "0dfcabb2-2c0e-44da-aed5-d1a9c4f51dce",
   "metadata": {},
   "outputs": [],
   "source": [
    "street_trees_gdf['address'] = street_trees_gdf['address'].astype(str).str.replace('.0', '')"
   ]
  },
  {
   "cell_type": "code",
   "execution_count": 43,
   "id": "80acaa0b-8769-4798-81b7-be4585521fb7",
   "metadata": {},
   "outputs": [],
   "source": [
    "street_trees_gdf[['tree_rec', 'common_name', 'genus',\n",
    "       'species', 'status_text', 'address', 'street_direction', 'street_name',\n",
    "       'street_type', 'trunk_dia', 'fetched_on',\n",
    "       'municipality', 'lon', 'lat']].to_csv('../data/processed/cities/pasadena.csv', index=False)"
   ]
  }
 ],
 "metadata": {
  "kernelspec": {
   "display_name": "Python 3 (ipykernel)",
   "language": "python",
   "name": "python3"
  },
  "language_info": {
   "codemirror_mode": {
    "name": "ipython",
    "version": 3
   },
   "file_extension": ".py",
   "mimetype": "text/x-python",
   "name": "python",
   "nbconvert_exporter": "python",
   "pygments_lexer": "ipython3",
   "version": "3.10.13"
  }
 },
 "nbformat": 4,
 "nbformat_minor": 5
}
