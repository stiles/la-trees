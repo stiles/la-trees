{
 "cells": [
  {
   "cell_type": "code",
   "execution_count": 1,
   "id": "f6af0002-a7f4-41f9-8637-ed0e4e960cf4",
   "metadata": {},
   "outputs": [],
   "source": [
    "import os\n",
    "import requests\n",
    "import subprocess\n",
    "import geopandas as gpd\n",
    "import pandas as pd"
   ]
  },
  {
   "cell_type": "code",
   "execution_count": 2,
   "id": "fc7435d2-8ead-4d9e-821d-00b05a126b7e",
   "metadata": {},
   "outputs": [],
   "source": [
    "today = pd.Timestamp.today().strftime('%Y-%m-%d')"
   ]
  },
  {
   "cell_type": "code",
   "execution_count": 3,
   "id": "1d089c1a-d9c4-4511-a9ab-5267670ed2de",
   "metadata": {},
   "outputs": [],
   "source": [
    "# Requires local https://github.com/openaddresses/pyesridump install"
   ]
  },
  {
   "cell_type": "code",
   "execution_count": 4,
   "id": "b05502c3-a1ad-4368-b1e0-c2509140b742",
   "metadata": {},
   "outputs": [],
   "source": [
    "# Define the URL and output file path\n",
    "layer_url = \"https://services2.arcgis.com/zNjnZafDYCAJAbN0/ArcGIS/rest/services/Street_ROW_Trees/FeatureServer/0\"\n",
    "output_file = \"../data/raw/cities/pasadena.geojson\""
   ]
  },
  {
   "cell_type": "code",
   "execution_count": 5,
   "id": "b689e297-d95a-4005-840b-2148980a6fb6",
   "metadata": {},
   "outputs": [
    {
     "name": "stderr",
     "output_type": "stream",
     "text": [
      "2024-05-28 12:02:39,224 - cli.esridump - INFO - Built 58 requests using resultOffset method\n",
      "2024-05-28 12:02:53,621 - cli.esridump - INFO - pause for 10 seconds\n",
      "2024-05-28 12:03:35,621 - cli.esridump - INFO - pause for 10 seconds\n",
      "2024-05-28 12:03:46,390 - cli.esridump - INFO - retry pause 0\n",
      "2024-05-28 12:04:06,515 - cli.esridump - INFO - retry pause 1\n",
      "2024-05-28 12:04:18,025 - cli.esridump - INFO - retry pause 0\n",
      "2024-05-28 12:04:28,379 - cli.esridump - INFO - pause for 10 seconds\n",
      "2024-05-28 12:04:39,432 - cli.esridump - INFO - retry pause 0\n",
      "2024-05-28 12:04:59,943 - cli.esridump - INFO - retry pause 1\n",
      "2024-05-28 12:05:10,538 - cli.esridump - INFO - retry pause 0\n",
      "2024-05-28 12:05:20,871 - cli.esridump - INFO - pause for 10 seconds\n",
      "2024-05-28 12:05:33,449 - cli.esridump - INFO - pause for 10 seconds\n",
      "2024-05-28 12:05:43,763 - cli.esridump - INFO - retry pause 0\n",
      "2024-05-28 12:05:53,766 - cli.esridump - INFO - pause for 10 seconds\n",
      "2024-05-28 12:06:06,358 - cli.esridump - INFO - pause for 10 seconds\n",
      "2024-05-28 12:06:28,335 - cli.esridump - INFO - pause for 10 seconds\n",
      "2024-05-28 12:06:40,489 - cli.esridump - INFO - pause for 10 seconds\n",
      "2024-05-28 12:06:53,160 - cli.esridump - INFO - pause for 10 seconds\n",
      "2024-05-28 12:07:06,076 - cli.esridump - INFO - pause for 10 seconds\n",
      "2024-05-28 12:07:19,281 - cli.esridump - INFO - pause for 10 seconds\n"
     ]
    },
    {
     "data": {
      "text/plain": [
       "CompletedProcess(args=['esri2geojson', 'https://services2.arcgis.com/zNjnZafDYCAJAbN0/ArcGIS/rest/services/Street_ROW_Trees/FeatureServer/0', '../data/raw/cities/pasadena.geojson'], returncode=0)"
      ]
     },
     "execution_count": 5,
     "metadata": {},
     "output_type": "execute_result"
    }
   ],
   "source": [
    "# Use subprocess to call esri2geojson\n",
    "subprocess.run([\"esri2geojson\", layer_url, output_file])"
   ]
  },
  {
   "cell_type": "code",
   "execution_count": 6,
   "id": "b92a8b89-e1d2-43a5-98ce-59fd2bcc4d55",
   "metadata": {},
   "outputs": [],
   "source": [
    "# Read the GeoJSON file into a GeoDataFrame\n",
    "street_trees_gdf = gpd.read_file('../data/raw/cities/pasadena.geojson')"
   ]
  },
  {
   "cell_type": "code",
   "execution_count": 7,
   "id": "90202825-1868-416a-b13b-1013d19e5d84",
   "metadata": {},
   "outputs": [
    {
     "data": {
      "text/html": [
       "<div>\n",
       "<style scoped>\n",
       "    .dataframe tbody tr th:only-of-type {\n",
       "        vertical-align: middle;\n",
       "    }\n",
       "\n",
       "    .dataframe tbody tr th {\n",
       "        vertical-align: top;\n",
       "    }\n",
       "\n",
       "    .dataframe thead th {\n",
       "        text-align: right;\n",
       "    }\n",
       "</style>\n",
       "<table border=\"1\" class=\"dataframe\">\n",
       "  <thead>\n",
       "    <tr style=\"text-align: right;\">\n",
       "      <th></th>\n",
       "      <th>OBJECTID</th>\n",
       "      <th>Tree_Rec</th>\n",
       "      <th>Alt_Tree_ID</th>\n",
       "      <th>Common_Name</th>\n",
       "      <th>Genus</th>\n",
       "      <th>Species</th>\n",
       "      <th>Status_Text</th>\n",
       "      <th>Address</th>\n",
       "      <th>Street_Direction</th>\n",
       "      <th>Street_Name</th>\n",
       "      <th>Street_Type</th>\n",
       "      <th>Street_Suffix</th>\n",
       "      <th>Trunk_Dia</th>\n",
       "      <th>X_Coordinate</th>\n",
       "      <th>Y_Coordinate</th>\n",
       "      <th>Classification_Text</th>\n",
       "      <th>geometry</th>\n",
       "    </tr>\n",
       "  </thead>\n",
       "  <tbody>\n",
       "    <tr>\n",
       "      <th>0</th>\n",
       "      <td>2</td>\n",
       "      <td>69861</td>\n",
       "      <td>13</td>\n",
       "      <td>CHINESE ELM</td>\n",
       "      <td>ULMUS</td>\n",
       "      <td>PARVIFOLIA</td>\n",
       "      <td>Active</td>\n",
       "      <td>850.0</td>\n",
       "      <td></td>\n",
       "      <td>ADELAIDE</td>\n",
       "      <td>DR</td>\n",
       "      <td></td>\n",
       "      <td>16.0</td>\n",
       "      <td>6.528584e+06</td>\n",
       "      <td>1.880864e+06</td>\n",
       "      <td>Street Tree</td>\n",
       "      <td>POINT (-118.10936 34.16065)</td>\n",
       "    </tr>\n",
       "    <tr>\n",
       "      <th>1</th>\n",
       "      <td>3</td>\n",
       "      <td>69862</td>\n",
       "      <td>15</td>\n",
       "      <td>SAWTOOTH ZELKOVA</td>\n",
       "      <td>ZELKOVA</td>\n",
       "      <td>SERRATA</td>\n",
       "      <td>Active</td>\n",
       "      <td>858.0</td>\n",
       "      <td>None</td>\n",
       "      <td>ADELAIDE</td>\n",
       "      <td>DR</td>\n",
       "      <td>None</td>\n",
       "      <td>16.0</td>\n",
       "      <td>6.528584e+06</td>\n",
       "      <td>1.880894e+06</td>\n",
       "      <td>Street Tree</td>\n",
       "      <td>POINT (-118.10936 34.16073)</td>\n",
       "    </tr>\n",
       "    <tr>\n",
       "      <th>2</th>\n",
       "      <td>4</td>\n",
       "      <td>69863</td>\n",
       "      <td>16</td>\n",
       "      <td>CHINESE ELM</td>\n",
       "      <td>ULMUS</td>\n",
       "      <td>PARVIFOLIA</td>\n",
       "      <td>Active</td>\n",
       "      <td>859.0</td>\n",
       "      <td>None</td>\n",
       "      <td>ADELAIDE</td>\n",
       "      <td>DR</td>\n",
       "      <td>None</td>\n",
       "      <td>14.0</td>\n",
       "      <td>6.528544e+06</td>\n",
       "      <td>1.880891e+06</td>\n",
       "      <td>Street Tree</td>\n",
       "      <td>POINT (-118.10949 34.16072)</td>\n",
       "    </tr>\n",
       "    <tr>\n",
       "      <th>3</th>\n",
       "      <td>5</td>\n",
       "      <td>69864</td>\n",
       "      <td>17</td>\n",
       "      <td>CHINESE ELM</td>\n",
       "      <td>ULMUS</td>\n",
       "      <td>PARVIFOLIA</td>\n",
       "      <td>Active</td>\n",
       "      <td>867.0</td>\n",
       "      <td>None</td>\n",
       "      <td>ADELAIDE</td>\n",
       "      <td>DR</td>\n",
       "      <td>None</td>\n",
       "      <td>24.0</td>\n",
       "      <td>6.528545e+06</td>\n",
       "      <td>1.880926e+06</td>\n",
       "      <td>Street Tree</td>\n",
       "      <td>POINT (-118.10949 34.16082)</td>\n",
       "    </tr>\n",
       "    <tr>\n",
       "      <th>4</th>\n",
       "      <td>6</td>\n",
       "      <td>69865</td>\n",
       "      <td>18</td>\n",
       "      <td>CHINESE ELM</td>\n",
       "      <td>ULMUS</td>\n",
       "      <td>PARVIFOLIA</td>\n",
       "      <td>Active</td>\n",
       "      <td>867.0</td>\n",
       "      <td>None</td>\n",
       "      <td>ADELAIDE</td>\n",
       "      <td>DR</td>\n",
       "      <td>None</td>\n",
       "      <td>21.0</td>\n",
       "      <td>6.528544e+06</td>\n",
       "      <td>1.880963e+06</td>\n",
       "      <td>Street Tree</td>\n",
       "      <td>POINT (-118.10949 34.16092)</td>\n",
       "    </tr>\n",
       "  </tbody>\n",
       "</table>\n",
       "</div>"
      ],
      "text/plain": [
       "   OBJECTID  Tree_Rec Alt_Tree_ID       Common_Name    Genus     Species  \\\n",
       "0         2     69861          13       CHINESE ELM    ULMUS  PARVIFOLIA   \n",
       "1         3     69862          15  SAWTOOTH ZELKOVA  ZELKOVA     SERRATA   \n",
       "2         4     69863          16       CHINESE ELM    ULMUS  PARVIFOLIA   \n",
       "3         5     69864          17       CHINESE ELM    ULMUS  PARVIFOLIA   \n",
       "4         6     69865          18       CHINESE ELM    ULMUS  PARVIFOLIA   \n",
       "\n",
       "  Status_Text  Address Street_Direction Street_Name Street_Type Street_Suffix  \\\n",
       "0      Active    850.0                     ADELAIDE          DR                 \n",
       "1      Active    858.0             None    ADELAIDE          DR          None   \n",
       "2      Active    859.0             None    ADELAIDE          DR          None   \n",
       "3      Active    867.0             None    ADELAIDE          DR          None   \n",
       "4      Active    867.0             None    ADELAIDE          DR          None   \n",
       "\n",
       "   Trunk_Dia  X_Coordinate  Y_Coordinate Classification_Text  \\\n",
       "0       16.0  6.528584e+06  1.880864e+06         Street Tree   \n",
       "1       16.0  6.528584e+06  1.880894e+06         Street Tree   \n",
       "2       14.0  6.528544e+06  1.880891e+06         Street Tree   \n",
       "3       24.0  6.528545e+06  1.880926e+06         Street Tree   \n",
       "4       21.0  6.528544e+06  1.880963e+06         Street Tree   \n",
       "\n",
       "                      geometry  \n",
       "0  POINT (-118.10936 34.16065)  \n",
       "1  POINT (-118.10936 34.16073)  \n",
       "2  POINT (-118.10949 34.16072)  \n",
       "3  POINT (-118.10949 34.16082)  \n",
       "4  POINT (-118.10949 34.16092)  "
      ]
     },
     "execution_count": 7,
     "metadata": {},
     "output_type": "execute_result"
    }
   ],
   "source": [
    "# Display the dataframe\n",
    "street_trees_gdf.head()"
   ]
  },
  {
   "cell_type": "code",
   "execution_count": 8,
   "id": "5242d84f-35a9-47a0-986d-3ec8ec9f19df",
   "metadata": {},
   "outputs": [
    {
     "data": {
      "text/plain": [
       "57070"
      ]
     },
     "execution_count": 8,
     "metadata": {},
     "output_type": "execute_result"
    }
   ],
   "source": [
    "len(street_trees_gdf)"
   ]
  },
  {
   "cell_type": "code",
   "execution_count": 9,
   "id": "5a049b77-b22b-4465-8443-bb321bf0d216",
   "metadata": {},
   "outputs": [],
   "source": [
    "street_trees_gdf['fetched_on'] = today\n",
    "street_trees_gdf['municipality'] = 'Pasadena'\n",
    "street_trees_gdf['source'] = 'Esri endpoint'"
   ]
  },
  {
   "cell_type": "code",
   "execution_count": 10,
   "id": "36c7af1f-a88d-4fed-bc1e-af65b2c08d01",
   "metadata": {},
   "outputs": [],
   "source": [
    "street_trees_gdf.columns = street_trees_gdf.columns.str.lower()"
   ]
  },
  {
   "cell_type": "code",
   "execution_count": 11,
   "id": "f606da0c-32e7-4ba7-aeb6-9f169a863dd9",
   "metadata": {},
   "outputs": [
    {
     "data": {
      "text/plain": [
       "Index(['objectid', 'tree_rec', 'alt_tree_id', 'common_name', 'genus',\n",
       "       'species', 'status_text', 'address', 'street_direction', 'street_name',\n",
       "       'street_type', 'street_suffix', 'trunk_dia', 'x_coordinate',\n",
       "       'y_coordinate', 'classification_text', 'geometry', 'fetched_on',\n",
       "       'municipality', 'source'],\n",
       "      dtype='object')"
      ]
     },
     "execution_count": 11,
     "metadata": {},
     "output_type": "execute_result"
    }
   ],
   "source": [
    "street_trees_gdf.columns"
   ]
  },
  {
   "cell_type": "code",
   "execution_count": 12,
   "id": "6cc1a401-aa5a-4621-8cf2-de898c45e94f",
   "metadata": {},
   "outputs": [],
   "source": [
    "street_trees_gdf['lon'] = street_trees_gdf.geometry.x\n",
    "street_trees_gdf['lat'] = street_trees_gdf.geometry.y"
   ]
  },
  {
   "cell_type": "code",
   "execution_count": 13,
   "id": "0dfcabb2-2c0e-44da-aed5-d1a9c4f51dce",
   "metadata": {},
   "outputs": [],
   "source": [
    "street_trees_gdf['address'] = street_trees_gdf['address'].astype(str).str.replace('.0', '')"
   ]
  },
  {
   "cell_type": "code",
   "execution_count": 14,
   "id": "80acaa0b-8769-4798-81b7-be4585521fb7",
   "metadata": {},
   "outputs": [],
   "source": [
    "street_trees_gdf[['tree_rec', 'common_name', 'genus',\n",
    "       'species', 'status_text', 'address', 'street_direction', 'street_name',\n",
    "       'street_type', 'trunk_dia', 'fetched_on',\n",
    "       'municipality', 'lon', 'lat']].to_csv('../data/raw/cities/pasadena.csv', index=False)"
   ]
  }
 ],
 "metadata": {
  "kernelspec": {
   "display_name": "Python 3 (ipykernel)",
   "language": "python",
   "name": "python3"
  },
  "language_info": {
   "codemirror_mode": {
    "name": "ipython",
    "version": 3
   },
   "file_extension": ".py",
   "mimetype": "text/x-python",
   "name": "python",
   "nbconvert_exporter": "python",
   "pygments_lexer": "ipython3",
   "version": "3.10.13"
  }
 },
 "nbformat": 4,
 "nbformat_minor": 5
}
