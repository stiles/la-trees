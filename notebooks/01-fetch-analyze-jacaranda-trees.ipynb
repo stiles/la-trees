{
 "cells": [
  {
   "cell_type": "markdown",
   "id": "3c6450b0-4785-4672-9704-10932d9ea021",
   "metadata": {},
   "source": [
    "# Fetch and process\n",
    "> This notebook fetches and processes trees from a data set I've toyed with for years, collecting 1.6 million [records](https://docs.google.com/spreadsheets/d/1TP360PFXrhldG5Gnpfq_YrDoNDK-P6J7HUC5FT8DPJU/edit?pli=1#gid=507390167) from roughly 40 municipalities in Los Angeles County through a combination of public data repos and [open-records requests](https://docs.google.com/spreadsheets/d/1TP360PFXrhldG5Gnpfq_YrDoNDK-P6J7HUC5FT8DPJU/edit?pli=1#gid=524264714). Someday I'll endeavor to collect it again in a more documented way."
   ]
  },
  {
   "cell_type": "markdown",
   "id": "0651cee8-2c25-410e-ba6c-6af35dc452ba",
   "metadata": {},
   "source": [
    "---"
   ]
  },
  {
   "cell_type": "markdown",
   "id": "2cd6a4cf-3892-4cc9-97de-84f87dc86d7d",
   "metadata": {},
   "source": [
    "#### Load Python tools and Jupyter config"
   ]
  },
  {
   "cell_type": "code",
   "execution_count": 1,
   "id": "d51c4622-7e4d-44e5-99d4-a8c01e8a611f",
   "metadata": {},
   "outputs": [],
   "source": [
    "import os\n",
    "import pandas as pd\n",
    "import jupyter_black\n",
    "import pyarrow as pa\n",
    "import geopandas as gpd\n",
    "import contextily as cx\n",
    "import pyarrow.parquet as pq\n",
    "import matplotlib.pyplot as plt"
   ]
  },
  {
   "cell_type": "code",
   "execution_count": 2,
   "id": "576ce303-34f8-418b-8651-9dcb3b4d8f53",
   "metadata": {},
   "outputs": [
    {
     "data": {
      "text/html": [
       "\n",
       "                <script type=\"application/javascript\" id=\"jupyter_black\">\n",
       "                (function() {\n",
       "                    if (window.IPython === undefined) {\n",
       "                        return\n",
       "                    }\n",
       "                    var msg = \"WARNING: it looks like you might have loaded \" +\n",
       "                        \"jupyter_black in a non-lab notebook with \" +\n",
       "                        \"`is_lab=True`. Please double check, and if \" +\n",
       "                        \"loading with `%load_ext` please review the README!\"\n",
       "                    console.log(msg)\n",
       "                    alert(msg)\n",
       "                })()\n",
       "                </script>\n",
       "                "
      ],
      "text/plain": [
       "<IPython.core.display.HTML object>"
      ]
     },
     "metadata": {},
     "output_type": "display_data"
    }
   ],
   "source": [
    "jupyter_black.load()\n",
    "pd.options.display.max_columns = 100\n",
    "pd.options.display.max_rows = 1000\n",
    "profile_name = os.environ.get(\"AWS_PERSONAL_PROFILE\")"
   ]
  },
  {
   "cell_type": "code",
   "execution_count": 3,
   "id": "83b7fce7-b6e0-4146-b372-a53f86b4aefc",
   "metadata": {},
   "outputs": [],
   "source": [
    "today = pd.Timestamp.today().strftime(\"%Y-%m-%d\")"
   ]
  },
  {
   "cell_type": "markdown",
   "id": "18df54c6-5362-4f8a-a63f-05bd5ffa63d9",
   "metadata": {},
   "source": [
    "---"
   ]
  },
  {
   "cell_type": "markdown",
   "id": "3bbfd20b-7936-4f21-a091-697fca808ab1",
   "metadata": {},
   "source": [
    "## Fetch\n",
    "> This is an aggregated file from this directory: `data/municipalities`"
   ]
  },
  {
   "cell_type": "code",
   "execution_count": 4,
   "id": "4279c567-e786-42ba-8cde-b156855b8829",
   "metadata": {},
   "outputs": [],
   "source": [
    "src = (\n",
    "    pd.read_csv(\"../data/raw/all_lacounty_trees.csv\")\n",
    "    .drop([\"wkb_geometry\", \"oldspecies\"], axis=1)\n",
    "    .reset_index()\n",
    "    .rename(columns={\"index\": \"id\"})\n",
    ")"
   ]
  },
  {
   "cell_type": "code",
   "execution_count": 5,
   "id": "9791327c-254f-41c7-8c15-13b43365a8df",
   "metadata": {},
   "outputs": [
    {
     "data": {
      "text/html": [
       "<div>\n",
       "<style scoped>\n",
       "    .dataframe tbody tr th:only-of-type {\n",
       "        vertical-align: middle;\n",
       "    }\n",
       "\n",
       "    .dataframe tbody tr th {\n",
       "        vertical-align: top;\n",
       "    }\n",
       "\n",
       "    .dataframe thead th {\n",
       "        text-align: right;\n",
       "    }\n",
       "</style>\n",
       "<table border=\"1\" class=\"dataframe\">\n",
       "  <thead>\n",
       "    <tr style=\"text-align: right;\">\n",
       "      <th></th>\n",
       "      <th>id</th>\n",
       "      <th>place</th>\n",
       "      <th>ispalm</th>\n",
       "      <th>mexfanpalm</th>\n",
       "      <th>longitude</th>\n",
       "      <th>latitude</th>\n",
       "      <th>species</th>\n",
       "      <th>jacaranda</th>\n",
       "      <th>pine</th>\n",
       "      <th>oak</th>\n",
       "      <th>magnolia</th>\n",
       "      <th>category</th>\n",
       "      <th>camphor</th>\n",
       "      <th>ash</th>\n",
       "      <th>crepemyrtle</th>\n",
       "    </tr>\n",
       "  </thead>\n",
       "  <tbody>\n",
       "    <tr>\n",
       "      <th>0</th>\n",
       "      <td>0</td>\n",
       "      <td>santa_clarita</td>\n",
       "      <td>n</td>\n",
       "      <td>n</td>\n",
       "      <td>-118.537267</td>\n",
       "      <td>34.443010</td>\n",
       "      <td>afghan pine</td>\n",
       "      <td>n</td>\n",
       "      <td>y</td>\n",
       "      <td>n</td>\n",
       "      <td>n</td>\n",
       "      <td>pine</td>\n",
       "      <td>n</td>\n",
       "      <td>n</td>\n",
       "      <td>n</td>\n",
       "    </tr>\n",
       "    <tr>\n",
       "      <th>1</th>\n",
       "      <td>1</td>\n",
       "      <td>long_beach</td>\n",
       "      <td>n</td>\n",
       "      <td>n</td>\n",
       "      <td>-118.177886</td>\n",
       "      <td>33.830035</td>\n",
       "      <td>vacant</td>\n",
       "      <td>n</td>\n",
       "      <td>n</td>\n",
       "      <td>n</td>\n",
       "      <td>n</td>\n",
       "      <td>other</td>\n",
       "      <td>n</td>\n",
       "      <td>n</td>\n",
       "      <td>n</td>\n",
       "    </tr>\n",
       "    <tr>\n",
       "      <th>2</th>\n",
       "      <td>2</td>\n",
       "      <td>pomona</td>\n",
       "      <td>n</td>\n",
       "      <td>n</td>\n",
       "      <td>-117.738320</td>\n",
       "      <td>34.034966</td>\n",
       "      <td>vacant</td>\n",
       "      <td>n</td>\n",
       "      <td>n</td>\n",
       "      <td>n</td>\n",
       "      <td>n</td>\n",
       "      <td>other</td>\n",
       "      <td>n</td>\n",
       "      <td>n</td>\n",
       "      <td>n</td>\n",
       "    </tr>\n",
       "    <tr>\n",
       "      <th>3</th>\n",
       "      <td>3</td>\n",
       "      <td>pomona</td>\n",
       "      <td>n</td>\n",
       "      <td>n</td>\n",
       "      <td>-117.739325</td>\n",
       "      <td>34.035233</td>\n",
       "      <td>vacant</td>\n",
       "      <td>n</td>\n",
       "      <td>n</td>\n",
       "      <td>n</td>\n",
       "      <td>n</td>\n",
       "      <td>other</td>\n",
       "      <td>n</td>\n",
       "      <td>n</td>\n",
       "      <td>n</td>\n",
       "    </tr>\n",
       "    <tr>\n",
       "      <th>4</th>\n",
       "      <td>4</td>\n",
       "      <td>pomona</td>\n",
       "      <td>n</td>\n",
       "      <td>n</td>\n",
       "      <td>-117.739473</td>\n",
       "      <td>34.035238</td>\n",
       "      <td>vacant</td>\n",
       "      <td>n</td>\n",
       "      <td>n</td>\n",
       "      <td>n</td>\n",
       "      <td>n</td>\n",
       "      <td>other</td>\n",
       "      <td>n</td>\n",
       "      <td>n</td>\n",
       "      <td>n</td>\n",
       "    </tr>\n",
       "  </tbody>\n",
       "</table>\n",
       "</div>"
      ],
      "text/plain": [
       "   id          place ispalm mexfanpalm   longitude   latitude      species  \\\n",
       "0   0  santa_clarita      n          n -118.537267  34.443010  afghan pine   \n",
       "1   1     long_beach      n          n -118.177886  33.830035       vacant   \n",
       "2   2         pomona      n          n -117.738320  34.034966       vacant   \n",
       "3   3         pomona      n          n -117.739325  34.035233       vacant   \n",
       "4   4         pomona      n          n -117.739473  34.035238       vacant   \n",
       "\n",
       "  jacaranda pine oak magnolia category camphor ash crepemyrtle  \n",
       "0         n    y   n        n     pine       n   n           n  \n",
       "1         n    n   n        n    other       n   n           n  \n",
       "2         n    n   n        n    other       n   n           n  \n",
       "3         n    n   n        n    other       n   n           n  \n",
       "4         n    n   n        n    other       n   n           n  "
      ]
     },
     "execution_count": 5,
     "metadata": {},
     "output_type": "execute_result"
    }
   ],
   "source": [
    "src.head()"
   ]
  },
  {
   "cell_type": "markdown",
   "id": "0fd83009-6320-464d-bacb-5d5924d0260f",
   "metadata": {},
   "source": [
    "---"
   ]
  },
  {
   "cell_type": "markdown",
   "id": "1e6cd204-3c61-4319-a829-f9b6899c8cfb",
   "metadata": {},
   "source": [
    "## Process"
   ]
  },
  {
   "cell_type": "code",
   "execution_count": 6,
   "id": "3f81bcc2-12d6-48ac-9447-1c46f952521d",
   "metadata": {},
   "outputs": [],
   "source": [
    "def convert_yn_to_boolean(df, columns):\n",
    "    for column in columns:\n",
    "        df[column] = df[column].map({\"y\": True, \"n\": False})\n",
    "    return df"
   ]
  },
  {
   "cell_type": "markdown",
   "id": "e5b1d145-5464-4c6b-a6da-798f219f2644",
   "metadata": {},
   "source": [
    "#### List of columns to convert"
   ]
  },
  {
   "cell_type": "code",
   "execution_count": 7,
   "id": "0409404c-67c1-49be-ac19-7de04e589ef1",
   "metadata": {},
   "outputs": [],
   "source": [
    "columns_to_convert = [\n",
    "    \"ispalm\",\n",
    "    \"mexfanpalm\",\n",
    "    \"jacaranda\",\n",
    "    \"pine\",\n",
    "    \"oak\",\n",
    "    \"magnolia\",\n",
    "    \"camphor\",\n",
    "    \"ash\",\n",
    "    \"crepemyrtle\",\n",
    "]"
   ]
  },
  {
   "cell_type": "markdown",
   "id": "6a3dd2db-39ac-47c1-9c4b-70859c155884",
   "metadata": {},
   "source": [
    "#### Convert those columns"
   ]
  },
  {
   "cell_type": "code",
   "execution_count": 8,
   "id": "e9cf7fcb-f8e0-4e64-aacb-88d069f51063",
   "metadata": {},
   "outputs": [],
   "source": [
    "src = convert_yn_to_boolean(src, columns_to_convert)"
   ]
  },
  {
   "cell_type": "markdown",
   "id": "9d8b0071-a552-470e-92c4-ed2150018268",
   "metadata": {},
   "source": [
    "#### Clean up place and species names"
   ]
  },
  {
   "cell_type": "code",
   "execution_count": 9,
   "id": "d04ed941-800d-458e-9225-6b541dc350aa",
   "metadata": {},
   "outputs": [],
   "source": [
    "src[\"place\"] = src[\"place\"].str.replace(\"_\", \" \").str.title()\n",
    "src[\"species\"] = src[\"species\"].str.replace(\"_\", \" \").str.title()"
   ]
  },
  {
   "cell_type": "code",
   "execution_count": 10,
   "id": "e91ed902-f2c7-416e-8818-2920db342669",
   "metadata": {},
   "outputs": [],
   "source": [
    "df = src[\n",
    "    [\n",
    "        \"id\",\n",
    "        \"place\",\n",
    "        \"species\",\n",
    "        \"ispalm\",\n",
    "        \"mexfanpalm\",\n",
    "        \"jacaranda\",\n",
    "        \"pine\",\n",
    "        \"oak\",\n",
    "        \"magnolia\",\n",
    "        \"category\",\n",
    "        \"camphor\",\n",
    "        \"ash\",\n",
    "        \"crepemyrtle\",\n",
    "        \"longitude\",\n",
    "        \"latitude\",\n",
    "    ]\n",
    "].copy()"
   ]
  },
  {
   "cell_type": "markdown",
   "id": "12df43d0-1450-4ead-96b5-c7cf4e495931",
   "metadata": {},
   "source": [
    "---"
   ]
  },
  {
   "cell_type": "markdown",
   "id": "cd621f15-5020-43d1-ac37-f11ddc936236",
   "metadata": {},
   "source": [
    "## Analyze"
   ]
  },
  {
   "cell_type": "markdown",
   "id": "8688f12b-3d49-43f2-8185-a04606ad9b26",
   "metadata": {},
   "source": [
    "#### How many trees?"
   ]
  },
  {
   "cell_type": "code",
   "execution_count": 11,
   "id": "e32dceb1-1f40-4694-b07a-319ca3feee0a",
   "metadata": {},
   "outputs": [
    {
     "data": {
      "text/plain": [
       "1603004"
      ]
     },
     "execution_count": 11,
     "metadata": {},
     "output_type": "execute_result"
    }
   ],
   "source": [
    "len(df)"
   ]
  },
  {
   "cell_type": "markdown",
   "id": "16c3824a-4387-4f32-8cd4-b79dfd98f8a3",
   "metadata": {},
   "source": [
    "#### How many trees without a species specified? "
   ]
  },
  {
   "cell_type": "code",
   "execution_count": 12,
   "id": "02002a2f-29eb-4c64-8c01-81be82e2c0c8",
   "metadata": {},
   "outputs": [
    {
     "data": {
      "text/plain": [
       "216742"
      ]
     },
     "execution_count": 12,
     "metadata": {},
     "output_type": "execute_result"
    }
   ],
   "source": [
    "len(df.query(\"species == 'Vacant'\"))"
   ]
  },
  {
   "cell_type": "markdown",
   "id": "5776fcdd-e783-48cc-9902-f2eb88ccee2e",
   "metadata": {},
   "source": [
    "#### How many distinct species?"
   ]
  },
  {
   "cell_type": "code",
   "execution_count": 13,
   "id": "5d01109e-4373-412e-b8b0-eaa76b3fb5cf",
   "metadata": {},
   "outputs": [
    {
     "data": {
      "text/plain": [
       "1387"
      ]
     },
     "execution_count": 13,
     "metadata": {},
     "output_type": "execute_result"
    }
   ],
   "source": [
    "len(df.query(\"species != 'Vacant'\")[\"species\"].str.strip().unique())"
   ]
  },
  {
   "cell_type": "markdown",
   "id": "c8bde7dd-ca9e-441c-97ad-981e8fd61194",
   "metadata": {},
   "source": [
    "#### Random five trees"
   ]
  },
  {
   "cell_type": "code",
   "execution_count": 14,
   "id": "933c67cb-ba3f-41ce-8f0b-e89f56e87a50",
   "metadata": {},
   "outputs": [
    {
     "data": {
      "text/html": [
       "<div>\n",
       "<style scoped>\n",
       "    .dataframe tbody tr th:only-of-type {\n",
       "        vertical-align: middle;\n",
       "    }\n",
       "\n",
       "    .dataframe tbody tr th {\n",
       "        vertical-align: top;\n",
       "    }\n",
       "\n",
       "    .dataframe thead th {\n",
       "        text-align: right;\n",
       "    }\n",
       "</style>\n",
       "<table border=\"1\" class=\"dataframe\">\n",
       "  <thead>\n",
       "    <tr style=\"text-align: right;\">\n",
       "      <th></th>\n",
       "      <th>id</th>\n",
       "      <th>place</th>\n",
       "      <th>species</th>\n",
       "      <th>ispalm</th>\n",
       "      <th>mexfanpalm</th>\n",
       "      <th>jacaranda</th>\n",
       "      <th>pine</th>\n",
       "      <th>oak</th>\n",
       "      <th>magnolia</th>\n",
       "      <th>category</th>\n",
       "      <th>camphor</th>\n",
       "      <th>ash</th>\n",
       "      <th>crepemyrtle</th>\n",
       "      <th>longitude</th>\n",
       "      <th>latitude</th>\n",
       "    </tr>\n",
       "  </thead>\n",
       "  <tbody>\n",
       "    <tr>\n",
       "      <th>35328</th>\n",
       "      <td>35328</td>\n",
       "      <td>Beverly Hills</td>\n",
       "      <td>Vacant</td>\n",
       "      <td>False</td>\n",
       "      <td>False</td>\n",
       "      <td>False</td>\n",
       "      <td>False</td>\n",
       "      <td>False</td>\n",
       "      <td>False</td>\n",
       "      <td>other</td>\n",
       "      <td>False</td>\n",
       "      <td>False</td>\n",
       "      <td>False</td>\n",
       "      <td>-118.397329</td>\n",
       "      <td>34.104607</td>\n",
       "    </tr>\n",
       "    <tr>\n",
       "      <th>850255</th>\n",
       "      <td>850255</td>\n",
       "      <td>Duarte</td>\n",
       "      <td>Indian Laurel Fig</td>\n",
       "      <td>False</td>\n",
       "      <td>False</td>\n",
       "      <td>False</td>\n",
       "      <td>False</td>\n",
       "      <td>False</td>\n",
       "      <td>False</td>\n",
       "      <td>other</td>\n",
       "      <td>False</td>\n",
       "      <td>False</td>\n",
       "      <td>False</td>\n",
       "      <td>-117.944831</td>\n",
       "      <td>34.138261</td>\n",
       "    </tr>\n",
       "    <tr>\n",
       "      <th>129467</th>\n",
       "      <td>129467</td>\n",
       "      <td>Santa Clarita</td>\n",
       "      <td>Afghan Pine</td>\n",
       "      <td>False</td>\n",
       "      <td>False</td>\n",
       "      <td>False</td>\n",
       "      <td>True</td>\n",
       "      <td>False</td>\n",
       "      <td>False</td>\n",
       "      <td>pine</td>\n",
       "      <td>False</td>\n",
       "      <td>False</td>\n",
       "      <td>False</td>\n",
       "      <td>-118.543898</td>\n",
       "      <td>34.435607</td>\n",
       "    </tr>\n",
       "    <tr>\n",
       "      <th>1301530</th>\n",
       "      <td>1301530</td>\n",
       "      <td>Carson</td>\n",
       "      <td>Vacant</td>\n",
       "      <td>False</td>\n",
       "      <td>False</td>\n",
       "      <td>False</td>\n",
       "      <td>False</td>\n",
       "      <td>False</td>\n",
       "      <td>False</td>\n",
       "      <td>other</td>\n",
       "      <td>False</td>\n",
       "      <td>False</td>\n",
       "      <td>False</td>\n",
       "      <td>-118.271636</td>\n",
       "      <td>33.829092</td>\n",
       "    </tr>\n",
       "    <tr>\n",
       "      <th>276722</th>\n",
       "      <td>276722</td>\n",
       "      <td>Alhambra</td>\n",
       "      <td>Southern Magnolia</td>\n",
       "      <td>False</td>\n",
       "      <td>False</td>\n",
       "      <td>False</td>\n",
       "      <td>False</td>\n",
       "      <td>False</td>\n",
       "      <td>True</td>\n",
       "      <td>magnolia</td>\n",
       "      <td>False</td>\n",
       "      <td>False</td>\n",
       "      <td>False</td>\n",
       "      <td>-96.001469</td>\n",
       "      <td>40.000289</td>\n",
       "    </tr>\n",
       "  </tbody>\n",
       "</table>\n",
       "</div>"
      ],
      "text/plain": [
       "              id          place            species ispalm mexfanpalm  \\\n",
       "35328      35328  Beverly Hills             Vacant  False      False   \n",
       "850255    850255         Duarte  Indian Laurel Fig  False      False   \n",
       "129467    129467  Santa Clarita        Afghan Pine  False      False   \n",
       "1301530  1301530         Carson             Vacant  False      False   \n",
       "276722    276722       Alhambra  Southern Magnolia  False      False   \n",
       "\n",
       "         jacaranda   pine    oak magnolia  category  camphor    ash  \\\n",
       "35328        False  False  False    False     other    False  False   \n",
       "850255       False  False  False    False     other    False  False   \n",
       "129467       False   True  False    False      pine    False  False   \n",
       "1301530      False  False  False    False     other    False  False   \n",
       "276722       False  False  False     True  magnolia    False  False   \n",
       "\n",
       "         crepemyrtle   longitude   latitude  \n",
       "35328          False -118.397329  34.104607  \n",
       "850255         False -117.944831  34.138261  \n",
       "129467         False -118.543898  34.435607  \n",
       "1301530        False -118.271636  33.829092  \n",
       "276722         False  -96.001469  40.000289  "
      ]
     },
     "execution_count": 14,
     "metadata": {},
     "output_type": "execute_result"
    }
   ],
   "source": [
    "df.sample(5)"
   ]
  },
  {
   "cell_type": "markdown",
   "id": "def7897c-4d58-40ee-befa-1d91fa5d66e9",
   "metadata": {},
   "source": [
    "---"
   ]
  },
  {
   "cell_type": "markdown",
   "id": "61de8577-9cb5-4b47-be08-c2db9c50ae23",
   "metadata": {},
   "source": [
    "## Aggregate"
   ]
  },
  {
   "cell_type": "markdown",
   "id": "1503419a-8714-4dfe-8015-e70ba68d3cc9",
   "metadata": {},
   "source": [
    "#### How many trees in each place? "
   ]
  },
  {
   "cell_type": "code",
   "execution_count": 15,
   "id": "d379b4dd-cb61-4b38-a07c-ae2493b0c385",
   "metadata": {},
   "outputs": [
    {
     "data": {
      "text/html": [
       "<div>\n",
       "<style scoped>\n",
       "    .dataframe tbody tr th:only-of-type {\n",
       "        vertical-align: middle;\n",
       "    }\n",
       "\n",
       "    .dataframe tbody tr th {\n",
       "        vertical-align: top;\n",
       "    }\n",
       "\n",
       "    .dataframe thead th {\n",
       "        text-align: right;\n",
       "    }\n",
       "</style>\n",
       "<table border=\"1\" class=\"dataframe\">\n",
       "  <thead>\n",
       "    <tr style=\"text-align: right;\">\n",
       "      <th></th>\n",
       "      <th>place</th>\n",
       "      <th>count</th>\n",
       "    </tr>\n",
       "  </thead>\n",
       "  <tbody>\n",
       "    <tr>\n",
       "      <th>19</th>\n",
       "      <td>Los Angeles City</td>\n",
       "      <td>540668</td>\n",
       "    </tr>\n",
       "    <tr>\n",
       "      <th>18</th>\n",
       "      <td>Long Beach</td>\n",
       "      <td>140822</td>\n",
       "    </tr>\n",
       "    <tr>\n",
       "      <th>33</th>\n",
       "      <td>Santa Clarita</td>\n",
       "      <td>111473</td>\n",
       "    </tr>\n",
       "    <tr>\n",
       "      <th>20</th>\n",
       "      <td>Los Angeles County</td>\n",
       "      <td>96053</td>\n",
       "    </tr>\n",
       "    <tr>\n",
       "      <th>25</th>\n",
       "      <td>Pasadena</td>\n",
       "      <td>71132</td>\n",
       "    </tr>\n",
       "  </tbody>\n",
       "</table>\n",
       "</div>"
      ],
      "text/plain": [
       "                 place   count\n",
       "19    Los Angeles City  540668\n",
       "18          Long Beach  140822\n",
       "33       Santa Clarita  111473\n",
       "20  Los Angeles County   96053\n",
       "25            Pasadena   71132"
      ]
     },
     "execution_count": 15,
     "metadata": {},
     "output_type": "execute_result"
    }
   ],
   "source": [
    "city_counts = (\n",
    "    df.groupby(\"place\")[\"id\"]\n",
    "    .count()\n",
    "    .reset_index(name=\"count\")\n",
    "    .sort_values(\"count\", ascending=False)\n",
    ")\n",
    "city_counts.head()"
   ]
  },
  {
   "cell_type": "markdown",
   "id": "74ae0c72-82f4-4a43-a264-43365effb5fb",
   "metadata": {},
   "source": [
    "#### Species by city"
   ]
  },
  {
   "cell_type": "code",
   "execution_count": 16,
   "id": "17a222c5-9194-413c-9c43-fc380bafdbe9",
   "metadata": {},
   "outputs": [
    {
     "data": {
      "text/html": [
       "<div>\n",
       "<style scoped>\n",
       "    .dataframe tbody tr th:only-of-type {\n",
       "        vertical-align: middle;\n",
       "    }\n",
       "\n",
       "    .dataframe tbody tr th {\n",
       "        vertical-align: top;\n",
       "    }\n",
       "\n",
       "    .dataframe thead th {\n",
       "        text-align: right;\n",
       "    }\n",
       "</style>\n",
       "<table border=\"1\" class=\"dataframe\">\n",
       "  <thead>\n",
       "    <tr style=\"text-align: right;\">\n",
       "      <th></th>\n",
       "      <th>place</th>\n",
       "      <th>species</th>\n",
       "      <th>count</th>\n",
       "    </tr>\n",
       "  </thead>\n",
       "  <tbody>\n",
       "    <tr>\n",
       "      <th>4081</th>\n",
       "      <td>Los Angeles City</td>\n",
       "      <td>Crepe Myrtle</td>\n",
       "      <td>37740</td>\n",
       "    </tr>\n",
       "    <tr>\n",
       "      <th>3948</th>\n",
       "      <td>Los Angeles City</td>\n",
       "      <td>American Sweetgum</td>\n",
       "      <td>33627</td>\n",
       "    </tr>\n",
       "    <tr>\n",
       "      <th>4244</th>\n",
       "      <td>Los Angeles City</td>\n",
       "      <td>Mexican Fan Palm</td>\n",
       "      <td>25079</td>\n",
       "    </tr>\n",
       "    <tr>\n",
       "      <th>4408</th>\n",
       "      <td>Los Angeles City</td>\n",
       "      <td>Southern Magnolia</td>\n",
       "      <td>22838</td>\n",
       "    </tr>\n",
       "    <tr>\n",
       "      <th>4249</th>\n",
       "      <td>Los Angeles City</td>\n",
       "      <td>Modesto Ash</td>\n",
       "      <td>14126</td>\n",
       "    </tr>\n",
       "  </tbody>\n",
       "</table>\n",
       "</div>"
      ],
      "text/plain": [
       "                 place            species  count\n",
       "4081  Los Angeles City       Crepe Myrtle  37740\n",
       "3948  Los Angeles City  American Sweetgum  33627\n",
       "4244  Los Angeles City   Mexican Fan Palm  25079\n",
       "4408  Los Angeles City  Southern Magnolia  22838\n",
       "4249  Los Angeles City        Modesto Ash  14126"
      ]
     },
     "execution_count": 16,
     "metadata": {},
     "output_type": "execute_result"
    }
   ],
   "source": [
    "city_species_counts = (\n",
    "    df.query('species != \"Vacant\"')\n",
    "    .groupby([\"place\", \"species\"])[\"id\"]\n",
    "    .count()\n",
    "    .reset_index(name=\"count\")\n",
    "    .sort_values(\"count\", ascending=False)\n",
    ")\n",
    "city_species_counts.head()"
   ]
  },
  {
   "cell_type": "markdown",
   "id": "6002781e-0ecc-4722-9a6e-861a62d42451",
   "metadata": {},
   "source": [
    "#### Jacarandas"
   ]
  },
  {
   "cell_type": "code",
   "execution_count": 17,
   "id": "f109c55a-5d6c-42e5-bc1d-668e4486e757",
   "metadata": {},
   "outputs": [
    {
     "data": {
      "text/html": [
       "<div>\n",
       "<style scoped>\n",
       "    .dataframe tbody tr th:only-of-type {\n",
       "        vertical-align: middle;\n",
       "    }\n",
       "\n",
       "    .dataframe tbody tr th {\n",
       "        vertical-align: top;\n",
       "    }\n",
       "\n",
       "    .dataframe thead th {\n",
       "        text-align: right;\n",
       "    }\n",
       "</style>\n",
       "<table border=\"1\" class=\"dataframe\">\n",
       "  <thead>\n",
       "    <tr style=\"text-align: right;\">\n",
       "      <th></th>\n",
       "      <th>place</th>\n",
       "      <th>jacaradas</th>\n",
       "    </tr>\n",
       "  </thead>\n",
       "  <tbody>\n",
       "    <tr>\n",
       "      <th>19</th>\n",
       "      <td>Los Angeles City</td>\n",
       "      <td>13168</td>\n",
       "    </tr>\n",
       "    <tr>\n",
       "      <th>18</th>\n",
       "      <td>Long Beach</td>\n",
       "      <td>6798</td>\n",
       "    </tr>\n",
       "    <tr>\n",
       "      <th>20</th>\n",
       "      <td>Los Angeles County</td>\n",
       "      <td>2247</td>\n",
       "    </tr>\n",
       "    <tr>\n",
       "      <th>15</th>\n",
       "      <td>Glendale</td>\n",
       "      <td>2031</td>\n",
       "    </tr>\n",
       "    <tr>\n",
       "      <th>39</th>\n",
       "      <td>Whittier</td>\n",
       "      <td>1774</td>\n",
       "    </tr>\n",
       "  </tbody>\n",
       "</table>\n",
       "</div>"
      ],
      "text/plain": [
       "                 place  jacaradas\n",
       "19    Los Angeles City      13168\n",
       "18          Long Beach       6798\n",
       "20  Los Angeles County       2247\n",
       "15            Glendale       2031\n",
       "39            Whittier       1774"
      ]
     },
     "execution_count": 17,
     "metadata": {},
     "output_type": "execute_result"
    }
   ],
   "source": [
    "city_jacarandas = (\n",
    "    df.query('species != \"Vacant\" and jacaranda == True')\n",
    "    .groupby([\"place\"])[\"id\"]\n",
    "    .count()\n",
    "    .reset_index(name=\"jacaradas\")\n",
    "    .sort_values(\"jacaradas\", ascending=False)\n",
    ")\n",
    "city_jacarandas.head()"
   ]
  },
  {
   "cell_type": "markdown",
   "id": "00b74a58-397a-49c8-8cab-3c4e90f05055",
   "metadata": {},
   "source": [
    "#### Function to determine palm tree share of all trees"
   ]
  },
  {
   "cell_type": "code",
   "execution_count": 18,
   "id": "79abc93d-a709-4428-9f23-af9198876384",
   "metadata": {},
   "outputs": [],
   "source": [
    "def calculate_tree_shares(df, place_column, attribute_column):\n",
    "    \"\"\"\n",
    "    Calculate the share of a specific type of tree (indicated by attribute_column)\n",
    "    out of the total trees, grouped by the specified place column.\n",
    "\n",
    "    Parameters:\n",
    "    - df: DataFrame containing the data.\n",
    "    - place_column: String, name of the column indicating the place (e.g., city, neighborhood).\n",
    "    - attribute_column: String, name of the boolean column indicating the presence of a specific tree type.\n",
    "\n",
    "    Returns:\n",
    "    - DataFrame with columns for place, total trees, count of specified tree type,\n",
    "      and share of specified tree type, sorted by share in descending order.\n",
    "    \"\"\"\n",
    "    tree_counts = (\n",
    "        df.groupby(place_column)\n",
    "        .agg(\n",
    "            total_trees=pd.NamedAgg(column=attribute_column, aggfunc=\"count\"),\n",
    "            specific_trees=pd.NamedAgg(column=attribute_column, aggfunc=\"sum\"),\n",
    "        )\n",
    "        .reset_index()\n",
    "    )\n",
    "\n",
    "    tree_counts[\"specific_trees\"] = tree_counts[\"specific_trees\"].astype(int)\n",
    "\n",
    "    tree_counts[\"tree_share\"] = (\n",
    "        (tree_counts[\"specific_trees\"] / tree_counts[\"total_trees\"]) * 100\n",
    "    ).round(2)\n",
    "\n",
    "    tree_counts_sorted = tree_counts.sort_values(\"tree_share\", ascending=False)\n",
    "\n",
    "    return tree_counts_sorted"
   ]
  },
  {
   "cell_type": "markdown",
   "id": "104fae57-679c-481c-9f9b-2f43966546ae",
   "metadata": {},
   "source": [
    "#### Calculate the share of palm trees"
   ]
  },
  {
   "cell_type": "code",
   "execution_count": 19,
   "id": "b9121c2a-30de-49ac-9c42-259075cbfb1e",
   "metadata": {},
   "outputs": [],
   "source": [
    "la_county_palm_shares = calculate_tree_shares(df, \"place\", \"ispalm\")"
   ]
  },
  {
   "cell_type": "markdown",
   "id": "0263b59c-8bd7-4861-9c69-f0893bb06760",
   "metadata": {},
   "source": [
    "#### How many LA trees are palms?"
   ]
  },
  {
   "cell_type": "code",
   "execution_count": 20,
   "id": "34e386d5-d80e-42ba-bfb7-2425678d7bd1",
   "metadata": {},
   "outputs": [
    {
     "data": {
      "text/html": [
       "<div>\n",
       "<style scoped>\n",
       "    .dataframe tbody tr th:only-of-type {\n",
       "        vertical-align: middle;\n",
       "    }\n",
       "\n",
       "    .dataframe tbody tr th {\n",
       "        vertical-align: top;\n",
       "    }\n",
       "\n",
       "    .dataframe thead th {\n",
       "        text-align: right;\n",
       "    }\n",
       "</style>\n",
       "<table border=\"1\" class=\"dataframe\">\n",
       "  <thead>\n",
       "    <tr style=\"text-align: right;\">\n",
       "      <th></th>\n",
       "      <th>place</th>\n",
       "      <th>total_trees</th>\n",
       "      <th>specific_trees</th>\n",
       "      <th>tree_share</th>\n",
       "    </tr>\n",
       "  </thead>\n",
       "  <tbody>\n",
       "    <tr>\n",
       "      <th>19</th>\n",
       "      <td>Los Angeles City</td>\n",
       "      <td>540668</td>\n",
       "      <td>41928</td>\n",
       "      <td>7.75</td>\n",
       "    </tr>\n",
       "  </tbody>\n",
       "</table>\n",
       "</div>"
      ],
      "text/plain": [
       "               place  total_trees  specific_trees  tree_share\n",
       "19  Los Angeles City       540668           41928        7.75"
      ]
     },
     "execution_count": 20,
     "metadata": {},
     "output_type": "execute_result"
    }
   ],
   "source": [
    "la_county_palm_shares.query('place==\"Los Angeles City\"').head()"
   ]
  },
  {
   "cell_type": "markdown",
   "id": "dd39b768-998b-4971-b802-5b08b2dfd283",
   "metadata": {},
   "source": [
    "---"
   ]
  },
  {
   "cell_type": "markdown",
   "id": "63189d43-a0ac-4b0a-816d-ed4ceee73b94",
   "metadata": {},
   "source": [
    "## Geography"
   ]
  },
  {
   "cell_type": "markdown",
   "id": "b69b883d-c49d-4d91-bb3c-7ffdaec6bb9c",
   "metadata": {},
   "source": [
    "#### Create a geodataframe"
   ]
  },
  {
   "cell_type": "code",
   "execution_count": 21,
   "id": "5d178a9a-8ec2-4173-812b-ac2c3721ea62",
   "metadata": {},
   "outputs": [],
   "source": [
    "geometry = gpd.points_from_xy(df.longitude, df.latitude)\n",
    "gdf = (\n",
    "    gpd.GeoDataFrame(df, geometry=geometry)\n",
    "    .drop([\"longitude\", \"latitude\"], axis=1)\n",
    "    .set_crs(\"4326\")\n",
    ")"
   ]
  },
  {
   "cell_type": "code",
   "execution_count": 22,
   "id": "f69ce640-3086-4b9c-8963-56dc41042497",
   "metadata": {},
   "outputs": [
    {
     "data": {
      "text/plain": [
       "<Axes: >"
      ]
     },
     "execution_count": 22,
     "metadata": {},
     "output_type": "execute_result"
    },
    {
     "data": {
      "image/png": "[encoded data removed]",
      "text/plain": [
       "<Figure size 640x480 with 1 Axes>"
      ]
     },
     "metadata": {},
     "output_type": "display_data"
    }
   ],
   "source": [
    "gdf.query('place == \"Beverly Hills\"').plot(markersize=0.1)"
   ]
  },
  {
   "cell_type": "markdown",
   "id": "c015f7e8-1220-4eeb-9825-d1aa1a667a4d",
   "metadata": {},
   "source": [
    "#### LA County cities, unincorporated areas and LA City neighborhoods"
   ]
  },
  {
   "cell_type": "code",
   "execution_count": 39,
   "id": "f8c687bc-da8c-4471-b5ac-8548d4034e30",
   "metadata": {},
   "outputs": [],
   "source": [
    "import requests\n",
    "import geopandas as gpd\n",
    "from io import StringIO\n",
    "\n",
    "url = \"https://public.gis.lacounty.gov/public/rest/services/LACounty_Dynamic/Political_Boundaries/MapServer/19/query\"\n",
    "params = {\"outFields\": \"*\", \"where\": \"1=1\", \"f\": \"geojson\"}\n",
    "\n",
    "response = requests.get(url, params=params)\n",
    "\n",
    "if response.status_code == 200:\n",
    "    data = response.json()\n",
    "    cities_gdf = gpd.GeoDataFrame.from_features(data[\"features\"])\n",
    "    cities_gdf.columns = cities_gdf.columns.str.lower()\n",
    "else:\n",
    "    print(\"Failed to fetch data:\", response.status_code, response.text)"
   ]
  },
  {
   "cell_type": "code",
   "execution_count": null,
   "id": "d25ae921-e606-4c68-a5e2-4ff5c9f8d2e5",
   "metadata": {},
   "outputs": [],
   "source": []
  },
  {
   "cell_type": "code",
   "execution_count": 63,
   "id": "26479536-1daf-4df3-a882-3f962ca00e00",
   "metadata": {},
   "outputs": [
    {
     "data": {
      "text/html": [
       "<div>\n",
       "<style scoped>\n",
       "    .dataframe tbody tr th:only-of-type {\n",
       "        vertical-align: middle;\n",
       "    }\n",
       "\n",
       "    .dataframe tbody tr th {\n",
       "        vertical-align: top;\n",
       "    }\n",
       "\n",
       "    .dataframe thead th {\n",
       "        text-align: right;\n",
       "    }\n",
       "</style>\n",
       "<table border=\"1\" class=\"dataframe\">\n",
       "  <thead>\n",
       "    <tr style=\"text-align: right;\">\n",
       "      <th></th>\n",
       "      <th>geometry</th>\n",
       "      <th>objectid</th>\n",
       "      <th>city_type</th>\n",
       "      <th>city_name</th>\n",
       "      <th>city_label</th>\n",
       "      <th>abbr</th>\n",
       "      <th>of_area_sm</th>\n",
       "      <th>feat_type</th>\n",
       "      <th>shape.starea()</th>\n",
       "      <th>shape.stlength()</th>\n",
       "    </tr>\n",
       "  </thead>\n",
       "  <tbody>\n",
       "    <tr>\n",
       "      <th>1</th>\n",
       "      <td>POLYGON ((-118.27989 33.75637, -118.27990 33.7...</td>\n",
       "      <td>1535</td>\n",
       "      <td>City</td>\n",
       "      <td>Los Angeles</td>\n",
       "      <td>Los Angeles</td>\n",
       "      <td>LA</td>\n",
       "      <td>468.852</td>\n",
       "      <td>Pier</td>\n",
       "      <td>5.488869e+04</td>\n",
       "      <td>1.788359e+03</td>\n",
       "    </tr>\n",
       "    <tr>\n",
       "      <th>27</th>\n",
       "      <td>POLYGON ((-118.27478 33.74069, -118.27455 33.7...</td>\n",
       "      <td>1564</td>\n",
       "      <td>City</td>\n",
       "      <td>Los Angeles</td>\n",
       "      <td>Los Angeles</td>\n",
       "      <td>LA</td>\n",
       "      <td>468.852</td>\n",
       "      <td>Land</td>\n",
       "      <td>9.121841e+07</td>\n",
       "      <td>1.015325e+05</td>\n",
       "    </tr>\n",
       "    <tr>\n",
       "      <th>29</th>\n",
       "      <td>POLYGON ((-118.45962 33.96368, -118.45740 33.9...</td>\n",
       "      <td>1566</td>\n",
       "      <td>City</td>\n",
       "      <td>Los Angeles</td>\n",
       "      <td>Los Angeles</td>\n",
       "      <td>LA</td>\n",
       "      <td>468.852</td>\n",
       "      <td>Water</td>\n",
       "      <td>1.972737e+06</td>\n",
       "      <td>6.163658e+03</td>\n",
       "    </tr>\n",
       "    <tr>\n",
       "      <th>33</th>\n",
       "      <td>POLYGON ((-118.27857 33.75735, -118.27860 33.7...</td>\n",
       "      <td>1570</td>\n",
       "      <td>City</td>\n",
       "      <td>Los Angeles</td>\n",
       "      <td>Los Angeles</td>\n",
       "      <td>LA</td>\n",
       "      <td>468.852</td>\n",
       "      <td>Pier</td>\n",
       "      <td>3.231881e+04</td>\n",
       "      <td>9.721960e+02</td>\n",
       "    </tr>\n",
       "    <tr>\n",
       "      <th>34</th>\n",
       "      <td>POLYGON ((-118.27742 33.70777, -118.27741 33.7...</td>\n",
       "      <td>1571</td>\n",
       "      <td>City</td>\n",
       "      <td>Los Angeles</td>\n",
       "      <td>Los Angeles</td>\n",
       "      <td>LA</td>\n",
       "      <td>468.852</td>\n",
       "      <td>Breakwater</td>\n",
       "      <td>2.857691e+05</td>\n",
       "      <td>1.739138e+04</td>\n",
       "    </tr>\n",
       "    <tr>\n",
       "      <th>79</th>\n",
       "      <td>POLYGON ((-118.46028 33.96346, -118.46025 33.9...</td>\n",
       "      <td>1618</td>\n",
       "      <td>City</td>\n",
       "      <td>Los Angeles</td>\n",
       "      <td>Los Angeles</td>\n",
       "      <td>LA</td>\n",
       "      <td>468.852</td>\n",
       "      <td>Breakwater</td>\n",
       "      <td>3.027195e+04</td>\n",
       "      <td>1.419491e+03</td>\n",
       "    </tr>\n",
       "    <tr>\n",
       "      <th>119</th>\n",
       "      <td>POLYGON ((-118.27736 33.70813, -118.27727 33.7...</td>\n",
       "      <td>1659</td>\n",
       "      <td>City</td>\n",
       "      <td>Los Angeles</td>\n",
       "      <td>Los Angeles</td>\n",
       "      <td>LA</td>\n",
       "      <td>468.852</td>\n",
       "      <td>Pier</td>\n",
       "      <td>3.355399e+04</td>\n",
       "      <td>2.760132e+03</td>\n",
       "    </tr>\n",
       "    <tr>\n",
       "      <th>121</th>\n",
       "      <td>POLYGON ((-118.28390 33.71346, -118.28388 33.7...</td>\n",
       "      <td>1661</td>\n",
       "      <td>City</td>\n",
       "      <td>Los Angeles</td>\n",
       "      <td>Los Angeles</td>\n",
       "      <td>LA</td>\n",
       "      <td>468.852</td>\n",
       "      <td>Breakwater</td>\n",
       "      <td>1.951510e+03</td>\n",
       "      <td>2.157748e+02</td>\n",
       "    </tr>\n",
       "    <tr>\n",
       "      <th>129</th>\n",
       "      <td>POLYGON ((-118.46421 33.96283, -118.46419 33.9...</td>\n",
       "      <td>1670</td>\n",
       "      <td>City</td>\n",
       "      <td>Los Angeles</td>\n",
       "      <td>Los Angeles</td>\n",
       "      <td>LA</td>\n",
       "      <td>468.852</td>\n",
       "      <td>Breakwater</td>\n",
       "      <td>1.409636e+05</td>\n",
       "      <td>4.932587e+03</td>\n",
       "    </tr>\n",
       "    <tr>\n",
       "      <th>130</th>\n",
       "      <td>POLYGON ((-118.27245 33.72397, -118.27241 33.7...</td>\n",
       "      <td>1671</td>\n",
       "      <td>City</td>\n",
       "      <td>Los Angeles</td>\n",
       "      <td>Los Angeles</td>\n",
       "      <td>LA</td>\n",
       "      <td>468.852</td>\n",
       "      <td>Pier</td>\n",
       "      <td>5.016409e+04</td>\n",
       "      <td>1.634542e+03</td>\n",
       "    </tr>\n",
       "    <tr>\n",
       "      <th>131</th>\n",
       "      <td>POLYGON ((-118.26633 33.76102, -118.26637 33.7...</td>\n",
       "      <td>1672</td>\n",
       "      <td>City</td>\n",
       "      <td>Los Angeles</td>\n",
       "      <td>Los Angeles</td>\n",
       "      <td>LA</td>\n",
       "      <td>468.852</td>\n",
       "      <td>Pier</td>\n",
       "      <td>9.932016e+04</td>\n",
       "      <td>2.201633e+03</td>\n",
       "    </tr>\n",
       "    <tr>\n",
       "      <th>132</th>\n",
       "      <td>POLYGON ((-118.25562 33.76572, -118.25575 33.7...</td>\n",
       "      <td>1673</td>\n",
       "      <td>City</td>\n",
       "      <td>Los Angeles</td>\n",
       "      <td>Los Angeles</td>\n",
       "      <td>LA</td>\n",
       "      <td>468.852</td>\n",
       "      <td>Pier</td>\n",
       "      <td>8.650529e+03</td>\n",
       "      <td>6.712470e+02</td>\n",
       "    </tr>\n",
       "    <tr>\n",
       "      <th>167</th>\n",
       "      <td>POLYGON ((-118.25002 33.74540, -118.25014 33.7...</td>\n",
       "      <td>1708</td>\n",
       "      <td>City</td>\n",
       "      <td>Los Angeles</td>\n",
       "      <td>Los Angeles</td>\n",
       "      <td>LA</td>\n",
       "      <td>468.852</td>\n",
       "      <td>Breakwater</td>\n",
       "      <td>4.012158e+04</td>\n",
       "      <td>3.001758e+03</td>\n",
       "    </tr>\n",
       "    <tr>\n",
       "      <th>178</th>\n",
       "      <td>POLYGON ((-118.28295 33.71296, -118.28295 33.7...</td>\n",
       "      <td>1719</td>\n",
       "      <td>City</td>\n",
       "      <td>Los Angeles</td>\n",
       "      <td>Los Angeles</td>\n",
       "      <td>LA</td>\n",
       "      <td>468.852</td>\n",
       "      <td>Breakwater</td>\n",
       "      <td>6.989325e+03</td>\n",
       "      <td>5.241734e+02</td>\n",
       "    </tr>\n",
       "    <tr>\n",
       "      <th>180</th>\n",
       "      <td>POLYGON ((-118.27148 33.72124, -118.27144 33.7...</td>\n",
       "      <td>1721</td>\n",
       "      <td>City</td>\n",
       "      <td>Los Angeles</td>\n",
       "      <td>Los Angeles</td>\n",
       "      <td>LA</td>\n",
       "      <td>468.852</td>\n",
       "      <td>Pier</td>\n",
       "      <td>4.438273e+03</td>\n",
       "      <td>4.969196e+02</td>\n",
       "    </tr>\n",
       "    <tr>\n",
       "      <th>181</th>\n",
       "      <td>POLYGON ((-118.26785 33.75651, -118.26798 33.7...</td>\n",
       "      <td>1722</td>\n",
       "      <td>City</td>\n",
       "      <td>Los Angeles</td>\n",
       "      <td>Los Angeles</td>\n",
       "      <td>LA</td>\n",
       "      <td>468.852</td>\n",
       "      <td>Pier</td>\n",
       "      <td>9.274573e+04</td>\n",
       "      <td>2.653517e+03</td>\n",
       "    </tr>\n",
       "    <tr>\n",
       "      <th>187</th>\n",
       "      <td>POLYGON ((-118.46035 33.96040, -118.46034 33.9...</td>\n",
       "      <td>1728</td>\n",
       "      <td>City</td>\n",
       "      <td>Los Angeles</td>\n",
       "      <td>Los Angeles</td>\n",
       "      <td>LA</td>\n",
       "      <td>468.852</td>\n",
       "      <td>Breakwater</td>\n",
       "      <td>4.776198e+04</td>\n",
       "      <td>2.242205e+03</td>\n",
       "    </tr>\n",
       "    <tr>\n",
       "      <th>213</th>\n",
       "      <td>POLYGON ((-118.26076 33.76631, -118.26076 33.7...</td>\n",
       "      <td>1755</td>\n",
       "      <td>City</td>\n",
       "      <td>Los Angeles</td>\n",
       "      <td>Los Angeles</td>\n",
       "      <td>LA</td>\n",
       "      <td>468.852</td>\n",
       "      <td>Land</td>\n",
       "      <td>1.039325e+03</td>\n",
       "      <td>1.347060e+02</td>\n",
       "    </tr>\n",
       "    <tr>\n",
       "      <th>215</th>\n",
       "      <td>POLYGON ((-118.24193 33.71163, -118.24191 33.7...</td>\n",
       "      <td>1759</td>\n",
       "      <td>City</td>\n",
       "      <td>Los Angeles</td>\n",
       "      <td>Los Angeles</td>\n",
       "      <td>LA</td>\n",
       "      <td>468.852</td>\n",
       "      <td>Breakwater</td>\n",
       "      <td>1.787002e+05</td>\n",
       "      <td>8.592337e+03</td>\n",
       "    </tr>\n",
       "    <tr>\n",
       "      <th>217</th>\n",
       "      <td>POLYGON ((-118.26274 33.73125, -118.26273 33.7...</td>\n",
       "      <td>1762</td>\n",
       "      <td>City</td>\n",
       "      <td>Los Angeles</td>\n",
       "      <td>Los Angeles</td>\n",
       "      <td>LA</td>\n",
       "      <td>468.852</td>\n",
       "      <td>Pier</td>\n",
       "      <td>1.091632e+05</td>\n",
       "      <td>2.571840e+03</td>\n",
       "    </tr>\n",
       "    <tr>\n",
       "      <th>218</th>\n",
       "      <td>POLYGON ((-118.25604 33.76519, -118.25603 33.7...</td>\n",
       "      <td>1763</td>\n",
       "      <td>City</td>\n",
       "      <td>Los Angeles</td>\n",
       "      <td>Los Angeles</td>\n",
       "      <td>LA</td>\n",
       "      <td>468.852</td>\n",
       "      <td>Pier</td>\n",
       "      <td>2.086962e+03</td>\n",
       "      <td>2.487047e+02</td>\n",
       "    </tr>\n",
       "    <tr>\n",
       "      <th>219</th>\n",
       "      <td>POLYGON ((-118.27602 33.71530, -118.27614 33.7...</td>\n",
       "      <td>1764</td>\n",
       "      <td>City</td>\n",
       "      <td>Los Angeles</td>\n",
       "      <td>Los Angeles</td>\n",
       "      <td>LA</td>\n",
       "      <td>468.852</td>\n",
       "      <td>Pier</td>\n",
       "      <td>7.954019e+04</td>\n",
       "      <td>2.277963e+03</td>\n",
       "    </tr>\n",
       "    <tr>\n",
       "      <th>257</th>\n",
       "      <td>POLYGON ((-118.26315 33.76622, -118.26314 33.7...</td>\n",
       "      <td>1805</td>\n",
       "      <td>City</td>\n",
       "      <td>Los Angeles</td>\n",
       "      <td>Los Angeles</td>\n",
       "      <td>LA</td>\n",
       "      <td>468.852</td>\n",
       "      <td>Pier</td>\n",
       "      <td>2.109044e+03</td>\n",
       "      <td>1.868833e+02</td>\n",
       "    </tr>\n",
       "    <tr>\n",
       "      <th>259</th>\n",
       "      <td>POLYGON ((-118.27435 33.72902, -118.27433 33.7...</td>\n",
       "      <td>1807</td>\n",
       "      <td>City</td>\n",
       "      <td>Los Angeles</td>\n",
       "      <td>Los Angeles</td>\n",
       "      <td>LA</td>\n",
       "      <td>468.852</td>\n",
       "      <td>Pier</td>\n",
       "      <td>1.135495e+04</td>\n",
       "      <td>5.761596e+02</td>\n",
       "    </tr>\n",
       "    <tr>\n",
       "      <th>260</th>\n",
       "      <td>POLYGON ((-118.25693 33.76421, -118.25693 33.7...</td>\n",
       "      <td>1808</td>\n",
       "      <td>City</td>\n",
       "      <td>Los Angeles</td>\n",
       "      <td>Los Angeles</td>\n",
       "      <td>LA</td>\n",
       "      <td>468.852</td>\n",
       "      <td>Pier</td>\n",
       "      <td>1.368363e+03</td>\n",
       "      <td>1.701873e+02</td>\n",
       "    </tr>\n",
       "    <tr>\n",
       "      <th>267</th>\n",
       "      <td>POLYGON ((-118.46843 33.97813, -118.46811 33.9...</td>\n",
       "      <td>1815</td>\n",
       "      <td>City</td>\n",
       "      <td>Los Angeles</td>\n",
       "      <td>Los Angeles</td>\n",
       "      <td>LA</td>\n",
       "      <td>468.852</td>\n",
       "      <td>Pier</td>\n",
       "      <td>2.346571e+04</td>\n",
       "      <td>2.455558e+03</td>\n",
       "    </tr>\n",
       "    <tr>\n",
       "      <th>269</th>\n",
       "      <td>POLYGON ((-118.28167 33.71615, -118.28165 33.7...</td>\n",
       "      <td>1817</td>\n",
       "      <td>City</td>\n",
       "      <td>Los Angeles</td>\n",
       "      <td>Los Angeles</td>\n",
       "      <td>LA</td>\n",
       "      <td>468.852</td>\n",
       "      <td>Breakwater</td>\n",
       "      <td>4.400043e+04</td>\n",
       "      <td>2.602930e+03</td>\n",
       "    </tr>\n",
       "    <tr>\n",
       "      <th>270</th>\n",
       "      <td>POLYGON ((-118.26835 33.72352, -118.26850 33.7...</td>\n",
       "      <td>1818</td>\n",
       "      <td>City</td>\n",
       "      <td>Los Angeles</td>\n",
       "      <td>Los Angeles</td>\n",
       "      <td>LA</td>\n",
       "      <td>468.852</td>\n",
       "      <td>Pier</td>\n",
       "      <td>5.073323e+04</td>\n",
       "      <td>2.090641e+03</td>\n",
       "    </tr>\n",
       "    <tr>\n",
       "      <th>297</th>\n",
       "      <td>POLYGON ((-118.27374 33.75654, -118.27375 33.7...</td>\n",
       "      <td>1847</td>\n",
       "      <td>City</td>\n",
       "      <td>Los Angeles</td>\n",
       "      <td>Los Angeles</td>\n",
       "      <td>LA</td>\n",
       "      <td>468.852</td>\n",
       "      <td>Pier</td>\n",
       "      <td>4.231721e+04</td>\n",
       "      <td>1.365267e+03</td>\n",
       "    </tr>\n",
       "    <tr>\n",
       "      <th>298</th>\n",
       "      <td>POLYGON ((-118.27305 33.73389, -118.27306 33.7...</td>\n",
       "      <td>1848</td>\n",
       "      <td>City</td>\n",
       "      <td>Los Angeles</td>\n",
       "      <td>Los Angeles</td>\n",
       "      <td>LA</td>\n",
       "      <td>468.852</td>\n",
       "      <td>Pier</td>\n",
       "      <td>1.576014e+04</td>\n",
       "      <td>7.276146e+02</td>\n",
       "    </tr>\n",
       "    <tr>\n",
       "      <th>304</th>\n",
       "      <td>POLYGON ((-118.45758 33.96069, -118.45758 33.9...</td>\n",
       "      <td>1854</td>\n",
       "      <td>City</td>\n",
       "      <td>Los Angeles</td>\n",
       "      <td>Los Angeles</td>\n",
       "      <td>LA</td>\n",
       "      <td>468.852</td>\n",
       "      <td>Breakwater</td>\n",
       "      <td>1.920368e+04</td>\n",
       "      <td>9.760975e+02</td>\n",
       "    </tr>\n",
       "    <tr>\n",
       "      <th>306</th>\n",
       "      <td>POLYGON ((-118.27478 33.74069, -118.27434 33.7...</td>\n",
       "      <td>1856</td>\n",
       "      <td>City</td>\n",
       "      <td>Los Angeles</td>\n",
       "      <td>Los Angeles</td>\n",
       "      <td>LA</td>\n",
       "      <td>468.852</td>\n",
       "      <td>Water</td>\n",
       "      <td>1.405715e+08</td>\n",
       "      <td>2.342239e+05</td>\n",
       "    </tr>\n",
       "    <tr>\n",
       "      <th>346</th>\n",
       "      <td>POLYGON ((-118.24535 33.76579, -118.24531 33.7...</td>\n",
       "      <td>1899</td>\n",
       "      <td>City</td>\n",
       "      <td>Los Angeles</td>\n",
       "      <td>Los Angeles</td>\n",
       "      <td>LA</td>\n",
       "      <td>468.852</td>\n",
       "      <td>Land</td>\n",
       "      <td>1.309926e+10</td>\n",
       "      <td>1.700075e+06</td>\n",
       "    </tr>\n",
       "  </tbody>\n",
       "</table>\n",
       "</div>"
      ],
      "text/plain": [
       "                                              geometry  objectid city_type  \\\n",
       "1    POLYGON ((-118.27989 33.75637, -118.27990 33.7...      1535      City   \n",
       "27   POLYGON ((-118.27478 33.74069, -118.27455 33.7...      1564      City   \n",
       "29   POLYGON ((-118.45962 33.96368, -118.45740 33.9...      1566      City   \n",
       "33   POLYGON ((-118.27857 33.75735, -118.27860 33.7...      1570      City   \n",
       "34   POLYGON ((-118.27742 33.70777, -118.27741 33.7...      1571      City   \n",
       "79   POLYGON ((-118.46028 33.96346, -118.46025 33.9...      1618      City   \n",
       "119  POLYGON ((-118.27736 33.70813, -118.27727 33.7...      1659      City   \n",
       "121  POLYGON ((-118.28390 33.71346, -118.28388 33.7...      1661      City   \n",
       "129  POLYGON ((-118.46421 33.96283, -118.46419 33.9...      1670      City   \n",
       "130  POLYGON ((-118.27245 33.72397, -118.27241 33.7...      1671      City   \n",
       "131  POLYGON ((-118.26633 33.76102, -118.26637 33.7...      1672      City   \n",
       "132  POLYGON ((-118.25562 33.76572, -118.25575 33.7...      1673      City   \n",
       "167  POLYGON ((-118.25002 33.74540, -118.25014 33.7...      1708      City   \n",
       "178  POLYGON ((-118.28295 33.71296, -118.28295 33.7...      1719      City   \n",
       "180  POLYGON ((-118.27148 33.72124, -118.27144 33.7...      1721      City   \n",
       "181  POLYGON ((-118.26785 33.75651, -118.26798 33.7...      1722      City   \n",
       "187  POLYGON ((-118.46035 33.96040, -118.46034 33.9...      1728      City   \n",
       "213  POLYGON ((-118.26076 33.76631, -118.26076 33.7...      1755      City   \n",
       "215  POLYGON ((-118.24193 33.71163, -118.24191 33.7...      1759      City   \n",
       "217  POLYGON ((-118.26274 33.73125, -118.26273 33.7...      1762      City   \n",
       "218  POLYGON ((-118.25604 33.76519, -118.25603 33.7...      1763      City   \n",
       "219  POLYGON ((-118.27602 33.71530, -118.27614 33.7...      1764      City   \n",
       "257  POLYGON ((-118.26315 33.76622, -118.26314 33.7...      1805      City   \n",
       "259  POLYGON ((-118.27435 33.72902, -118.27433 33.7...      1807      City   \n",
       "260  POLYGON ((-118.25693 33.76421, -118.25693 33.7...      1808      City   \n",
       "267  POLYGON ((-118.46843 33.97813, -118.46811 33.9...      1815      City   \n",
       "269  POLYGON ((-118.28167 33.71615, -118.28165 33.7...      1817      City   \n",
       "270  POLYGON ((-118.26835 33.72352, -118.26850 33.7...      1818      City   \n",
       "297  POLYGON ((-118.27374 33.75654, -118.27375 33.7...      1847      City   \n",
       "298  POLYGON ((-118.27305 33.73389, -118.27306 33.7...      1848      City   \n",
       "304  POLYGON ((-118.45758 33.96069, -118.45758 33.9...      1854      City   \n",
       "306  POLYGON ((-118.27478 33.74069, -118.27434 33.7...      1856      City   \n",
       "346  POLYGON ((-118.24535 33.76579, -118.24531 33.7...      1899      City   \n",
       "\n",
       "       city_name   city_label abbr  of_area_sm   feat_type  shape.starea()  \\\n",
       "1    Los Angeles  Los Angeles   LA     468.852        Pier    5.488869e+04   \n",
       "27   Los Angeles  Los Angeles   LA     468.852        Land    9.121841e+07   \n",
       "29   Los Angeles  Los Angeles   LA     468.852       Water    1.972737e+06   \n",
       "33   Los Angeles  Los Angeles   LA     468.852        Pier    3.231881e+04   \n",
       "34   Los Angeles  Los Angeles   LA     468.852  Breakwater    2.857691e+05   \n",
       "79   Los Angeles  Los Angeles   LA     468.852  Breakwater    3.027195e+04   \n",
       "119  Los Angeles  Los Angeles   LA     468.852        Pier    3.355399e+04   \n",
       "121  Los Angeles  Los Angeles   LA     468.852  Breakwater    1.951510e+03   \n",
       "129  Los Angeles  Los Angeles   LA     468.852  Breakwater    1.409636e+05   \n",
       "130  Los Angeles  Los Angeles   LA     468.852        Pier    5.016409e+04   \n",
       "131  Los Angeles  Los Angeles   LA     468.852        Pier    9.932016e+04   \n",
       "132  Los Angeles  Los Angeles   LA     468.852        Pier    8.650529e+03   \n",
       "167  Los Angeles  Los Angeles   LA     468.852  Breakwater    4.012158e+04   \n",
       "178  Los Angeles  Los Angeles   LA     468.852  Breakwater    6.989325e+03   \n",
       "180  Los Angeles  Los Angeles   LA     468.852        Pier    4.438273e+03   \n",
       "181  Los Angeles  Los Angeles   LA     468.852        Pier    9.274573e+04   \n",
       "187  Los Angeles  Los Angeles   LA     468.852  Breakwater    4.776198e+04   \n",
       "213  Los Angeles  Los Angeles   LA     468.852        Land    1.039325e+03   \n",
       "215  Los Angeles  Los Angeles   LA     468.852  Breakwater    1.787002e+05   \n",
       "217  Los Angeles  Los Angeles   LA     468.852        Pier    1.091632e+05   \n",
       "218  Los Angeles  Los Angeles   LA     468.852        Pier    2.086962e+03   \n",
       "219  Los Angeles  Los Angeles   LA     468.852        Pier    7.954019e+04   \n",
       "257  Los Angeles  Los Angeles   LA     468.852        Pier    2.109044e+03   \n",
       "259  Los Angeles  Los Angeles   LA     468.852        Pier    1.135495e+04   \n",
       "260  Los Angeles  Los Angeles   LA     468.852        Pier    1.368363e+03   \n",
       "267  Los Angeles  Los Angeles   LA     468.852        Pier    2.346571e+04   \n",
       "269  Los Angeles  Los Angeles   LA     468.852  Breakwater    4.400043e+04   \n",
       "270  Los Angeles  Los Angeles   LA     468.852        Pier    5.073323e+04   \n",
       "297  Los Angeles  Los Angeles   LA     468.852        Pier    4.231721e+04   \n",
       "298  Los Angeles  Los Angeles   LA     468.852        Pier    1.576014e+04   \n",
       "304  Los Angeles  Los Angeles   LA     468.852  Breakwater    1.920368e+04   \n",
       "306  Los Angeles  Los Angeles   LA     468.852       Water    1.405715e+08   \n",
       "346  Los Angeles  Los Angeles   LA     468.852        Land    1.309926e+10   \n",
       "\n",
       "     shape.stlength()  \n",
       "1        1.788359e+03  \n",
       "27       1.015325e+05  \n",
       "29       6.163658e+03  \n",
       "33       9.721960e+02  \n",
       "34       1.739138e+04  \n",
       "79       1.419491e+03  \n",
       "119      2.760132e+03  \n",
       "121      2.157748e+02  \n",
       "129      4.932587e+03  \n",
       "130      1.634542e+03  \n",
       "131      2.201633e+03  \n",
       "132      6.712470e+02  \n",
       "167      3.001758e+03  \n",
       "178      5.241734e+02  \n",
       "180      4.969196e+02  \n",
       "181      2.653517e+03  \n",
       "187      2.242205e+03  \n",
       "213      1.347060e+02  \n",
       "215      8.592337e+03  \n",
       "217      2.571840e+03  \n",
       "218      2.487047e+02  \n",
       "219      2.277963e+03  \n",
       "257      1.868833e+02  \n",
       "259      5.761596e+02  \n",
       "260      1.701873e+02  \n",
       "267      2.455558e+03  \n",
       "269      2.602930e+03  \n",
       "270      2.090641e+03  \n",
       "297      1.365267e+03  \n",
       "298      7.276146e+02  \n",
       "304      9.760975e+02  \n",
       "306      2.342239e+05  \n",
       "346      1.700075e+06  "
      ]
     },
     "execution_count": 63,
     "metadata": {},
     "output_type": "execute_result"
    }
   ],
   "source": [
    "cities_gdf.query('city_name == \"Los Angeles\"')[\n",
    "    [\n",
    "        \"geometry\",\n",
    "        \"objectid\",\n",
    "        \"city_type\",\n",
    "        \"city_name\",\n",
    "        \"city_label\",\n",
    "        \"abbr\",\n",
    "        # \"url\",\n",
    "        # \"phone\",\n",
    "        \"of_area_sm\",\n",
    "        \"feat_type\",\n",
    "        # \"color_egis\",\n",
    "        \"shape.starea()\",\n",
    "        \"shape.stlength()\",\n",
    "        # \"last_edited_date\",\n",
    "        # \"created_user\",\n",
    "        # \"created_date\",\n",
    "        # \"last_edited_user\",\n",
    "    ]\n",
    "]"
   ]
  },
  {
   "cell_type": "markdown",
   "id": "61bb65c3-69f9-46ea-b126-40b2857a6007",
   "metadata": {},
   "source": [
    "#### Just the city of LA"
   ]
  },
  {
   "cell_type": "code",
   "execution_count": 42,
   "id": "006644fa-4f1a-45ef-a710-0af712e1900d",
   "metadata": {},
   "outputs": [],
   "source": [
    "nola_gdf = cities_gdf.query('city_name!=\"Los Angeles\"').dissolve()"
   ]
  },
  {
   "cell_type": "code",
   "execution_count": 43,
   "id": "66b195e5-34cc-4cb0-bc7e-f7aa8f04e7c6",
   "metadata": {},
   "outputs": [
    {
     "data": {
      "text/plain": [
       "<Axes: >"
      ]
     },
     "execution_count": 43,
     "metadata": {},
     "output_type": "execute_result"
    },
    {
     "data": {
      "image/png": "[encoded data removed]",
      "text/plain": [
       "<Figure size 640x480 with 1 Axes>"
      ]
     },
     "metadata": {},
     "output_type": "display_data"
    }
   ],
   "source": [
    "nola_gdf.plot()"
   ]
  },
  {
   "cell_type": "code",
   "execution_count": 44,
   "id": "fe51fe16-27dd-47eb-a02a-5bf995037468",
   "metadata": {},
   "outputs": [
    {
     "data": {
      "text/html": [
       "<div>\n",
       "<style scoped>\n",
       "    .dataframe tbody tr th:only-of-type {\n",
       "        vertical-align: middle;\n",
       "    }\n",
       "\n",
       "    .dataframe tbody tr th {\n",
       "        vertical-align: top;\n",
       "    }\n",
       "\n",
       "    .dataframe thead th {\n",
       "        text-align: right;\n",
       "    }\n",
       "</style>\n",
       "<table border=\"1\" class=\"dataframe\">\n",
       "  <thead>\n",
       "    <tr style=\"text-align: right;\">\n",
       "      <th></th>\n",
       "      <th>geometry</th>\n",
       "      <th>objectid</th>\n",
       "      <th>city_type</th>\n",
       "      <th>city_name</th>\n",
       "      <th>city_label</th>\n",
       "      <th>abbr</th>\n",
       "      <th>url</th>\n",
       "      <th>phone</th>\n",
       "      <th>of_area_sm</th>\n",
       "      <th>feat_type</th>\n",
       "      <th>color_egis</th>\n",
       "      <th>shape.starea()</th>\n",
       "      <th>shape.stlength()</th>\n",
       "      <th>last_edited_date</th>\n",
       "      <th>created_user</th>\n",
       "      <th>created_date</th>\n",
       "      <th>last_edited_user</th>\n",
       "    </tr>\n",
       "  </thead>\n",
       "  <tbody>\n",
       "    <tr>\n",
       "      <th>0</th>\n",
       "      <td>MULTIPOLYGON (((-118.47410 32.83856, -118.4741...</td>\n",
       "      <td>1534</td>\n",
       "      <td>City</td>\n",
       "      <td>Long Beach</td>\n",
       "      <td>Long Beach</td>\n",
       "      <td>LB</td>\n",
       "      <td>www.longbeach.gov</td>\n",
       "      <td>5625706555</td>\n",
       "      <td>50.309</td>\n",
       "      <td>Pier</td>\n",
       "      <td>Purple - RGB 185,185,250</td>\n",
       "      <td>7413.660018</td>\n",
       "      <td>617.132102</td>\n",
       "      <td>1712048209000</td>\n",
       "      <td>DPW</td>\n",
       "      <td>1712048209000</td>\n",
       "      <td>DPW</td>\n",
       "    </tr>\n",
       "  </tbody>\n",
       "</table>\n",
       "</div>"
      ],
      "text/plain": [
       "                                            geometry  objectid city_type  \\\n",
       "0  MULTIPOLYGON (((-118.47410 32.83856, -118.4741...      1534      City   \n",
       "\n",
       "    city_name  city_label abbr                url       phone  of_area_sm  \\\n",
       "0  Long Beach  Long Beach   LB  www.longbeach.gov  5625706555      50.309   \n",
       "\n",
       "  feat_type                color_egis  shape.starea()  shape.stlength()  \\\n",
       "0      Pier  Purple - RGB 185,185,250     7413.660018        617.132102   \n",
       "\n",
       "   last_edited_date created_user   created_date last_edited_user  \n",
       "0     1712048209000          DPW  1712048209000              DPW  "
      ]
     },
     "execution_count": 44,
     "metadata": {},
     "output_type": "execute_result"
    }
   ],
   "source": [
    "nola_gdf"
   ]
  },
  {
   "cell_type": "markdown",
   "id": "76d4024d-b9f6-4e39-a921-b8ae538e2995",
   "metadata": {},
   "source": [
    "#### LA city neighborhoods"
   ]
  },
  {
   "cell_type": "code",
   "execution_count": 33,
   "id": "212fca84-78e5-4083-a1a8-af1e128adac6",
   "metadata": {},
   "outputs": [],
   "source": [
    "url = \"https://services5.arcgis.com/7nsPwEMP38bSkCjy/arcgis/rest/services/LA_Times_Neighborhoods/FeatureServer/0/query\"\n",
    "params = {\"outFields\": \"*\", \"where\": \"1=1\", \"f\": \"geojson\"}\n",
    "\n",
    "response = requests.get(url, params=params)\n",
    "\n",
    "if response.status_code == 200:\n",
    "    data = response.json()\n",
    "    lahoods_gdf = (\n",
    "        gpd.GeoDataFrame.from_features(data[\"features\"])\n",
    "        .rename(columns={\"OBJECTID\": \"id\"})\n",
    "        .set_crs(\"epsg:4326\")\n",
    "    )\n",
    "    lahoods_gdf.columns = lahoods_gdf.columns.str.lower()\n",
    "else:\n",
    "    print(\"Failed to fetch data:\", response.status_code, response.text)"
   ]
  },
  {
   "cell_type": "code",
   "execution_count": 34,
   "id": "0bdc1710-68dc-410e-b493-0aa1f9ef0e0e",
   "metadata": {},
   "outputs": [
    {
     "data": {
      "text/html": [
       "<div>\n",
       "<style scoped>\n",
       "    .dataframe tbody tr th:only-of-type {\n",
       "        vertical-align: middle;\n",
       "    }\n",
       "\n",
       "    .dataframe tbody tr th {\n",
       "        vertical-align: top;\n",
       "    }\n",
       "\n",
       "    .dataframe thead th {\n",
       "        text-align: right;\n",
       "    }\n",
       "</style>\n",
       "<table border=\"1\" class=\"dataframe\">\n",
       "  <thead>\n",
       "    <tr style=\"text-align: right;\">\n",
       "      <th></th>\n",
       "      <th>geometry</th>\n",
       "      <th>id</th>\n",
       "      <th>name</th>\n",
       "    </tr>\n",
       "  </thead>\n",
       "  <tbody>\n",
       "    <tr>\n",
       "      <th>0</th>\n",
       "      <td>POLYGON ((-118.30069 34.03731, -118.30388 34.0...</td>\n",
       "      <td>1</td>\n",
       "      <td>Adams-Normandie</td>\n",
       "    </tr>\n",
       "    <tr>\n",
       "      <th>1</th>\n",
       "      <td>POLYGON ((-118.44255 34.26412, -118.44240 34.2...</td>\n",
       "      <td>2</td>\n",
       "      <td>Arleta</td>\n",
       "    </tr>\n",
       "    <tr>\n",
       "      <th>2</th>\n",
       "      <td>POLYGON ((-118.31862 34.05306, -118.31673 34.0...</td>\n",
       "      <td>3</td>\n",
       "      <td>Arlington Heights</td>\n",
       "    </tr>\n",
       "    <tr>\n",
       "      <th>3</th>\n",
       "      <td>MULTIPOLYGON (((-118.27886 34.15321, -118.2788...</td>\n",
       "      <td>4</td>\n",
       "      <td>Atwater Village</td>\n",
       "    </tr>\n",
       "    <tr>\n",
       "      <th>4</th>\n",
       "      <td>POLYGON ((-118.36102 34.02532, -118.36026 34.0...</td>\n",
       "      <td>5</td>\n",
       "      <td>Baldwin Hills/Crenshaw</td>\n",
       "    </tr>\n",
       "  </tbody>\n",
       "</table>\n",
       "</div>"
      ],
      "text/plain": [
       "                                            geometry  id  \\\n",
       "0  POLYGON ((-118.30069 34.03731, -118.30388 34.0...   1   \n",
       "1  POLYGON ((-118.44255 34.26412, -118.44240 34.2...   2   \n",
       "2  POLYGON ((-118.31862 34.05306, -118.31673 34.0...   3   \n",
       "3  MULTIPOLYGON (((-118.27886 34.15321, -118.2788...   4   \n",
       "4  POLYGON ((-118.36102 34.02532, -118.36026 34.0...   5   \n",
       "\n",
       "                     name  \n",
       "0         Adams-Normandie  \n",
       "1                  Arleta  \n",
       "2       Arlington Heights  \n",
       "3         Atwater Village  \n",
       "4  Baldwin Hills/Crenshaw  "
      ]
     },
     "execution_count": 34,
     "metadata": {},
     "output_type": "execute_result"
    }
   ],
   "source": [
    "lahoods_gdf.head()"
   ]
  },
  {
   "cell_type": "markdown",
   "id": "2b6941ca-7064-4be4-a8df-4f6c63f7255c",
   "metadata": {},
   "source": [
    "#### Merge LA Counties cities with neighborhood boundaries in LA"
   ]
  },
  {
   "cell_type": "code",
   "execution_count": null,
   "id": "9ca240f9-b50b-485c-922e-711035a3ee47",
   "metadata": {},
   "outputs": [],
   "source": []
  },
  {
   "cell_type": "code",
   "execution_count": null,
   "id": "cc0d7ff9-26bf-472c-ac0f-5d124d8618ff",
   "metadata": {},
   "outputs": [],
   "source": []
  },
  {
   "cell_type": "code",
   "execution_count": null,
   "id": "849f3c60-c952-4167-8bf9-ac9f30877ea3",
   "metadata": {},
   "outputs": [],
   "source": []
  },
  {
   "cell_type": "code",
   "execution_count": null,
   "id": "ccd85e34-7dba-47d4-a41e-e1b48a8b8a10",
   "metadata": {},
   "outputs": [],
   "source": []
  },
  {
   "cell_type": "code",
   "execution_count": null,
   "id": "ec3daaa0-1c2d-49ba-be33-647a0dfb0806",
   "metadata": {},
   "outputs": [],
   "source": []
  },
  {
   "cell_type": "code",
   "execution_count": null,
   "id": "82ce915d-e039-41f7-88aa-0adf42c50fe3",
   "metadata": {},
   "outputs": [],
   "source": []
  },
  {
   "cell_type": "code",
   "execution_count": null,
   "id": "336dec6e-8dff-4917-984f-a472bf814603",
   "metadata": {},
   "outputs": [],
   "source": []
  },
  {
   "cell_type": "code",
   "execution_count": null,
   "id": "ffa72b15-9473-468d-a148-1ff2a7b74950",
   "metadata": {},
   "outputs": [],
   "source": []
  },
  {
   "cell_type": "code",
   "execution_count": null,
   "id": "6b0b895c-6886-42e8-9ee1-137b8518f532",
   "metadata": {},
   "outputs": [],
   "source": [
    "lahoods_merge = (\n",
    "    gpd.sjoin(gdf, lahoods_gdf[[\"name\", \"geometry\"]], predicate=\"within\")\n",
    "    .drop([\"index_right\", \"id\"], axis=1)\n",
    "    .rename(columns={\"name\": \"neighborhood\"})\n",
    ").reset_index(drop=True)"
   ]
  },
  {
   "cell_type": "markdown",
   "id": "118121d8-7dff-435f-8ec2-c266c9f0525b",
   "metadata": {},
   "source": [
    "#### Palms in LA by neighborhood? "
   ]
  },
  {
   "cell_type": "code",
   "execution_count": null,
   "id": "2d7e0775-ee72-4a34-8514-f9baa6e30f1e",
   "metadata": {},
   "outputs": [],
   "source": [
    "la_city_palm_shares = calculate_tree_shares(lahoods_merge, \"neighborhood\", \"ispalm\")"
   ]
  },
  {
   "cell_type": "code",
   "execution_count": null,
   "id": "a1c2fb28-2e5b-4fae-a772-1f2f34b5e03e",
   "metadata": {},
   "outputs": [],
   "source": [
    "la_city_palm_shares.head()"
   ]
  },
  {
   "cell_type": "markdown",
   "id": "6aafa823-a6cb-4d97-a974-8a0ba5372c3c",
   "metadata": {},
   "source": [
    "#### Jacarandas in LA by neighborhood? "
   ]
  },
  {
   "cell_type": "code",
   "execution_count": null,
   "id": "ae7713b1-9752-4fb3-b484-93cae97b3379",
   "metadata": {},
   "outputs": [],
   "source": [
    "la_city_jacaranda_shares = calculate_tree_shares(\n",
    "    lahoods_merge, \"neighborhood\", \"jacaranda\"\n",
    ")"
   ]
  },
  {
   "cell_type": "code",
   "execution_count": null,
   "id": "8685fc8a-c6e7-421d-835e-0bc9f7ae3fbf",
   "metadata": {},
   "outputs": [],
   "source": [
    "la_city_jacaranda_shares.head()"
   ]
  },
  {
   "cell_type": "markdown",
   "id": "4d7b87e3-75d4-4e0d-a6ee-38d1292f41b2",
   "metadata": {},
   "source": [
    "#### Magnolias in LA by neighborhood? "
   ]
  },
  {
   "cell_type": "code",
   "execution_count": null,
   "id": "36d7988d-0819-40d8-9ff7-6922ca86b859",
   "metadata": {},
   "outputs": [],
   "source": [
    "la_city_magnolia_shares = calculate_tree_shares(\n",
    "    lahoods_merge, \"neighborhood\", \"magnolia\"\n",
    ")"
   ]
  },
  {
   "cell_type": "code",
   "execution_count": null,
   "id": "769b2e50-98e0-441b-bee5-b528fab5dcb9",
   "metadata": {},
   "outputs": [],
   "source": [
    "la_city_magnolia_shares.head()"
   ]
  },
  {
   "cell_type": "markdown",
   "id": "7c6e60f0-faaf-4398-9983-28ceb4bed9ad",
   "metadata": {},
   "source": [
    "## Visuals"
   ]
  },
  {
   "cell_type": "markdown",
   "id": "2ca0e4b5-4bc2-4b92-98a3-accba3b8b4dd",
   "metadata": {},
   "source": [
    "#### Plot LA city trees over CartoDB base"
   ]
  },
  {
   "cell_type": "code",
   "execution_count": null,
   "id": "d3da43ee-8b27-444b-a3a1-ba3f92f2d626",
   "metadata": {},
   "outputs": [],
   "source": [
    "gdf_la = gdf[gdf[\"place\"] == \"Los Angeles City\"]"
   ]
  },
  {
   "cell_type": "code",
   "execution_count": null,
   "id": "dab61767-a698-4071-9222-14c500a8dc4c",
   "metadata": {},
   "outputs": [],
   "source": [
    "# Create a figure and axis for plotting\n",
    "fig, ax = plt.subplots(figsize=(10, 10))\n",
    "\n",
    "# Plot the palm tree locations\n",
    "gdf_la.plot(ax=ax, color=\"#95cc89\", markersize=0.05)\n",
    "\n",
    "# Add a basemap. The crs parameter is important for aligning the data with the basemap\n",
    "cx.add_basemap(ax, crs=gdf_la.crs.to_string(), source=cx.providers.CartoDB.Positron)\n",
    "\n",
    "# Set the axis to equal aspect ratio\n",
    "ax.set_aspect(\"equal\")\n",
    "\n",
    "# Remove axis labels\n",
    "ax.set_xticks([])\n",
    "ax.set_yticks([])\n",
    "\n",
    "# Remove the border\n",
    "for spine in ax.spines.values():\n",
    "    spine.set_visible(False)\n",
    "\n",
    "plt.show()"
   ]
  },
  {
   "cell_type": "markdown",
   "id": "e1bc3c53-0f85-4dcf-a5df-51f8495672f0",
   "metadata": {},
   "source": [
    "#### Palm trees in LA?"
   ]
  },
  {
   "cell_type": "code",
   "execution_count": null,
   "id": "1e78d5c8-7dcc-4408-8781-cd6548dc2a8c",
   "metadata": {},
   "outputs": [],
   "source": [
    "gdf_palm = gdf_la.query(\"ispalm == True\")\n",
    "gdf_non_palm = gdf_la.query(\"ispalm == False\")"
   ]
  },
  {
   "cell_type": "code",
   "execution_count": null,
   "id": "7e59dcc8-8788-4953-bc1e-964e6c381972",
   "metadata": {},
   "outputs": [],
   "source": [
    "fig, ax = plt.subplots(figsize=(10, 10))\n",
    "\n",
    "gdf_non_palm.plot(ax=ax, color=\"#95cc89\", markersize=0.1, label=\"Other trees\")\n",
    "gdf_palm.plot(ax=ax, color=\"#396c2e\", markersize=0.1, label=\"Palm trees\")\n",
    "\n",
    "cx.add_basemap(ax, crs=gdf.crs.to_string(), source=cx.providers.CartoDB.Positron)\n",
    "\n",
    "ax.set_aspect(\"equal\")\n",
    "ax.set_xticks([])\n",
    "ax.set_yticks([])\n",
    "\n",
    "ax.legend()\n",
    "\n",
    "for spine in ax.spines.values():\n",
    "    spine.set_visible(False)\n",
    "\n",
    "plt.show()"
   ]
  },
  {
   "cell_type": "markdown",
   "id": "bdfb8806-afcc-46a4-8a2a-ee18572fd7b5",
   "metadata": {},
   "source": [
    "---"
   ]
  },
  {
   "cell_type": "markdown",
   "id": "41af18db-4aeb-4259-a7c1-b52471eb8693",
   "metadata": {},
   "source": [
    "## Exports"
   ]
  },
  {
   "cell_type": "markdown",
   "id": "e3831fb4-1062-4cab-9730-933ff07e01f0",
   "metadata": {},
   "source": [
    "#### JSON"
   ]
  },
  {
   "cell_type": "code",
   "execution_count": null,
   "id": "e1e78a42-ba8a-49aa-a699-58e33fa204d0",
   "metadata": {},
   "outputs": [],
   "source": [
    "# df.to_json(\n",
    "#     \"../data/processed/la_county_tree_locations.json\", indent=4, orient=\"records\"\n",
    "# )"
   ]
  },
  {
   "cell_type": "markdown",
   "id": "d737f808-9d71-4f25-8cd1-3fcedc45ab63",
   "metadata": {},
   "source": [
    "#### CSV"
   ]
  },
  {
   "cell_type": "code",
   "execution_count": null,
   "id": "0504831b-4df4-4ff2-bd26-f08ef7ca9198",
   "metadata": {},
   "outputs": [],
   "source": [
    "# df.to_csv(\"../data/processed/la_county_tree_locations.csv\", index=False)"
   ]
  },
  {
   "cell_type": "markdown",
   "id": "eb8769bc-1de1-40d0-9b7b-4892893606ee",
   "metadata": {},
   "source": [
    "#### GeoJSON"
   ]
  },
  {
   "cell_type": "code",
   "execution_count": null,
   "id": "789a88fc-83ec-43f4-810f-22f2ce7aabc8",
   "metadata": {},
   "outputs": [],
   "source": [
    "# gdf.to_file(\n",
    "#     \"../data/processed/la_tree_locations_locations.geojson\",\n",
    "#     driver=\"GeoJSON\",\n",
    "# )"
   ]
  },
  {
   "cell_type": "markdown",
   "id": "f5799056-a079-49a1-8583-8e8b41ae0d00",
   "metadata": {},
   "source": [
    "#### Parquet"
   ]
  },
  {
   "cell_type": "code",
   "execution_count": null,
   "id": "e3d0d1ef-8ec0-4c50-a30f-5b0d7af73489",
   "metadata": {},
   "outputs": [],
   "source": [
    "# df_p = df.copy()\n",
    "# table = pa.Table.from_pandas(df_p)\n",
    "# pq.write_table(table, \"../data/small/la_county_tree_locations.parquet\")"
   ]
  },
  {
   "cell_type": "markdown",
   "id": "3bbcd55b-4d96-4133-b0ef-53529fa59bb8",
   "metadata": {},
   "source": [
    "#### Store on s3\n",
    "> Download: https://stiles-data.s3.us-west-1.amazonaws.com/trees/{file_name_here.filetype}"
   ]
  },
  {
   "cell_type": "code",
   "execution_count": null,
   "id": "0d109d95-0aa3-463e-9bf5-5387d7095d43",
   "metadata": {},
   "outputs": [],
   "source": [
    "# !aws s3 cp ../data/processed/la_county_tree_locations.json s3://stiles-data/trees/la_county_tree_locations.json --profile {profile_name}"
   ]
  },
  {
   "cell_type": "code",
   "execution_count": null,
   "id": "ea6d5e64-a3d6-4084-aa32-78a9b201929d",
   "metadata": {},
   "outputs": [],
   "source": [
    "# !aws s3 cp ../data/processed/la_county_tree_locations.csv s3://stiles-data/trees/la_county_tree_locations.csv --profile {profile_name}"
   ]
  },
  {
   "cell_type": "code",
   "execution_count": null,
   "id": "bf235417-23da-4e7d-81b8-8ff44c295a96",
   "metadata": {},
   "outputs": [],
   "source": [
    "# !aws s3 cp ../data/processed/la_tree_locations_locations.geojson s3://stiles-data/trees/la_county_tree_locations.geojson --profile {profile_name}"
   ]
  },
  {
   "cell_type": "code",
   "execution_count": null,
   "id": "9810d66b-6ff7-4469-98cf-cf1d34dd1c80",
   "metadata": {},
   "outputs": [],
   "source": [
    "# !aws s3 cp ../data/small/la_county_tree_locations.parquet s3://stiles-data/trees/la_county_tree_locations.parquet --profile {profile_name}"
   ]
  }
 ],
 "metadata": {
  "kernelspec": {
   "display_name": "Python 3 (ipykernel)",
   "language": "python",
   "name": "python3"
  },
  "language_info": {
   "codemirror_mode": {
    "name": "ipython",
    "version": 3
   },
   "file_extension": ".py",
   "mimetype": "text/x-python",
   "name": "python",
   "nbconvert_exporter": "python",
   "pygments_lexer": "ipython3",
   "version": "3.10.13"
  }
 },
 "nbformat": 4,
 "nbformat_minor": 5
}
