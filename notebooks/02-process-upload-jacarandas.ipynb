{
 "cells": [
  {
   "cell_type": "markdown",
   "id": "3c6450b0-4785-4672-9704-10932d9ea021",
   "metadata": {},
   "source": [
    "# Jacaranda street trees of LA\n",
    "> This notebook reads and analyzes the locations of [jacaranda trees](https://en.wikipedia.org/wiki/Jacaranda_mimosifolia#:~:text=Jacaranda%20mimosifolia%20is%20a%20sub,poui%2C%20Nupur%20or%20fern%20tree.) along Los Angeles County streets and uploads them for use with Mapbox GL JS. "
   ]
  },
  {
   "cell_type": "markdown",
   "id": "0651cee8-2c25-410e-ba6c-6af35dc452ba",
   "metadata": {},
   "source": [
    "---"
   ]
  },
  {
   "cell_type": "markdown",
   "id": "2cd6a4cf-3892-4cc9-97de-84f87dc86d7d",
   "metadata": {},
   "source": [
    "#### Load Python tools and Jupyter config"
   ]
  },
  {
   "cell_type": "code",
   "execution_count": 23,
   "id": "92e1d0f3-6b26-4504-91c1-bd8c7b1380a9",
   "metadata": {},
   "outputs": [],
   "source": [
    "import os\n",
    "import json\n",
    "import boto3\n",
    "import mapbox\n",
    "import requests\n",
    "import mercantile\n",
    "import pandas as pd\n",
    "import jupyter_black\n",
    "from io import BytesIO\n",
    "import geopandas as gpd\n",
    "import mapbox_vector_tile\n",
    "from mapbox import Uploader"
   ]
  },
  {
   "cell_type": "code",
   "execution_count": 2,
   "id": "dd0152c5-680b-4932-a51b-a005f0cb6cf3",
   "metadata": {},
   "outputs": [
    {
     "data": {
      "text/html": [
       "\n",
       "                <script type=\"application/javascript\" id=\"jupyter_black\">\n",
       "                (function() {\n",
       "                    if (window.IPython === undefined) {\n",
       "                        return\n",
       "                    }\n",
       "                    var msg = \"WARNING: it looks like you might have loaded \" +\n",
       "                        \"jupyter_black in a non-lab notebook with \" +\n",
       "                        \"`is_lab=True`. Please double check, and if \" +\n",
       "                        \"loading with `%load_ext` please review the README!\"\n",
       "                    console.log(msg)\n",
       "                    alert(msg)\n",
       "                })()\n",
       "                </script>\n",
       "                "
      ],
      "text/plain": [
       "<IPython.core.display.HTML object>"
      ]
     },
     "metadata": {},
     "output_type": "display_data"
    }
   ],
   "source": [
    "jupyter_black.load()\n",
    "pd.options.display.max_columns = 100\n",
    "pd.options.display.max_rows = 1000\n",
    "mapbox_key = os.environ.get(\"PERSONAL_MAPBOX_TILESET_ACCESS_TOKEN\")"
   ]
  },
  {
   "cell_type": "markdown",
   "id": "18df54c6-5362-4f8a-a63f-05bd5ffa63d9",
   "metadata": {},
   "source": [
    "---"
   ]
  },
  {
   "cell_type": "markdown",
   "id": "3bbfd20b-7936-4f21-a091-697fca808ab1",
   "metadata": {},
   "source": [
    "## Read"
   ]
  },
  {
   "cell_type": "markdown",
   "id": "6bd7cba4-3dc3-418c-bf4e-97c102d86c66",
   "metadata": {},
   "source": [
    "#### Read GeoJSON stored on S3"
   ]
  },
  {
   "cell_type": "code",
   "execution_count": null,
   "id": "d6b67b84-bc0a-4270-92a1-2fbcaa319b30",
   "metadata": {},
   "outputs": [],
   "source": [
    "# https://stiles-data.s3.us-west-1.amazonaws.com/trees/la_county_tree_locations.geojson"
   ]
  },
  {
   "cell_type": "code",
   "execution_count": 24,
   "id": "4240c299-c632-472e-b07d-83afdd85473c",
   "metadata": {},
   "outputs": [],
   "source": [
    "src = gpd.read_file(\"../data/processed/la_county_tree_locations.geojson\").to_crs(\n",
    "    \"EPSG:3857\"\n",
    ")"
   ]
  },
  {
   "cell_type": "markdown",
   "id": "ddbfff20-9498-48f5-b2e8-5d6522fdd2a4",
   "metadata": {},
   "source": [
    "#### Just the jacarandas"
   ]
  },
  {
   "cell_type": "code",
   "execution_count": 26,
   "id": "404d2d49-2cba-42bd-83a9-a2fd4a653382",
   "metadata": {},
   "outputs": [],
   "source": [
    "jac_gdf = src.query(\"jacaranda == True\").reset_index(drop=True).copy()"
   ]
  },
  {
   "cell_type": "markdown",
   "id": "15daf431-a97c-44e3-89b4-8c9c643c2c37",
   "metadata": {},
   "source": [
    "#### How many trees?"
   ]
  },
  {
   "cell_type": "code",
   "execution_count": 27,
   "id": "0a4ecec5-f0fc-4fa3-83a6-9b69f938a55b",
   "metadata": {},
   "outputs": [
    {
     "data": {
      "text/plain": [
       "41786"
      ]
     },
     "execution_count": 27,
     "metadata": {},
     "output_type": "execute_result"
    }
   ],
   "source": [
    "len(jac_gdf)"
   ]
  },
  {
   "cell_type": "markdown",
   "id": "dd39b768-998b-4971-b802-5b08b2dfd283",
   "metadata": {},
   "source": [
    "---"
   ]
  },
  {
   "cell_type": "markdown",
   "id": "63189d43-a0ac-4b0a-816d-ed4ceee73b94",
   "metadata": {},
   "source": [
    "## Geography"
   ]
  },
  {
   "cell_type": "markdown",
   "id": "c015f7e8-1220-4eeb-9825-d1aa1a667a4d",
   "metadata": {},
   "source": [
    "#### LA County cities, unincorporated areas and LA City neighborhoods"
   ]
  },
  {
   "cell_type": "code",
   "execution_count": 28,
   "id": "94ce642c-eb2c-463b-8518-2b61d5f883b7",
   "metadata": {},
   "outputs": [],
   "source": [
    "hoods_gdf = gpd.read_file(\n",
    "    \"https://s3.us-west-1.amazonaws.com/stilesdata.com/la/la_city_hoods_county_munis.geojson\"\n",
    ").to_crs(\"EPSG:3857\")"
   ]
  },
  {
   "cell_type": "markdown",
   "id": "a56d69f9-f2e3-45b6-be56-7ef78577c9c3",
   "metadata": {},
   "source": [
    "#### Clean up"
   ]
  },
  {
   "cell_type": "code",
   "execution_count": 29,
   "id": "ff35e0b7-85ba-42ff-9610-f0e4dffaa316",
   "metadata": {},
   "outputs": [],
   "source": [
    "hoods_gdf.columns = hoods_gdf.columns.str.lower()\n",
    "hoods_gdf[\"coordinates\"] = hoods_gdf.geometry.centroid\n",
    "hoods_gdf[\"region_desc\"] = (\n",
    "    hoods_gdf.region.str.replace(\"-\", \" \").str.title().str.replace(\" La\", \"\")\n",
    ")"
   ]
  },
  {
   "cell_type": "markdown",
   "id": "d7e86aa2-b30a-46ab-8f2d-88b9130bd999",
   "metadata": {},
   "source": [
    "#### Define the mapping from old type values to new descriptive values"
   ]
  },
  {
   "cell_type": "code",
   "execution_count": 30,
   "id": "99a57874-47e7-46e9-a34b-bef1a9b080f0",
   "metadata": {},
   "outputs": [],
   "source": [
    "type_mapping = {\n",
    "    \"standalone-city\": \"standalone city\",\n",
    "    \"segment-of-a-city\": \"neighborhood in Los Angeles\",\n",
    "    \"unincorporated-area\": \"unincorporated place in Los Angeles County\",\n",
    "}"
   ]
  },
  {
   "cell_type": "markdown",
   "id": "5df1c842-3d1e-4be9-a836-6073acbfe077",
   "metadata": {},
   "source": [
    "#### Apply the mapping to the 'type_desc' column"
   ]
  },
  {
   "cell_type": "code",
   "execution_count": 31,
   "id": "23abbf06-83c6-4847-bec5-3b3860c4eeb2",
   "metadata": {},
   "outputs": [],
   "source": [
    "hoods_gdf[\"type_desc\"] = hoods_gdf[\"type\"].map(type_mapping)"
   ]
  },
  {
   "cell_type": "markdown",
   "id": "12f8cea9-d5ad-4e1a-aff1-c30bb7a2a06d",
   "metadata": {},
   "source": [
    "---"
   ]
  },
  {
   "cell_type": "markdown",
   "id": "77321044-3f26-4267-981a-7745289d8008",
   "metadata": {},
   "source": [
    "#### Merge hoods with trees"
   ]
  },
  {
   "cell_type": "code",
   "execution_count": 76,
   "id": "ac05b668-67be-4278-a3db-55ee579da555",
   "metadata": {},
   "outputs": [],
   "source": [
    "lahoods_merge = (gpd.sjoin(jac_gdf, hoods_gdf, predicate=\"within\")).reset_index(\n",
    "    drop=True\n",
    ")[[\"id\", \"name\", \"type_desc\", \"city\", \"region_desc\", \"species\", \"geometry\"]]"
   ]
  },
  {
   "cell_type": "code",
   "execution_count": 77,
   "id": "ec78d70b-3637-4656-a0e4-a0014b6ed27c",
   "metadata": {},
   "outputs": [],
   "source": [
    "lahoods_merge[\"species\"] = lahoods_merge[\"species\"].str.lower()"
   ]
  },
  {
   "cell_type": "code",
   "execution_count": 78,
   "id": "ec9d2acf-78e0-4fb3-a05a-bc226d2ef14b",
   "metadata": {},
   "outputs": [],
   "source": [
    "lahoods_merge = lahoods_merge.to_crs(epsg=4326)\n",
    "lahoods_merge[\"lat\"] = lahoods_merge[\"geometry\"].y\n",
    "lahoods_merge[\"lon\"] = lahoods_merge[\"geometry\"].x"
   ]
  },
  {
   "cell_type": "code",
   "execution_count": 79,
   "id": "2eb1af40-0078-4e3f-a5e5-222a6580d224",
   "metadata": {},
   "outputs": [],
   "source": [
    "### Add a street view URL because Mapbox rejects lat/lon columns"
   ]
  },
  {
   "cell_type": "code",
   "execution_count": 80,
   "id": "181df887-5e05-4fa3-a5ed-bec06f572d31",
   "metadata": {},
   "outputs": [],
   "source": [
    "# lahoods_merge[\"street_view_url\"] = lahoods_merge.apply(\n",
    "#     lambda row: f\"http://maps.google.com/maps?q=&layer=c&cbll={row.lat},{row.lon}\",\n",
    "#     axis=1,\n",
    "# )"
   ]
  },
  {
   "cell_type": "markdown",
   "id": "207f8021-6636-445e-a241-6479a7207814",
   "metadata": {},
   "source": [
    "#### Count how many jacarandas are in each place"
   ]
  },
  {
   "cell_type": "code",
   "execution_count": 81,
   "id": "0c4dfacc-f396-49b1-94d3-7506a5cec850",
   "metadata": {},
   "outputs": [],
   "source": [
    "lahoods_counts = (\n",
    "    lahoods_merge.groupby(\"name\")[\"geometry\"]\n",
    "    .count()\n",
    "    .reset_index(name=\"jacaranda_count\")\n",
    ")"
   ]
  },
  {
   "cell_type": "markdown",
   "id": "8fb68ea4-0317-4d08-acb9-614a66561fe6",
   "metadata": {},
   "source": [
    "#### Merge that back to the geo file"
   ]
  },
  {
   "cell_type": "code",
   "execution_count": 82,
   "id": "c7461d7d-703e-4180-b09d-f11a1cbe6da4",
   "metadata": {},
   "outputs": [],
   "source": [
    "jacs_hoods = lahoods_merge.merge(lahoods_counts, on=\"name\")[\n",
    "    [\"name\", \"type_desc\", \"region_desc\", \"jacaranda_count\", \"geometry\"]\n",
    "].reset_index(drop=True)"
   ]
  },
  {
   "cell_type": "markdown",
   "id": "77c6e387-928e-42c6-8aa6-c690ba06e0c7",
   "metadata": {},
   "source": [
    "---"
   ]
  },
  {
   "cell_type": "markdown",
   "id": "12f75928-dacf-4e89-8f04-04b4c6615547",
   "metadata": {},
   "source": [
    "## Exports"
   ]
  },
  {
   "cell_type": "markdown",
   "id": "eb8769bc-1de1-40d0-9b7b-4892893606ee",
   "metadata": {},
   "source": [
    "#### GeoJSON"
   ]
  },
  {
   "cell_type": "code",
   "execution_count": 83,
   "id": "b53822d6-7aa1-42ef-87a3-3dbf64a410c7",
   "metadata": {},
   "outputs": [],
   "source": [
    "lahoods_merge.drop([\"id\", \"lat\", \"lon\"], axis=1).to_file(\n",
    "    \"../data/processed/lacounty_jacaranda_locations.geojson\",\n",
    "    driver=\"GeoJSON\",\n",
    ")"
   ]
  },
  {
   "cell_type": "code",
   "execution_count": 84,
   "id": "c2545fcc-32bc-4dd4-a6ff-dd7debfa2239",
   "metadata": {},
   "outputs": [
    {
     "data": {
      "text/html": [
       "<div>\n",
       "<style scoped>\n",
       "    .dataframe tbody tr th:only-of-type {\n",
       "        vertical-align: middle;\n",
       "    }\n",
       "\n",
       "    .dataframe tbody tr th {\n",
       "        vertical-align: top;\n",
       "    }\n",
       "\n",
       "    .dataframe thead th {\n",
       "        text-align: right;\n",
       "    }\n",
       "</style>\n",
       "<table border=\"1\" class=\"dataframe\">\n",
       "  <thead>\n",
       "    <tr style=\"text-align: right;\">\n",
       "      <th></th>\n",
       "      <th>id</th>\n",
       "      <th>name</th>\n",
       "      <th>type_desc</th>\n",
       "      <th>city</th>\n",
       "      <th>region_desc</th>\n",
       "      <th>species</th>\n",
       "      <th>geometry</th>\n",
       "      <th>lat</th>\n",
       "      <th>lon</th>\n",
       "    </tr>\n",
       "  </thead>\n",
       "  <tbody>\n",
       "    <tr>\n",
       "      <th>0</th>\n",
       "      <td>3487</td>\n",
       "      <td>Long Beach</td>\n",
       "      <td>standalone city</td>\n",
       "      <td>None</td>\n",
       "      <td>Harbor</td>\n",
       "      <td>jacaranda</td>\n",
       "      <td>POINT (-118.17322 33.77729)</td>\n",
       "      <td>33.777289</td>\n",
       "      <td>-118.173223</td>\n",
       "    </tr>\n",
       "    <tr>\n",
       "      <th>1</th>\n",
       "      <td>3586</td>\n",
       "      <td>West Hollywood</td>\n",
       "      <td>standalone city</td>\n",
       "      <td>None</td>\n",
       "      <td>Central</td>\n",
       "      <td>jacaranda</td>\n",
       "      <td>POINT (-118.36060 34.09029)</td>\n",
       "      <td>34.090291</td>\n",
       "      <td>-118.360605</td>\n",
       "    </tr>\n",
       "    <tr>\n",
       "      <th>2</th>\n",
       "      <td>3587</td>\n",
       "      <td>West Hollywood</td>\n",
       "      <td>standalone city</td>\n",
       "      <td>None</td>\n",
       "      <td>Central</td>\n",
       "      <td>jacaranda</td>\n",
       "      <td>POINT (-118.38146 34.08060)</td>\n",
       "      <td>34.080599</td>\n",
       "      <td>-118.381463</td>\n",
       "    </tr>\n",
       "    <tr>\n",
       "      <th>3</th>\n",
       "      <td>3588</td>\n",
       "      <td>West Hollywood</td>\n",
       "      <td>standalone city</td>\n",
       "      <td>None</td>\n",
       "      <td>Central</td>\n",
       "      <td>jacaranda</td>\n",
       "      <td>POINT (-118.38139 34.08046)</td>\n",
       "      <td>34.080458</td>\n",
       "      <td>-118.381393</td>\n",
       "    </tr>\n",
       "    <tr>\n",
       "      <th>4</th>\n",
       "      <td>3868</td>\n",
       "      <td>Long Beach</td>\n",
       "      <td>standalone city</td>\n",
       "      <td>None</td>\n",
       "      <td>Harbor</td>\n",
       "      <td>jacaranda</td>\n",
       "      <td>POINT (-118.17422 33.84376)</td>\n",
       "      <td>33.843760</td>\n",
       "      <td>-118.174220</td>\n",
       "    </tr>\n",
       "  </tbody>\n",
       "</table>\n",
       "</div>"
      ],
      "text/plain": [
       "     id            name        type_desc  city region_desc    species  \\\n",
       "0  3487      Long Beach  standalone city  None      Harbor  jacaranda   \n",
       "1  3586  West Hollywood  standalone city  None     Central  jacaranda   \n",
       "2  3587  West Hollywood  standalone city  None     Central  jacaranda   \n",
       "3  3588  West Hollywood  standalone city  None     Central  jacaranda   \n",
       "4  3868      Long Beach  standalone city  None      Harbor  jacaranda   \n",
       "\n",
       "                      geometry        lat         lon  \n",
       "0  POINT (-118.17322 33.77729)  33.777289 -118.173223  \n",
       "1  POINT (-118.36060 34.09029)  34.090291 -118.360605  \n",
       "2  POINT (-118.38146 34.08060)  34.080599 -118.381463  \n",
       "3  POINT (-118.38139 34.08046)  34.080458 -118.381393  \n",
       "4  POINT (-118.17422 33.84376)  33.843760 -118.174220  "
      ]
     },
     "execution_count": 84,
     "metadata": {},
     "output_type": "execute_result"
    }
   ],
   "source": [
    "lahoods_merge.head()"
   ]
  },
  {
   "cell_type": "markdown",
   "id": "7ef5be3c-2003-4a29-85f5-5a9e48e5f9c4",
   "metadata": {},
   "source": [
    "#### Upload to Mapbox"
   ]
  },
  {
   "cell_type": "code",
   "execution_count": 86,
   "id": "dca03992-749e-4c2b-9d55-13f4c781f7d1",
   "metadata": {},
   "outputs": [
    {
     "name": "stdout",
     "output_type": "stream",
     "text": [
      "Uploaded ../data/processed/lacounty_jacaranda_locations.geojson to S3 bucket tilestream-tilesets-production with key 84/_pending/77rvr91y1ot12jofxytp0uwlc/stiles\n",
      "Tileset generation request sent successfully.\n",
      "{'id': 'clwu0q5858hij1vs26p1cdwoi', 'name': 'jacaranda_tree_locations', 'complete': False, 'error': None, 'created': '2024-05-31T01:41:26.163Z', 'modified': '2024-05-31T01:41:26.163Z', 'tileset': 'stiles.jacaranda_tree_locations_v3', 'owner': 'stiles', 'progress': 0}\n"
     ]
    }
   ],
   "source": [
    "# Replace with your Mapbox access token\n",
    "access_token = mapbox_key\n",
    "params = {\"access_token\": access_token}\n",
    "\n",
    "# Request S3 credentials to stage file\n",
    "r = requests.post(\"https://api.mapbox.com/uploads/v1/stiles/credentials\", params=params)\n",
    "\n",
    "try:\n",
    "    r.raise_for_status()\n",
    "except requests.exceptions.HTTPError as err:\n",
    "    print(f\"Error uploading the GeoJSON file.\")\n",
    "    raise\n",
    "\n",
    "creds = r.json()\n",
    "\n",
    "# Path to your GeoJSON file\n",
    "geojson_file_path = \"../data/processed/lacounty_jacaranda_locations.geojson\"\n",
    "\n",
    "# Remove the 'crs' member from the GeoJSON\n",
    "with open(geojson_file_path, \"r\") as f:\n",
    "    geojson_data = json.load(f)\n",
    "\n",
    "if \"crs\" in geojson_data:\n",
    "    del geojson_data[\"crs\"]\n",
    "\n",
    "with open(geojson_file_path, \"w\") as f:\n",
    "    json.dump(geojson_data, f)\n",
    "\n",
    "# Upload file to S3\n",
    "with open(geojson_file_path, \"rb\") as f:\n",
    "    s3_client = boto3.client(\n",
    "        \"s3\",\n",
    "        aws_access_key_id=creds[\"accessKeyId\"],\n",
    "        aws_secret_access_key=creds[\"secretAccessKey\"],\n",
    "        aws_session_token=creds[\"sessionToken\"],\n",
    "    )\n",
    "    s3_client.upload_fileobj(f, creds[\"bucket\"], creds[\"key\"])\n",
    "    print(\n",
    "        f\"Uploaded {geojson_file_path} to S3 bucket {creds['bucket']} with key {creds['key']}\"\n",
    "    )\n",
    "\n",
    "# Generate Tileset\n",
    "headers = {\"Cache-Control\": \"no-cache\"}\n",
    "payload = {\n",
    "    \"url\": creds[\"url\"],\n",
    "    \"tileset\": \"stiles.jacaranda_tree_locations_v3\",  # Use a new unique ID for the new tileset\n",
    "    \"name\": \"jacaranda_tree_locations\",\n",
    "}\n",
    "s = requests.post(\n",
    "    \"https://api.mapbox.com/uploads/v1/stiles\",\n",
    "    params=params,\n",
    "    headers=headers,\n",
    "    json=payload,\n",
    ")\n",
    "\n",
    "try:\n",
    "    s.raise_for_status()\n",
    "except requests.exceptions.HTTPError as err:\n",
    "    print(f\"Error generating tileset.\")\n",
    "    raise\n",
    "\n",
    "print(\"Tileset generation request sent successfully.\")\n",
    "print(s.json())"
   ]
  },
  {
   "cell_type": "code",
   "execution_count": null,
   "id": "fb4001ae-6192-4038-890c-bb08f00f844c",
   "metadata": {},
   "outputs": [],
   "source": []
  }
 ],
 "metadata": {
  "kernelspec": {
   "display_name": "Python 3 (ipykernel)",
   "language": "python",
   "name": "python3"
  },
  "language_info": {
   "codemirror_mode": {
    "name": "ipython",
    "version": 3
   },
   "file_extension": ".py",
   "mimetype": "text/x-python",
   "name": "python",
   "nbconvert_exporter": "python",
   "pygments_lexer": "ipython3",
   "version": "3.10.15"
  }
 },
 "nbformat": 4,
 "nbformat_minor": 5
}
